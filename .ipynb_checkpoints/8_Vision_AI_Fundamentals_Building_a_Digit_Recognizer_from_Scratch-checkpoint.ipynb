{
 "cells": [
  {
   "cell_type": "markdown",
   "metadata": {
    "id": "3f3e26de"
   },
   "source": [
    "# Fashion-MNIST Classification Project\n",
    "\n",
    "This project aims to build and compare different deep learning models for classifying images from the Fashion-MNIST dataset. We will explore the impact of increasing model complexity, from a simple Artificial Neural Network (ANN) to more sophisticated Convolutional Neural Networks (CNNs), on performance and efficiency.\n",
    "\n",
    "**Project Agenda & Steps:**\n",
    "\n",
    "1.  **Dataset Setup:**\n",
    "    *   Import necessary libraries.\n",
    "    *   Load the Fashion-MNIST dataset.\n",
    "    *   Preprocess the data (normalize and reshape images, one-hot encode labels).\n",
    "    *   Verify the shapes of the processed data.\n",
    "\n",
    "2.  **Model Building:**\n",
    "    *   Define the architecture for each model:\n",
    "        *   Basic ANN Model\n",
    "        *   Basic CNN Model\n",
    "        *   Deeper CNN Model\n",
    "\n",
    "3.  **Model Training:**\n",
    "    *   Train each model using the prepared training data.\n",
    "    *   Implement Early Stopping and Model Checkpointing to optimize training and save the best model weights.\n",
    "\n",
    "4.  **Model Evaluation:**\n",
    "    *   Load the best weights for each trained model.\n",
    "    *   Evaluate each model's performance on the test set using metrics like loss and accuracy.\n",
    "    *   Visualize the training history (accuracy and loss curves) for comparison.\n",
    "    *   Generate and visualize confusion matrices to understand model performance on each class.\n",
    "\n",
    "5.  **Prediction Analysis:**\n",
    "    *   Use the best performing model (Basic CNN in this case) to make predictions on the test set.\n",
    "    *   Identify and visualize examples of both correctly and incorrectly classified images to gain insights into model behavior.\n",
    "\n",
    "**Goal:** To analyze and demonstrate how model complexity influences classification accuracy and efficiency on the Fashion-MNIST dataset."
   ]
  },
  {
   "cell_type": "markdown",
   "metadata": {
    "id": "GtKuH4KkTtE4"
   },
   "source": [
    "### 1. Dataset Setup Documentation"
   ]
  },
  {
   "cell_type": "markdown",
   "metadata": {
    "id": "JRkB4PzvYkFt"
   },
   "source": [
    "#### 1.1) Library Imports\n",
    "\n",
    "This section imports the essential libraries:  \n",
    "- **NumPy** for numerical operations  \n",
    "- **TensorFlow / Keras** for building and training deep learning models  \n",
    "- **Matplotlib** for visualizations  "
   ]
  },
  {
   "cell_type": "code",
   "execution_count": 1,
   "metadata": {},
   "outputs": [
    {
     "name": "stdout",
     "output_type": "stream",
     "text": [
      "Requirement already satisfied: tensorflow in /opt/anaconda3/lib/python3.13/site-packages (2.20.0)\n",
      "Requirement already satisfied: absl-py>=1.0.0 in /opt/anaconda3/lib/python3.13/site-packages (from tensorflow) (2.3.1)\n",
      "Requirement already satisfied: astunparse>=1.6.0 in /opt/anaconda3/lib/python3.13/site-packages (from tensorflow) (1.6.3)\n",
      "Requirement already satisfied: flatbuffers>=24.3.25 in /opt/anaconda3/lib/python3.13/site-packages (from tensorflow) (25.9.23)\n",
      "Requirement already satisfied: gast!=0.5.0,!=0.5.1,!=0.5.2,>=0.2.1 in /opt/anaconda3/lib/python3.13/site-packages (from tensorflow) (0.6.0)\n",
      "Requirement already satisfied: google_pasta>=0.1.1 in /opt/anaconda3/lib/python3.13/site-packages (from tensorflow) (0.2.0)\n",
      "Requirement already satisfied: libclang>=13.0.0 in /opt/anaconda3/lib/python3.13/site-packages (from tensorflow) (18.1.1)\n",
      "Requirement already satisfied: opt_einsum>=2.3.2 in /opt/anaconda3/lib/python3.13/site-packages (from tensorflow) (3.4.0)\n",
      "Requirement already satisfied: packaging in /opt/anaconda3/lib/python3.13/site-packages (from tensorflow) (24.2)\n",
      "Requirement already satisfied: protobuf>=5.28.0 in /opt/anaconda3/lib/python3.13/site-packages (from tensorflow) (5.29.3)\n",
      "Requirement already satisfied: requests<3,>=2.21.0 in /opt/anaconda3/lib/python3.13/site-packages (from tensorflow) (2.32.3)\n",
      "Requirement already satisfied: setuptools in /opt/anaconda3/lib/python3.13/site-packages (from tensorflow) (72.1.0)\n",
      "Requirement already satisfied: six>=1.12.0 in /opt/anaconda3/lib/python3.13/site-packages (from tensorflow) (1.17.0)\n",
      "Requirement already satisfied: termcolor>=1.1.0 in /opt/anaconda3/lib/python3.13/site-packages (from tensorflow) (3.1.0)\n",
      "Requirement already satisfied: typing_extensions>=3.6.6 in /opt/anaconda3/lib/python3.13/site-packages (from tensorflow) (4.12.2)\n",
      "Requirement already satisfied: wrapt>=1.11.0 in /opt/anaconda3/lib/python3.13/site-packages (from tensorflow) (1.17.0)\n",
      "Requirement already satisfied: grpcio<2.0,>=1.24.3 in /opt/anaconda3/lib/python3.13/site-packages (from tensorflow) (1.75.1)\n",
      "Requirement already satisfied: tensorboard~=2.20.0 in /opt/anaconda3/lib/python3.13/site-packages (from tensorflow) (2.20.0)\n",
      "Requirement already satisfied: keras>=3.10.0 in /opt/anaconda3/lib/python3.13/site-packages (from tensorflow) (3.11.3)\n",
      "Requirement already satisfied: numpy>=1.26.0 in /opt/anaconda3/lib/python3.13/site-packages (from tensorflow) (2.1.3)\n",
      "Requirement already satisfied: h5py>=3.11.0 in /opt/anaconda3/lib/python3.13/site-packages (from tensorflow) (3.12.1)\n",
      "Requirement already satisfied: ml_dtypes<1.0.0,>=0.5.1 in /opt/anaconda3/lib/python3.13/site-packages (from tensorflow) (0.5.3)\n",
      "Requirement already satisfied: charset-normalizer<4,>=2 in /opt/anaconda3/lib/python3.13/site-packages (from requests<3,>=2.21.0->tensorflow) (3.3.2)\n",
      "Requirement already satisfied: idna<4,>=2.5 in /opt/anaconda3/lib/python3.13/site-packages (from requests<3,>=2.21.0->tensorflow) (3.7)\n",
      "Requirement already satisfied: urllib3<3,>=1.21.1 in /opt/anaconda3/lib/python3.13/site-packages (from requests<3,>=2.21.0->tensorflow) (2.3.0)\n",
      "Requirement already satisfied: certifi>=2017.4.17 in /opt/anaconda3/lib/python3.13/site-packages (from requests<3,>=2.21.0->tensorflow) (2025.8.3)\n",
      "Requirement already satisfied: markdown>=2.6.8 in /opt/anaconda3/lib/python3.13/site-packages (from tensorboard~=2.20.0->tensorflow) (3.8)\n",
      "Requirement already satisfied: pillow in /opt/anaconda3/lib/python3.13/site-packages (from tensorboard~=2.20.0->tensorflow) (11.1.0)\n",
      "Requirement already satisfied: tensorboard-data-server<0.8.0,>=0.7.0 in /opt/anaconda3/lib/python3.13/site-packages (from tensorboard~=2.20.0->tensorflow) (0.7.2)\n",
      "Requirement already satisfied: werkzeug>=1.0.1 in /opt/anaconda3/lib/python3.13/site-packages (from tensorboard~=2.20.0->tensorflow) (3.1.3)\n",
      "Requirement already satisfied: wheel<1.0,>=0.23.0 in /opt/anaconda3/lib/python3.13/site-packages (from astunparse>=1.6.0->tensorflow) (0.45.1)\n",
      "Requirement already satisfied: rich in /opt/anaconda3/lib/python3.13/site-packages (from keras>=3.10.0->tensorflow) (13.9.4)\n",
      "Requirement already satisfied: namex in /opt/anaconda3/lib/python3.13/site-packages (from keras>=3.10.0->tensorflow) (0.1.0)\n",
      "Requirement already satisfied: optree in /opt/anaconda3/lib/python3.13/site-packages (from keras>=3.10.0->tensorflow) (0.17.0)\n",
      "Requirement already satisfied: MarkupSafe>=2.1.1 in /opt/anaconda3/lib/python3.13/site-packages (from werkzeug>=1.0.1->tensorboard~=2.20.0->tensorflow) (3.0.2)\n",
      "Requirement already satisfied: markdown-it-py>=2.2.0 in /opt/anaconda3/lib/python3.13/site-packages (from rich->keras>=3.10.0->tensorflow) (2.2.0)\n",
      "Requirement already satisfied: pygments<3.0.0,>=2.13.0 in /opt/anaconda3/lib/python3.13/site-packages (from rich->keras>=3.10.0->tensorflow) (2.19.1)\n",
      "Requirement already satisfied: mdurl~=0.1 in /opt/anaconda3/lib/python3.13/site-packages (from markdown-it-py>=2.2.0->rich->keras>=3.10.0->tensorflow) (0.1.0)\n",
      "Note: you may need to restart the kernel to use updated packages.\n"
     ]
    }
   ],
   "source": [
    "pip install tensorflow"
   ]
  },
  {
   "cell_type": "code",
   "execution_count": null,
   "metadata": {},
   "outputs": [],
   "source": [
    "import tensorflow as tf\n",
    "print(tf.__version__)"
   ]
  },
  {
   "cell_type": "code",
   "execution_count": null,
   "metadata": {},
   "outputs": [],
   "source": []
  },
  {
   "cell_type": "code",
   "execution_count": null,
   "metadata": {},
   "outputs": [],
   "source": []
  },
  {
   "cell_type": "code",
   "execution_count": 8,
   "metadata": {},
   "outputs": [
    {
     "name": "stdout",
     "output_type": "stream",
     "text": [
      "Collecting numpy==2.0.1\n",
      "  Downloading numpy-2.0.1.tar.gz (18.9 MB)\n",
      "\u001b[2K     \u001b[38;2;114;156;31m━━━━━━━━━━━━━━━━━━━━━━━━━━━━━━━━━━━━━━━━\u001b[0m \u001b[32m18.9/18.9 MB\u001b[0m \u001b[31m29.5 MB/s\u001b[0m eta \u001b[36m0:00:00\u001b[0m MB/s\u001b[0m eta \u001b[36m0:00:01\u001b[0m01\u001b[0m\n",
      "  Installing build dependencies ... \u001b[done\n",
      "\u001b[?25h  Getting requirements to build wheel ... \u001b[?25ldone\n",
      "\u001b[?25h  Installing backend dependencies ... \u001b[?25done\n",
      "error\n",
      "  \u001b[1;31merror\u001b[0m: \u001b[1msubprocess-exited-with-error\u001b[0m\n",
      "  \n",
      "  \u001b[31m×\u001b[0m \u001b[32mPreparing metadata \u001b[0m\u001b[1;32m(\u001b[0m\u001b[32mpyproject.toml\u001b[0m\u001b[1;32m)\u001b[0m did not run successfully.\n",
      "  \u001b[31m│\u001b[0m exit code: \u001b[1;36m1\u001b[0m\n",
      "  \u001b[31m╰─>\u001b[0m \u001b[31m[633 lines of output]\u001b[0m\n",
      "  \u001b[31m   \u001b[0m \u001b[36m\u001b[1m+ /opt/anaconda3/bin/python /private/var/folders/12/04r1v9hx1zxbpbg59474cfc00000gn/T/pip-install-vil7qxkl/numpy_46ecba9761904723a113e1208ed87741/vendored-meson/meson/meson.py setup /private/var/folders/12/04r1v9hx1zxbpbg59474cfc00000gn/T/pip-install-vil7qxkl/numpy_46ecba9761904723a113e1208ed87741 /private/var/folders/12/04r1v9hx1zxbpbg59474cfc00000gn/T/pip-install-vil7qxkl/numpy_46ecba9761904723a113e1208ed87741/.mesonpy-32woe41m -Dbuildtype=release -Db_ndebug=if-release -Db_vscrt=md --native-file=/private/var/folders/12/04r1v9hx1zxbpbg59474cfc00000gn/T/pip-install-vil7qxkl/numpy_46ecba9761904723a113e1208ed87741/.mesonpy-32woe41m/meson-python-native-file.ini\u001b[0m\n",
      "  \u001b[31m   \u001b[0m The Meson build system\n",
      "  \u001b[31m   \u001b[0m Version: 1.4.99\n",
      "  \u001b[31m   \u001b[0m Source dir: /private/var/folders/12/04r1v9hx1zxbpbg59474cfc00000gn/T/pip-install-vil7qxkl/numpy_46ecba9761904723a113e1208ed87741\n",
      "  \u001b[31m   \u001b[0m Build dir: /private/var/folders/12/04r1v9hx1zxbpbg59474cfc00000gn/T/pip-install-vil7qxkl/numpy_46ecba9761904723a113e1208ed87741/.mesonpy-32woe41m\n",
      "  \u001b[31m   \u001b[0m Build type: native build\n",
      "  \u001b[31m   \u001b[0m Project name: NumPy\n",
      "  \u001b[31m   \u001b[0m Project version: 2.0.1\n",
      "  \u001b[31m   \u001b[0m C compiler for the host machine: cc (clang 17.0.0 \"Apple clang version 17.0.0 (clang-1700.0.13.5)\")\n",
      "  \u001b[31m   \u001b[0m C linker for the host machine: cc ld64 1167.5\n",
      "  \u001b[31m   \u001b[0m C++ compiler for the host machine: c++ (clang 17.0.0 \"Apple clang version 17.0.0 (clang-1700.0.13.5)\")\n",
      "  \u001b[31m   \u001b[0m C++ linker for the host machine: c++ ld64 1167.5\n",
      "  \u001b[31m   \u001b[0m Cython compiler for the host machine: cython (cython 3.1.4)\n",
      "  \u001b[31m   \u001b[0m Host machine cpu family: aarch64\n",
      "  \u001b[31m   \u001b[0m Host machine cpu: aarch64\n",
      "  \u001b[31m   \u001b[0m Program python found: YES (/opt/anaconda3/bin/python)\n",
      "  \u001b[31m   \u001b[0m Did not find pkg-config by name 'pkg-config'\n",
      "  \u001b[31m   \u001b[0m Found pkg-config: NO\n",
      "  \u001b[31m   \u001b[0m Run-time dependency python found: YES 3.13\n",
      "  \u001b[31m   \u001b[0m Has header \"Python.h\" with dependency python: YES\n",
      "  \u001b[31m   \u001b[0m Compiler for C supports arguments -fno-strict-aliasing: YES\n",
      "  \u001b[31m   \u001b[0m Compiler for C supports arguments -ftrapping-math: YES\n",
      "  \u001b[31m   \u001b[0m Compiler for C supports link arguments -Wl,-ld_classic: YES\n",
      "  \u001b[31m   \u001b[0m Message: During parsing cpu-dispatch: The following CPU features were ignored due to platform incompatibility or lack of support:\n",
      "  \u001b[31m   \u001b[0m \"XOP FMA4\"\n",
      "  \u001b[31m   \u001b[0m Test features \"NEON NEON_FP16 NEON_VFPV4 ASIMD\" : Supported\n",
      "  \u001b[31m   \u001b[0m Test features \"ASIMDHP\" : Supported\n",
      "  \u001b[31m   \u001b[0m Test features \"ASIMDFHM\" : Supported\n",
      "  \u001b[31m   \u001b[0m Test features \"SVE\" : Supported\n",
      "  \u001b[31m   \u001b[0m Configuring npy_cpu_dispatch_config.h using configuration\n",
      "  \u001b[31m   \u001b[0m Message:\n",
      "  \u001b[31m   \u001b[0m CPU Optimization Options\n",
      "  \u001b[31m   \u001b[0m   baseline:\n",
      "  \u001b[31m   \u001b[0m     Requested : min\n",
      "  \u001b[31m   \u001b[0m     Enabled   : NEON NEON_FP16 NEON_VFPV4 ASIMD\n",
      "  \u001b[31m   \u001b[0m   dispatch:\n",
      "  \u001b[31m   \u001b[0m     Requested : max -xop -fma4\n",
      "  \u001b[31m   \u001b[0m     Enabled   : ASIMDHP ASIMDFHM SVE\n",
      "  \u001b[31m   \u001b[0m \n",
      "  \u001b[31m   \u001b[0m Library m found: YES\n",
      "  \u001b[31m   \u001b[0m Run-time dependency scipy-openblas found: NO (tried pkgconfig)\n",
      "  \u001b[31m   \u001b[0m Run-time dependency accelerate found: YES\n",
      "  \u001b[31m   \u001b[0m ../numpy/meson.build:135: WARNING: Project targets '>=1.2.99' but uses feature introduced in '1.3.0': dep 'accelerate' custom lookup.\n",
      "  \u001b[31m   \u001b[0m Message: BLAS symbol suffix: $NEWLAPACK\n",
      "  \u001b[31m   \u001b[0m Program _build_utils/process_src_template.py found: YES (/opt/anaconda3/bin/python /private/var/folders/12/04r1v9hx1zxbpbg59474cfc00000gn/T/pip-install-vil7qxkl/numpy_46ecba9761904723a113e1208ed87741/numpy/_build_utils/process_src_template.py)\n",
      "  \u001b[31m   \u001b[0m Program _build_utils/tempita.py found: YES (/opt/anaconda3/bin/python /private/var/folders/12/04r1v9hx1zxbpbg59474cfc00000gn/T/pip-install-vil7qxkl/numpy_46ecba9761904723a113e1208ed87741/numpy/_build_utils/tempita.py)\n",
      "  \u001b[31m   \u001b[0m Configuring __config__.py using configuration\n",
      "  \u001b[31m   \u001b[0m Checking for size of \"short\" : 2\n",
      "  \u001b[31m   \u001b[0m Checking for size of \"int\" : 4\n",
      "  \u001b[31m   \u001b[0m Checking for size of \"long\" : 8\n",
      "  \u001b[31m   \u001b[0m Checking for size of \"long long\" : 8\n",
      "  \u001b[31m   \u001b[0m Checking for size of \"float\" : 4\n",
      "  \u001b[31m   \u001b[0m Checking for size of \"double\" : 8\n",
      "  \u001b[31m   \u001b[0m Checking for size of \"long double\" : 8\n",
      "  \u001b[31m   \u001b[0m Checking for size of \"size_t\" : 8\n",
      "  \u001b[31m   \u001b[0m Checking for size of \"size_t\" : 8 (cached)\n",
      "  \u001b[31m   \u001b[0m Checking for size of \"wchar_t\" : 4\n",
      "  \u001b[31m   \u001b[0m Checking for size of \"off_t\" : 8\n",
      "  \u001b[31m   \u001b[0m Checking for size of \"Py_intptr_t\" with dependency python: 8\n",
      "  \u001b[31m   \u001b[0m Checking for size of \"PY_LONG_LONG\" with dependency python: 8\n",
      "  \u001b[31m   \u001b[0m Has header \"complex.h\" : YES\n",
      "  \u001b[31m   \u001b[0m Checking for type \"complex float\" : YES\n",
      "  \u001b[31m   \u001b[0m Checking for size of \"complex float\" : 8\n",
      "  \u001b[31m   \u001b[0m Checking for type \"complex double\" : YES\n",
      "  \u001b[31m   \u001b[0m Checking for size of \"complex double\" : 16\n",
      "  \u001b[31m   \u001b[0m Checking for type \"complex long double\" : YES\n",
      "  \u001b[31m   \u001b[0m Checking for size of \"complex long double\" : 16\n",
      "  \u001b[31m   \u001b[0m Checking for function \"sin\" with dependency -lm: YES\n",
      "  \u001b[31m   \u001b[0m Checking for function \"cos\" with dependency -lm: YES\n",
      "  \u001b[31m   \u001b[0m Checking for function \"tan\" with dependency -lm: YES\n",
      "  \u001b[31m   \u001b[0m Checking for function \"sinh\" with dependency -lm: YES\n",
      "  \u001b[31m   \u001b[0m Checking for function \"cosh\" with dependency -lm: YES\n",
      "  \u001b[31m   \u001b[0m Checking for function \"tanh\" with dependency -lm: YES\n",
      "  \u001b[31m   \u001b[0m Checking for function \"fabs\" with dependency -lm: YES\n",
      "  \u001b[31m   \u001b[0m Checking for function \"floor\" with dependency -lm: YES\n",
      "  \u001b[31m   \u001b[0m Checking for function \"ceil\" with dependency -lm: YES\n",
      "  \u001b[31m   \u001b[0m Checking for function \"sqrt\" with dependency -lm: YES\n",
      "  \u001b[31m   \u001b[0m Checking for function \"log10\" with dependency -lm: YES\n",
      "  \u001b[31m   \u001b[0m Checking for function \"log\" with dependency -lm: YES\n",
      "  \u001b[31m   \u001b[0m Checking for function \"exp\" with dependency -lm: YES\n",
      "  \u001b[31m   \u001b[0m Checking for function \"asin\" with dependency -lm: YES\n",
      "  \u001b[31m   \u001b[0m Checking for function \"acos\" with dependency -lm: YES\n",
      "  \u001b[31m   \u001b[0m Checking for function \"atan\" with dependency -lm: YES\n",
      "  \u001b[31m   \u001b[0m Checking for function \"fmod\" with dependency -lm: YES\n",
      "  \u001b[31m   \u001b[0m Checking for function \"modf\" with dependency -lm: YES\n",
      "  \u001b[31m   \u001b[0m Checking for function \"frexp\" with dependency -lm: YES\n",
      "  \u001b[31m   \u001b[0m Checking for function \"ldexp\" with dependency -lm: YES\n",
      "  \u001b[31m   \u001b[0m Checking for function \"expm1\" with dependency -lm: YES\n",
      "  \u001b[31m   \u001b[0m Checking for function \"log1p\" with dependency -lm: YES\n",
      "  \u001b[31m   \u001b[0m Checking for function \"acosh\" with dependency -lm: YES\n",
      "  \u001b[31m   \u001b[0m Checking for function \"asinh\" with dependency -lm: YES\n",
      "  \u001b[31m   \u001b[0m Checking for function \"atanh\" with dependency -lm: YES\n",
      "  \u001b[31m   \u001b[0m Checking for function \"rint\" with dependency -lm: YES\n",
      "  \u001b[31m   \u001b[0m Checking for function \"trunc\" with dependency -lm: YES\n",
      "  \u001b[31m   \u001b[0m Checking for function \"exp2\" with dependency -lm: YES\n",
      "  \u001b[31m   \u001b[0m Checking for function \"copysign\" with dependency -lm: YES\n",
      "  \u001b[31m   \u001b[0m Checking for function \"nextafter\" with dependency -lm: YES\n",
      "  \u001b[31m   \u001b[0m Checking for function \"cbrt\" with dependency -lm: YES\n",
      "  \u001b[31m   \u001b[0m Checking for function \"log2\" with dependency -lm: YES\n",
      "  \u001b[31m   \u001b[0m Checking for function \"pow\" with dependency -lm: YES\n",
      "  \u001b[31m   \u001b[0m Checking for function \"hypot\" with dependency -lm: YES\n",
      "  \u001b[31m   \u001b[0m Checking for function \"atan2\" with dependency -lm: YES\n",
      "  \u001b[31m   \u001b[0m Checking for function \"csin\" with dependency -lm: YES\n",
      "  \u001b[31m   \u001b[0m Checking for function \"csinh\" with dependency -lm: YES\n",
      "  \u001b[31m   \u001b[0m Checking for function \"ccos\" with dependency -lm: YES\n",
      "  \u001b[31m   \u001b[0m Checking for function \"ccosh\" with dependency -lm: YES\n",
      "  \u001b[31m   \u001b[0m Checking for function \"ctan\" with dependency -lm: YES\n",
      "  \u001b[31m   \u001b[0m Checking for function \"ctanh\" with dependency -lm: YES\n",
      "  \u001b[31m   \u001b[0m Checking for function \"creal\" with dependency -lm: YES\n",
      "  \u001b[31m   \u001b[0m Checking for function \"cimag\" with dependency -lm: YES\n",
      "  \u001b[31m   \u001b[0m Checking for function \"conj\" with dependency -lm: YES\n",
      "  \u001b[31m   \u001b[0m Checking for function \"strtoll\" : YES\n",
      "  \u001b[31m   \u001b[0m Checking for function \"strtoull\" : YES\n",
      "  \u001b[31m   \u001b[0m Checking for function \"cabs\" with dependency -lm: YES\n",
      "  \u001b[31m   \u001b[0m Checking for function \"cabsf\" with dependency -lm: YES\n",
      "  \u001b[31m   \u001b[0m Checking for function \"cabsl\" with dependency -lm: YES\n",
      "  \u001b[31m   \u001b[0m Checking for function \"cacos\" with dependency -lm: YES\n",
      "  \u001b[31m   \u001b[0m Checking for function \"cacosf\" with dependency -lm: YES\n",
      "  \u001b[31m   \u001b[0m Checking for function \"cacosl\" with dependency -lm: YES\n",
      "  \u001b[31m   \u001b[0m Checking for function \"cacosh\" with dependency -lm: YES\n",
      "  \u001b[31m   \u001b[0m Checking for function \"cacoshf\" with dependency -lm: YES\n",
      "  \u001b[31m   \u001b[0m Checking for function \"cacoshl\" with dependency -lm: YES\n",
      "  \u001b[31m   \u001b[0m Checking for function \"carg\" with dependency -lm: YES\n",
      "  \u001b[31m   \u001b[0m Checking for function \"cargf\" with dependency -lm: YES\n",
      "  \u001b[31m   \u001b[0m Checking for function \"cargl\" with dependency -lm: YES\n",
      "  \u001b[31m   \u001b[0m Checking for function \"casin\" with dependency -lm: YES\n",
      "  \u001b[31m   \u001b[0m Checking for function \"casinf\" with dependency -lm: YES\n",
      "  \u001b[31m   \u001b[0m Checking for function \"casinl\" with dependency -lm: YES\n",
      "  \u001b[31m   \u001b[0m Checking for function \"casinh\" with dependency -lm: YES\n",
      "  \u001b[31m   \u001b[0m Checking for function \"casinhf\" with dependency -lm: YES\n",
      "  \u001b[31m   \u001b[0m Checking for function \"casinhl\" with dependency -lm: YES\n",
      "  \u001b[31m   \u001b[0m Checking for function \"catan\" with dependency -lm: YES\n",
      "  \u001b[31m   \u001b[0m Checking for function \"catanf\" with dependency -lm: YES\n",
      "  \u001b[31m   \u001b[0m Checking for function \"catanl\" with dependency -lm: YES\n",
      "  \u001b[31m   \u001b[0m Checking for function \"catanh\" with dependency -lm: YES\n",
      "  \u001b[31m   \u001b[0m Checking for function \"catanhf\" with dependency -lm: YES\n",
      "  \u001b[31m   \u001b[0m Checking for function \"catanhl\" with dependency -lm: YES\n",
      "  \u001b[31m   \u001b[0m Checking for function \"cexp\" with dependency -lm: YES\n",
      "  \u001b[31m   \u001b[0m Checking for function \"cexpf\" with dependency -lm: YES\n",
      "  \u001b[31m   \u001b[0m Checking for function \"cexpl\" with dependency -lm: YES\n",
      "  \u001b[31m   \u001b[0m Checking for function \"clog\" with dependency -lm: YES\n",
      "  \u001b[31m   \u001b[0m Checking for function \"clogf\" with dependency -lm: YES\n",
      "  \u001b[31m   \u001b[0m Checking for function \"clogl\" with dependency -lm: YES\n",
      "  \u001b[31m   \u001b[0m Checking for function \"cpow\" with dependency -lm: YES\n",
      "  \u001b[31m   \u001b[0m Checking for function \"cpowf\" with dependency -lm: YES\n",
      "  \u001b[31m   \u001b[0m Checking for function \"cpowl\" with dependency -lm: YES\n",
      "  \u001b[31m   \u001b[0m Checking for function \"csqrt\" with dependency -lm: YES\n",
      "  \u001b[31m   \u001b[0m Checking for function \"csqrtf\" with dependency -lm: YES\n",
      "  \u001b[31m   \u001b[0m Checking for function \"csqrtl\" with dependency -lm: YES\n",
      "  \u001b[31m   \u001b[0m Checking for function \"csin\" with dependency -lm: YES (cached)\n",
      "  \u001b[31m   \u001b[0m Checking for function \"csinf\" with dependency -lm: YES\n",
      "  \u001b[31m   \u001b[0m Checking for function \"csinl\" with dependency -lm: YES\n",
      "  \u001b[31m   \u001b[0m Checking for function \"csinh\" with dependency -lm: YES (cached)\n",
      "  \u001b[31m   \u001b[0m Checking for function \"csinhf\" with dependency -lm: YES\n",
      "  \u001b[31m   \u001b[0m Checking for function \"csinhl\" with dependency -lm: YES\n",
      "  \u001b[31m   \u001b[0m Checking for function \"ccos\" with dependency -lm: YES (cached)\n",
      "  \u001b[31m   \u001b[0m Checking for function \"ccosf\" with dependency -lm: YES\n",
      "  \u001b[31m   \u001b[0m Checking for function \"ccosl\" with dependency -lm: YES\n",
      "  \u001b[31m   \u001b[0m Checking for function \"ccosh\" with dependency -lm: YES (cached)\n",
      "  \u001b[31m   \u001b[0m Checking for function \"ccoshf\" with dependency -lm: YES\n",
      "  \u001b[31m   \u001b[0m Checking for function \"ccoshl\" with dependency -lm: YES\n",
      "  \u001b[31m   \u001b[0m Checking for function \"ctan\" with dependency -lm: YES (cached)\n",
      "  \u001b[31m   \u001b[0m Checking for function \"ctanf\" with dependency -lm: YES\n",
      "  \u001b[31m   \u001b[0m Checking for function \"ctanl\" with dependency -lm: YES\n",
      "  \u001b[31m   \u001b[0m Checking for function \"ctanh\" with dependency -lm: YES (cached)\n",
      "  \u001b[31m   \u001b[0m Checking for function \"ctanhf\" with dependency -lm: YES\n",
      "  \u001b[31m   \u001b[0m Checking for function \"ctanhl\" with dependency -lm: YES\n",
      "  \u001b[31m   \u001b[0m Checking for function \"isfinite\" with dependency -lm: YES\n",
      "  \u001b[31m   \u001b[0m Header \"Python.h\" has symbol \"isfinite\" with dependency python: YES\n",
      "  \u001b[31m   \u001b[0m Checking for function \"isinf\" with dependency -lm: YES\n",
      "  \u001b[31m   \u001b[0m Header \"Python.h\" has symbol \"isinf\" with dependency python: YES\n",
      "  \u001b[31m   \u001b[0m Checking for function \"isnan\" with dependency -lm: YES\n",
      "  \u001b[31m   \u001b[0m Header \"Python.h\" has symbol \"isnan\" with dependency python: YES\n",
      "  \u001b[31m   \u001b[0m Checking for function \"signbit\" with dependency -lm: YES\n",
      "  \u001b[31m   \u001b[0m Header \"Python.h\" has symbol \"signbit\" with dependency python: YES\n",
      "  \u001b[31m   \u001b[0m Checking for function \"fallocate\" : NO\n",
      "  \u001b[31m   \u001b[0m Header \"Python.h\" has symbol \"HAVE_FTELLO\" with dependency python: YES\n",
      "  \u001b[31m   \u001b[0m Header \"Python.h\" has symbol \"HAVE_FSEEKO\" with dependency python: YES\n",
      "  \u001b[31m   \u001b[0m Checking for function \"backtrace\" : YES\n",
      "  \u001b[31m   \u001b[0m Checking for function \"madvise\" : YES\n",
      "  \u001b[31m   \u001b[0m Has header \"features.h\" : NO\n",
      "  \u001b[31m   \u001b[0m Has header \"xlocale.h\" : YES\n",
      "  \u001b[31m   \u001b[0m Has header \"dlfcn.h\" : YES\n",
      "  \u001b[31m   \u001b[0m Has header \"execinfo.h\" : YES\n",
      "  \u001b[31m   \u001b[0m Has header \"libunwind.h\" : YES\n",
      "  \u001b[31m   \u001b[0m Has header \"sys/mman.h\" : YES\n",
      "  \u001b[31m   \u001b[0m Checking for function \"strtold_l\" : YES\n",
      "  \u001b[31m   \u001b[0m Compiler for C supports arguments -O3: YES\n",
      "  \u001b[31m   \u001b[0m Has header \"endian.h\" : NO\n",
      "  \u001b[31m   \u001b[0m Has header \"sys/endian.h\" : NO\n",
      "  \u001b[31m   \u001b[0m Compiler for C supports function attribute visibility:hidden: YES\n",
      "  \u001b[31m   \u001b[0m Configuring config.h using configuration\n",
      "  \u001b[31m   \u001b[0m Configuring _numpyconfig.h using configuration\n",
      "  \u001b[31m   \u001b[0m Configuring npymath.ini using configuration\n",
      "  \u001b[31m   \u001b[0m Configuring mlib.ini using configuration\n",
      "  \u001b[31m   \u001b[0m Configuring numpy.pc using configuration\n",
      "  \u001b[31m   \u001b[0m Generating multi-targets for \"_umath_tests.dispatch.h\"\n",
      "  \u001b[31m   \u001b[0m   Enabled targets: ASIMDHP, baseline\n",
      "  \u001b[31m   \u001b[0m Generating multi-targets for \"argfunc.dispatch.h\"\n",
      "  \u001b[31m   \u001b[0m   Enabled targets: baseline\n",
      "  \u001b[31m   \u001b[0m Generating multi-targets for \"x86_simd_argsort.dispatch.h\"\n",
      "  \u001b[31m   \u001b[0m   Enabled targets:\n",
      "  \u001b[31m   \u001b[0m Generating multi-targets for \"x86_simd_qsort.dispatch.h\"\n",
      "  \u001b[31m   \u001b[0m   Enabled targets:\n",
      "  \u001b[31m   \u001b[0m Generating multi-targets for \"x86_simd_qsort_16bit.dispatch.h\"\n",
      "  \u001b[31m   \u001b[0m   Enabled targets:\n",
      "  \u001b[31m   \u001b[0m Generating multi-targets for \"highway_qsort.dispatch.h\"\n",
      "  \u001b[31m   \u001b[0m   Enabled targets: SVE, ASIMD\n",
      "  \u001b[31m   \u001b[0m Generating multi-targets for \"highway_qsort_16bit.dispatch.h\"\n",
      "  \u001b[31m   \u001b[0m   Enabled targets: ASIMDHP\n",
      "  \u001b[31m   \u001b[0m Generating multi-targets for \"loops_arithm_fp.dispatch.h\"\n",
      "  \u001b[31m   \u001b[0m   Enabled targets: baseline\n",
      "  \u001b[31m   \u001b[0m Generating multi-targets for \"loops_arithmetic.dispatch.h\"\n",
      "  \u001b[31m   \u001b[0m   Enabled targets: baseline\n",
      "  \u001b[31m   \u001b[0m Generating multi-targets for \"loops_comparison.dispatch.h\"\n",
      "  \u001b[31m   \u001b[0m   Enabled targets: baseline\n",
      "  \u001b[31m   \u001b[0m Generating multi-targets for \"loops_exponent_log.dispatch.h\"\n",
      "  \u001b[31m   \u001b[0m   Enabled targets: baseline\n",
      "  \u001b[31m   \u001b[0m Generating multi-targets for \"loops_hyperbolic.dispatch.h\"\n",
      "  \u001b[31m   \u001b[0m   Enabled targets: baseline\n",
      "  \u001b[31m   \u001b[0m Generating multi-targets for \"loops_logical.dispatch.h\"\n",
      "  \u001b[31m   \u001b[0m   Enabled targets: baseline\n",
      "  \u001b[31m   \u001b[0m Generating multi-targets for \"loops_minmax.dispatch.h\"\n",
      "  \u001b[31m   \u001b[0m   Enabled targets: baseline\n",
      "  \u001b[31m   \u001b[0m Generating multi-targets for \"loops_modulo.dispatch.h\"\n",
      "  \u001b[31m   \u001b[0m   Enabled targets: baseline\n",
      "  \u001b[31m   \u001b[0m Generating multi-targets for \"loops_trigonometric.dispatch.h\"\n",
      "  \u001b[31m   \u001b[0m   Enabled targets: baseline\n",
      "  \u001b[31m   \u001b[0m Generating multi-targets for \"loops_umath_fp.dispatch.h\"\n",
      "  \u001b[31m   \u001b[0m   Enabled targets: baseline\n",
      "  \u001b[31m   \u001b[0m Generating multi-targets for \"loops_unary.dispatch.h\"\n",
      "  \u001b[31m   \u001b[0m   Enabled targets: baseline\n",
      "  \u001b[31m   \u001b[0m Generating multi-targets for \"loops_unary_fp.dispatch.h\"\n",
      "  \u001b[31m   \u001b[0m   Enabled targets: baseline\n",
      "  \u001b[31m   \u001b[0m Generating multi-targets for \"loops_unary_fp_le.dispatch.h\"\n",
      "  \u001b[31m   \u001b[0m   Enabled targets: baseline\n",
      "  \u001b[31m   \u001b[0m Generating multi-targets for \"loops_unary_complex.dispatch.h\"\n",
      "  \u001b[31m   \u001b[0m   Enabled targets: baseline\n",
      "  \u001b[31m   \u001b[0m Generating multi-targets for \"loops_autovec.dispatch.h\"\n",
      "  \u001b[31m   \u001b[0m   Enabled targets: baseline\n",
      "  \u001b[31m   \u001b[0m Generating multi-targets for \"_simd.dispatch.h\"\n",
      "  \u001b[31m   \u001b[0m   Enabled targets: baseline\n",
      "  \u001b[31m   \u001b[0m Build targets in project: 64\n",
      "  \u001b[31m   \u001b[0m WARNING: Project specifies a minimum meson_version '>=1.2.99' but uses features which were added in newer versions:\n",
      "  \u001b[31m   \u001b[0m  * 1.3.0: {'dep 'accelerate' custom lookup'}\n",
      "  \u001b[31m   \u001b[0m \n",
      "  \u001b[31m   \u001b[0m NumPy 2.0.1\n",
      "  \u001b[31m   \u001b[0m \n",
      "  \u001b[31m   \u001b[0m   User defined options\n",
      "  \u001b[31m   \u001b[0m     Native files: /private/var/folders/12/04r1v9hx1zxbpbg59474cfc00000gn/T/pip-install-vil7qxkl/numpy_46ecba9761904723a113e1208ed87741/.mesonpy-32woe41m/meson-python-native-file.ini\n",
      "  \u001b[31m   \u001b[0m     buildtype   : release\n",
      "  \u001b[31m   \u001b[0m     b_ndebug    : if-release\n",
      "  \u001b[31m   \u001b[0m     b_vscrt     : md\n",
      "  \u001b[31m   \u001b[0m \n",
      "  \u001b[31m   \u001b[0m Found ninja-1.13.0.git.kitware.jobserver-pipe-1 at /private/var/folders/12/04r1v9hx1zxbpbg59474cfc00000gn/T/pip-build-env-9vo7rwqw/normal/bin/ninja\n",
      "  \u001b[31m   \u001b[0m \u001b[36m\u001b[1m+ /private/var/folders/12/04r1v9hx1zxbpbg59474cfc00000gn/T/pip-build-env-9vo7rwqw/normal/bin/ninja\u001b[0m\n",
      "  \u001b[31m   \u001b[0m [1/322] Generating numpy/_core/npy_math_internal.h with a custom command\n",
      "  \u001b[31m   \u001b[0m [2/322] Generating 'numpy/_core/libargfunc.dispatch.h_baseline.a.p/npy_sort.h'\n",
      "  \u001b[31m   \u001b[0m [3/322] Generating 'numpy/_core/libnpymath.a.p/ieee754.c'\n",
      "  \u001b[31m   \u001b[0m [4/322] Generating 'numpy/_core/libnpymath.a.p/npy_math_complex.c'\n",
      "  \u001b[31m   \u001b[0m [5/322] Copying file numpy/__init__.cython-30.pxd\n",
      "  \u001b[31m   \u001b[0m [6/322] Generating 'numpy/_core/libargfunc.dispatch.h_baseline.a.p/arraytypes.h'\n",
      "  \u001b[31m   \u001b[0m [7/322] Copying file numpy/__init__.pxd\n",
      "  \u001b[31m   \u001b[0m [8/322] Generating numpy/_core/__umath_generated with a custom command\n",
      "  \u001b[31m   \u001b[0m [9/322] Copying file numpy/__init__.py\n",
      "  \u001b[31m   \u001b[0m [10/322] Generating 'numpy/_core/libhighway_qsort.dispatch.h_SVE.a.p/arraytypes.h'\n",
      "  \u001b[31m   \u001b[0m [11/322] Generating 'numpy/_core/libargfunc.dispatch.h_baseline.a.p/argfunc.dispatch.c'\n",
      "  \u001b[31m   \u001b[0m [12/322] Generating 'numpy/_core/libhighway_qsort_16bit.dispatch.h_ASIMDHP.a.p/arraytypes.h'\n",
      "  \u001b[31m   \u001b[0m [13/322] Generating 'numpy/_core/libhighway_qsort.dispatch.h_ASIMD.a.p/npy_sort.h'\n",
      "  \u001b[31m   \u001b[0m [14/322] Generating 'numpy/_core/libhighway_qsort.dispatch.h_SVE.a.p/npy_sort.h'\n",
      "  \u001b[31m   \u001b[0m [15/322] Generating 'numpy/_core/libhighway_qsort.dispatch.h_ASIMD.a.p/arraytypes.h'\n",
      "  \u001b[31m   \u001b[0m [16/322] Generating 'numpy/_core/libhighway_qsort_16bit.dispatch.h_ASIMDHP.a.p/npy_sort.h'\n",
      "  \u001b[31m   \u001b[0m [17/322] Generating 'numpy/_core/libloops_arithm_fp.dispatch.h_baseline.a.p/loops.h'\n",
      "  \u001b[31m   \u001b[0m [18/322] Generating 'numpy/_core/libloops_arithm_fp.dispatch.h_baseline.a.p/loops_utils.h'\n",
      "  \u001b[31m   \u001b[0m [19/322] Generating 'numpy/_core/libloops_arithm_fp.dispatch.h_baseline.a.p/loops_arithm_fp.dispatch.c'\n",
      "  \u001b[31m   \u001b[0m [20/322] Generating numpy/_core/__ufunc_api with a custom command\n",
      "  \u001b[31m   \u001b[0m [21/322] Generating 'numpy/_core/libloops_arithmetic.dispatch.h_baseline.a.p/loops.h'\n",
      "  \u001b[31m   \u001b[0m [22/322] Generating 'numpy/_core/libloops_arithmetic.dispatch.h_baseline.a.p/loops_arithmetic.dispatch.c'\n",
      "  \u001b[31m   \u001b[0m [23/322] Generating 'numpy/_core/libloops_arithmetic.dispatch.h_baseline.a.p/loops_utils.h'\n",
      "  \u001b[31m   \u001b[0m [24/322] Generating 'numpy/_core/libloops_comparison.dispatch.h_baseline.a.p/loops_utils.h'\n",
      "  \u001b[31m   \u001b[0m [25/322] Generating 'numpy/_core/libloops_comparison.dispatch.h_baseline.a.p/loops_comparison.dispatch.c'\n",
      "  \u001b[31m   \u001b[0m [26/322] Generating 'numpy/_core/libloops_exponent_log.dispatch.h_baseline.a.p/loops_exponent_log.dispatch.c'\n",
      "  \u001b[31m   \u001b[0m [27/322] Generating 'numpy/_core/libloops_hyperbolic.dispatch.h_baseline.a.p/loops_hyperbolic.dispatch.c'\n",
      "  \u001b[31m   \u001b[0m [28/322] Generating 'numpy/_core/libloops_hyperbolic.dispatch.h_baseline.a.p/loops.h'\n",
      "  \u001b[31m   \u001b[0m [29/322] Generating 'numpy/_core/libloops_comparison.dispatch.h_baseline.a.p/loops.h'\n",
      "  \u001b[31m   \u001b[0m [30/322] Generating 'numpy/_core/libloops_exponent_log.dispatch.h_baseline.a.p/loops_utils.h'\n",
      "  \u001b[31m   \u001b[0m [31/322] Generating 'numpy/_core/libloops_hyperbolic.dispatch.h_baseline.a.p/loops_utils.h'\n",
      "  \u001b[31m   \u001b[0m [32/322] Generating 'numpy/_core/libloops_logical.dispatch.h_baseline.a.p/loops.h'\n",
      "  \u001b[31m   \u001b[0m [33/322] Generating 'numpy/_core/libloops_modulo.dispatch.h_baseline.a.p/loops_utils.h'\n",
      "  \u001b[31m   \u001b[0m [34/322] Generating 'numpy/_core/libloops_logical.dispatch.h_baseline.a.p/loops_logical.dispatch.c'\n",
      "  \u001b[31m   \u001b[0m [35/322] Generating 'numpy/_core/libloops_exponent_log.dispatch.h_baseline.a.p/loops.h'\n",
      "  \u001b[31m   \u001b[0m [36/322] Generating 'numpy/_core/libloops_minmax.dispatch.h_baseline.a.p/loops_utils.h'\n",
      "  \u001b[31m   \u001b[0m [37/322] Generating 'numpy/_core/libloops_minmax.dispatch.h_baseline.a.p/loops.h'\n",
      "  \u001b[31m   \u001b[0m [38/322] Generating 'numpy/_core/libloops_logical.dispatch.h_baseline.a.p/loops_utils.h'\n",
      "  \u001b[31m   \u001b[0m [39/322] Generating 'numpy/_core/libloops_modulo.dispatch.h_baseline.a.p/loops.h'\n",
      "  \u001b[31m   \u001b[0m [40/322] Generating 'numpy/_core/libloops_modulo.dispatch.h_baseline.a.p/loops_modulo.dispatch.c'\n",
      "  \u001b[31m   \u001b[0m [41/322] Generating 'numpy/_core/libloops_trigonometric.dispatch.h_baseline.a.p/loops_trigonometric.dispatch.c'\n",
      "  \u001b[31m   \u001b[0m [42/322] Generating 'numpy/_core/libloops_minmax.dispatch.h_baseline.a.p/loops_minmax.dispatch.c'\n",
      "  \u001b[31m   \u001b[0m [43/322] Generating 'numpy/_core/libloops_trigonometric.dispatch.h_baseline.a.p/loops_utils.h'\n",
      "  \u001b[31m   \u001b[0m [44/322] Generating 'numpy/_core/libloops_umath_fp.dispatch.h_baseline.a.p/loops_utils.h'\n",
      "  \u001b[31m   \u001b[0m [45/322] Generating 'numpy/_core/libloops_umath_fp.dispatch.h_baseline.a.p/loops.h'\n",
      "  \u001b[31m   \u001b[0m [46/322] Generating 'numpy/_core/libloops_trigonometric.dispatch.h_baseline.a.p/loops.h'\n",
      "  \u001b[31m   \u001b[0m [47/322] Generating 'numpy/_core/libloops_umath_fp.dispatch.h_baseline.a.p/loops_umath_fp.dispatch.c'\n",
      "  \u001b[31m   \u001b[0m [48/322] Generating 'numpy/_core/libloops_unary.dispatch.h_baseline.a.p/loops_utils.h'\n",
      "  \u001b[31m   \u001b[0m [49/322] Generating 'numpy/_core/libloops_unary_fp.dispatch.h_baseline.a.p/loops_utils.h'\n",
      "  \u001b[31m   \u001b[0m [50/322] Generating 'numpy/_core/libloops_unary.dispatch.h_baseline.a.p/loops.h'\n",
      "  \u001b[31m   \u001b[0m [51/322] Generating 'numpy/_core/libloops_unary_fp.dispatch.h_baseline.a.p/loops.h'\n",
      "  \u001b[31m   \u001b[0m [52/322] Generating 'numpy/_core/libloops_unary_fp_le.dispatch.h_baseline.a.p/loops.h'\n",
      "  \u001b[31m   \u001b[0m [53/322] Generating 'numpy/_core/libloops_unary_fp.dispatch.h_baseline.a.p/loops_unary_fp.dispatch.c'\n",
      "  \u001b[31m   \u001b[0m [54/322] Generating 'numpy/_core/libloops_unary_fp_le.dispatch.h_baseline.a.p/loops_utils.h'\n",
      "  \u001b[31m   \u001b[0m [55/322] Generating numpy/_core/__multiarray_api with a custom command\n",
      "  \u001b[31m   \u001b[0m [56/322] Generating 'numpy/_core/libloops_unary.dispatch.h_baseline.a.p/loops_unary.dispatch.c'\n",
      "  \u001b[31m   \u001b[0m [57/322] Generating 'numpy/_core/libloops_unary_fp_le.dispatch.h_baseline.a.p/loops_unary_fp_le.dispatch.c'\n",
      "  \u001b[31m   \u001b[0m [58/322] Generating 'numpy/_core/libloops_unary_complex.dispatch.h_baseline.a.p/loops_utils.h'\n",
      "  \u001b[31m   \u001b[0m [59/322] Generating 'numpy/_core/libloops_unary_complex.dispatch.h_baseline.a.p/loops.h'\n",
      "  \u001b[31m   \u001b[0m [60/322] Generating 'numpy/_core/libloops_unary_complex.dispatch.h_baseline.a.p/loops_unary_complex.dispatch.c'\n",
      "  \u001b[31m   \u001b[0m [61/322] Generating 'numpy/_core/libloops_autovec.dispatch.h_baseline.a.p/loops_utils.h'\n",
      "  \u001b[31m   \u001b[0m [62/322] Generating 'numpy/_core/libloops_autovec.dispatch.h_baseline.a.p/loops.h'\n",
      "  \u001b[31m   \u001b[0m [63/322] Generating 'numpy/_core/lib_simd.dispatch.h_baseline.a.p/_simd_inc.h'\n",
      "  \u001b[31m   \u001b[0m [64/322] Generating 'numpy/_core/lib_simd.dispatch.h_baseline.a.p/_simd_data.inc'\n",
      "  \u001b[31m   \u001b[0m [65/322] Generating 'numpy/_core/libloops_autovec.dispatch.h_baseline.a.p/loops_autovec.dispatch.c'\n",
      "  \u001b[31m   \u001b[0m [66/322] Generating 'numpy/_core/lib_simd.dispatch.h_baseline.a.p/_simd.dispatch.c'\n",
      "  \u001b[31m   \u001b[0m [67/322] Copying file numpy/random/__init__.py\n",
      "  \u001b[31m   \u001b[0m [68/322] Copying file numpy/random/bit_generator.pxd\n",
      "  \u001b[31m   \u001b[0m [69/322] Copying file numpy/random/__init__.pxd\n",
      "  \u001b[31m   \u001b[0m [70/322] Copying file numpy/random/_common.pxd\n",
      "  \u001b[31m   \u001b[0m [71/322] Generating numpy/random/_bounded_integer_pxd with a custom command\n",
      "  \u001b[31m   \u001b[0m [72/322] Generating numpy/random/_bounded_integer_pyx with a custom command\n",
      "  \u001b[31m   \u001b[0m [73/322] Copying file numpy/random/c_distributions.pxd\n",
      "  \u001b[31m   \u001b[0m [74/322] Copying file numpy/random/_generator.pyx\n",
      "  \u001b[31m   \u001b[0m [75/322] Copying file numpy/random/mtrand.pyx\n",
      "  \u001b[31m   \u001b[0m [76/322] Generating 'numpy/_core/_multiarray_tests.cpython-313-darwin.so.p/templ_common.h'\n",
      "  \u001b[31m   \u001b[0m [77/322] Generating numpy/_core/_umath_doc_generated with a custom command\n",
      "  \u001b[31m   \u001b[0m [78/322] Generating 'numpy/_core/_multiarray_tests.cpython-313-darwin.so.p/_multiarray_tests.c'\n",
      "  \u001b[31m   \u001b[0m [79/322] Generating 'numpy/_core/_umath_tests.cpython-313-darwin.so.p/_umath_tests.c'\n",
      "  \u001b[31m   \u001b[0m [80/322] Compiling C object numpy/_core/libnpymath.a.p/meson-generated_ieee754.c.o\n",
      "  \u001b[31m   \u001b[0m [81/322] Compiling C object numpy/_core/lib_umath_tests.dispatch.h_baseline.a.p/src_umath__umath_tests.dispatch.c.o\n",
      "  \u001b[31m   \u001b[0m [82/322] Compiling C object numpy/_core/libnpymath.a.p/meson-generated_npy_math_complex.c.o\n",
      "  \u001b[31m   \u001b[0m [83/322] Compiling C object numpy/_core/libnpymath.a.p/src_npymath_npy_math.c.o\n",
      "  \u001b[31m   \u001b[0m [84/322] Compiling C object numpy/_core/lib_umath_tests.dispatch.h_ASIMDHP.a.p/src_umath__umath_tests.dispatch.c.o\n",
      "  \u001b[31m   \u001b[0m [85/322] Compiling C++ object numpy/_core/libhighway.a.p/src_highway_hwy_abort.cc.o\n",
      "  \u001b[31m   \u001b[0m [86/322] Compiling C object numpy/_core/libloops_exponent_log.dispatch.h_baseline.a.p/meson-generated_loops_exponent_log.dispatch.c.o\n",
      "  \u001b[31m   \u001b[0m [87/322] Compiling C object numpy/_core/libloops_hyperbolic.dispatch.h_baseline.a.p/meson-generated_loops_hyperbolic.dispatch.c.o\n",
      "  \u001b[31m   \u001b[0m [88/322] Compiling C object numpy/_core/libloops_arithmetic.dispatch.h_baseline.a.p/meson-generated_loops_arithmetic.dispatch.c.o\n",
      "  \u001b[31m   \u001b[0m [89/322] Compiling C object numpy/_core/libloops_logical.dispatch.h_baseline.a.p/meson-generated_loops_logical.dispatch.c.o\n",
      "  \u001b[31m   \u001b[0m [90/322] Compiling C object numpy/_core/libloops_modulo.dispatch.h_baseline.a.p/meson-generated_loops_modulo.dispatch.c.o\n",
      "  \u001b[31m   \u001b[0m [91/322] Compiling C object numpy/_core/libloops_trigonometric.dispatch.h_baseline.a.p/meson-generated_loops_trigonometric.dispatch.c.o\n",
      "  \u001b[31m   \u001b[0m [92/322] Compiling C++ object numpy/_core/libnpymath.a.p/src_npymath_halffloat.cpp.o\n",
      "  \u001b[31m   \u001b[0m [93/322] Compiling C object numpy/_core/libargfunc.dispatch.h_baseline.a.p/meson-generated_argfunc.dispatch.c.o\n",
      "  \u001b[31m   \u001b[0m [94/322] Compiling C object numpy/_core/libloops_umath_fp.dispatch.h_baseline.a.p/meson-generated_loops_umath_fp.dispatch.c.o\n",
      "  \u001b[31m   \u001b[0m [95/322] Compiling C object numpy/_core/libloops_arithm_fp.dispatch.h_baseline.a.p/meson-generated_loops_arithm_fp.dispatch.c.o\n",
      "  \u001b[31m   \u001b[0m [96/322] Compiling C object numpy/_core/libloops_unary_complex.dispatch.h_baseline.a.p/meson-generated_loops_unary_complex.dispatch.c.o\n",
      "  \u001b[31m   \u001b[0m [97/322] Generating 'numpy/_core/_multiarray_umath.cpython-313-darwin.so.p/arraytypes.h'\n",
      "  \u001b[31m   \u001b[0m [98/322] Compiling C object numpy/_core/libloops_unary_fp_le.dispatch.h_baseline.a.p/meson-generated_loops_unary_fp_le.dispatch.c.o\n",
      "  \u001b[31m   \u001b[0m [99/322] Generating 'numpy/_core/_multiarray_umath.cpython-313-darwin.so.p/npy_sort.h'\n",
      "  \u001b[31m   \u001b[0m [100/322] Generating 'numpy/_core/_multiarray_umath.cpython-313-darwin.so.p/arraytypes.c'\n",
      "  \u001b[31m   \u001b[0m [101/322] Compiling C object numpy/_core/libloops_unary.dispatch.h_baseline.a.p/meson-generated_loops_unary.dispatch.c.o\n",
      "  \u001b[31m   \u001b[0m [102/322] Generating 'numpy/_core/_multiarray_umath.cpython-313-darwin.so.p/einsum.c'\n",
      "  \u001b[31m   \u001b[0m [103/322] Generating 'numpy/_core/_multiarray_umath.cpython-313-darwin.so.p/nditer_templ.c'\n",
      "  \u001b[31m   \u001b[0m [104/322] Generating 'numpy/_core/_multiarray_umath.cpython-313-darwin.so.p/scalartypes.c'\n",
      "  \u001b[31m   \u001b[0m [105/322] Generating 'numpy/_core/_multiarray_umath.cpython-313-darwin.so.p/templ_common.h'\n",
      "  \u001b[31m   \u001b[0m [106/322] Compiling C object numpy/_core/libloops_unary_fp.dispatch.h_baseline.a.p/meson-generated_loops_unary_fp.dispatch.c.o\n",
      "  \u001b[31m   \u001b[0m [107/322] Generating 'numpy/_core/_multiarray_umath.cpython-313-darwin.so.p/einsum_sumprod.c'\n",
      "  \u001b[31m   \u001b[0m [108/322] Generating 'numpy/_core/_multiarray_umath.cpython-313-darwin.so.p/loops.h'\n",
      "  \u001b[31m   \u001b[0m [109/322] Generating 'numpy/_core/_multiarray_umath.cpython-313-darwin.so.p/loops_utils.h'\n",
      "  \u001b[31m   \u001b[0m [110/322] Generating 'numpy/_core/_multiarray_umath.cpython-313-darwin.so.p/funcs.inc'\n",
      "  \u001b[31m   \u001b[0m [111/322] Compiling C object numpy/_core/libloops_comparison.dispatch.h_baseline.a.p/meson-generated_loops_comparison.dispatch.c.o\n",
      "  \u001b[31m   \u001b[0m [112/322] Generating 'numpy/_core/_multiarray_umath.cpython-313-darwin.so.p/loops.c'\n",
      "  \u001b[31m   \u001b[0m [113/322] Generating 'numpy/_core/_multiarray_umath.cpython-313-darwin.so.p/matmul.c'\n",
      "  \u001b[31m   \u001b[0m [114/322] Generating 'numpy/_core/_multiarray_umath.cpython-313-darwin.so.p/lowlevel_strided_loops.c'\n",
      "  \u001b[31m   \u001b[0m [115/322] Generating 'numpy/_core/_multiarray_umath.cpython-313-darwin.so.p/matmul.h'\n",
      "  \u001b[31m   \u001b[0m [116/322] Generating 'numpy/_core/_multiarray_umath.cpython-313-darwin.so.p/scalarmath.c'\n",
      "  \u001b[31m   \u001b[0m [117/322] Compiling C object numpy/random/libnpyrandom.a.p/src_distributions_logfactorial.c.o\n",
      "  \u001b[31m   \u001b[0m [118/322] Compiling C object numpy/random/libnpyrandom.a.p/src_distributions_random_mvhg_count.c.o\n",
      "  \u001b[31m   \u001b[0m [119/322] Compiling C object numpy/random/libnpyrandom.a.p/src_distributions_random_hypergeometric.c.o\n",
      "  \u001b[31m   \u001b[0m [120/322] Compiling C object numpy/random/libnpyrandom.a.p/src_distributions_random_mvhg_marginals.c.o\n",
      "  \u001b[31m   \u001b[0m [121/322] Compiling C object numpy/_core/libloops_minmax.dispatch.h_baseline.a.p/meson-generated_loops_minmax.dispatch.c.o\n",
      "  \u001b[31m   \u001b[0m [122/322] Compiling C object numpy/random/libnpyrandom.a.p/src_distributions_distributions.c.o\n",
      "  \u001b[31m   \u001b[0m [123/322] Compiling Cython source /private/var/folders/12/04r1v9hx1zxbpbg59474cfc00000gn/T/pip-install-vil7qxkl/numpy_46ecba9761904723a113e1208ed87741/numpy/random/_mt19937.pyx\n",
      "  \u001b[31m   \u001b[0m [124/322] Compiling Cython source /private/var/folders/12/04r1v9hx1zxbpbg59474cfc00000gn/T/pip-install-vil7qxkl/numpy_46ecba9761904723a113e1208ed87741/numpy/random/_philox.pyx\n",
      "  \u001b[31m   \u001b[0m [125/322] Compiling Cython source /private/var/folders/12/04r1v9hx1zxbpbg59474cfc00000gn/T/pip-install-vil7qxkl/numpy_46ecba9761904723a113e1208ed87741/numpy/random/_pcg64.pyx\n",
      "  \u001b[31m   \u001b[0m [126/322] Compiling Cython source numpy/random/_bounded_integers.pyx\n",
      "  \u001b[31m   \u001b[0m [127/322] Compiling Cython source /private/var/folders/12/04r1v9hx1zxbpbg59474cfc00000gn/T/pip-install-vil7qxkl/numpy_46ecba9761904723a113e1208ed87741/numpy/random/_common.pyx\n",
      "  \u001b[31m   \u001b[0m [128/322] Compiling Cython source /private/var/folders/12/04r1v9hx1zxbpbg59474cfc00000gn/T/pip-install-vil7qxkl/numpy_46ecba9761904723a113e1208ed87741/numpy/random/_sfc64.pyx\n",
      "  \u001b[31m   \u001b[0m [129/322] Compiling Cython source /private/var/folders/12/04r1v9hx1zxbpbg59474cfc00000gn/T/pip-install-vil7qxkl/numpy_46ecba9761904723a113e1208ed87741/numpy/random/bit_generator.pyx\n",
      "  \u001b[31m   \u001b[0m [130/322] Linking static target numpy/_core/libhighway.a\n",
      "  \u001b[31m   \u001b[0m [131/322] Linking static target numpy/_core/libnpymath.a\n",
      "  \u001b[31m   \u001b[0m [132/322] Compiling C object numpy/_core/_multiarray_tests.cpython-313-darwin.so.p/src_common_npy_argparse.c.o\n",
      "  \u001b[31m   \u001b[0m [133/322] Compiling C object numpy/_core/_multiarray_tests.cpython-313-darwin.so.p/src_common_mem_overlap.c.o\n",
      "  \u001b[31m   \u001b[0m [134/322] Linking static target numpy/_core/lib_umath_tests_mtargets.a\n",
      "  \u001b[31m   \u001b[0m [135/322] Compiling C object numpy/_core/_multiarray_tests.cpython-313-darwin.so.p/meson-generated__multiarray_tests.c.o\n",
      "  \u001b[31m   \u001b[0m [136/322] Compiling C object numpy/_core/_multiarray_tests.cpython-313-darwin.so.p/src_common_npy_hashtable.c.o\n",
      "  \u001b[31m   \u001b[0m [137/322] Compiling C object numpy/_core/_umath_tests.cpython-313-darwin.so.p/src_common_npy_cpu_features.c.o\n",
      "  \u001b[31m   \u001b[0m [138/322] Compiling C object numpy/_core/_umath_tests.cpython-313-darwin.so.p/meson-generated__umath_tests.c.o\n",
      "  \u001b[31m   \u001b[0m [139/322] Compiling C object numpy/_core/_struct_ufunc_tests.cpython-313-darwin.so.p/src_umath__struct_ufunc_tests.c.o\n",
      "  \u001b[31m   \u001b[0m [140/322] Compiling C object numpy/_core/_operand_flag_tests.cpython-313-darwin.so.p/src_umath__operand_flag_tests.c.o\n",
      "  \u001b[31m   \u001b[0m [141/322] Compiling C object numpy/_core/_rational_tests.cpython-313-darwin.so.p/src_umath__rational_tests.c.o\n",
      "  \u001b[31m   \u001b[0m [142/322] Compiling Cython source numpy/random/mtrand.pyx\n",
      "  \u001b[31m   \u001b[0m [143/322] Compiling C object numpy/_core/_multiarray_umath.cpython-313-darwin.so.p/meson-generated_einsum.c.o\n",
      "  \u001b[31m   \u001b[0m [144/322] Compiling C object numpy/_core/lib_simd.dispatch.h_baseline.a.p/meson-generated__simd.dispatch.c.o\n",
      "  \u001b[31m   \u001b[0m [145/322] Compiling Cython source numpy/random/_generator.pyx\n",
      "  \u001b[31m   \u001b[0m [146/322] Compiling C++ object numpy/_core/libhighway_qsort_16bit.dispatch.h_ASIMDHP.a.p/src_npysort_highway_qsort_16bit.dispatch.cpp.o\n",
      "  \u001b[31m   \u001b[0m [147/322] Compiling C object numpy/_core/_multiarray_umath.cpython-313-darwin.so.p/meson-generated_nditer_templ.c.o\n",
      "  \u001b[31m   \u001b[0m [148/322] Compiling C object numpy/_core/_multiarray_umath.cpython-313-darwin.so.p/meson-generated_matmul.c.o\n",
      "  \u001b[31m   \u001b[0m [149/322] Compiling C object numpy/_core/_multiarray_umath.cpython-313-darwin.so.p/meson-generated_scalartypes.c.o\n",
      "  \u001b[31m   \u001b[0m [150/322] Compiling C object numpy/_core/_multiarray_umath.cpython-313-darwin.so.p/src_multiarray_abstractdtypes.c.o\n",
      "  \u001b[31m   \u001b[0m [151/322] Compiling C object numpy/_core/_multiarray_umath.cpython-313-darwin.so.p/src_multiarray_alloc.c.o\n",
      "  \u001b[31m   \u001b[0m [152/322] Compiling C object numpy/_core/_multiarray_umath.cpython-313-darwin.so.p/src_multiarray_arrayobject.c.o\n",
      "  \u001b[31m   \u001b[0m [153/322] Compiling C object numpy/_core/_multiarray_umath.cpython-313-darwin.so.p/src_multiarray_array_coercion.c.o\n",
      "  \u001b[31m   \u001b[0m [154/322] Compiling C object numpy/_core/_multiarray_umath.cpython-313-darwin.so.p/meson-generated_loops.c.o\n",
      "  \u001b[31m   \u001b[0m [155/322] Compiling C object numpy/_core/_multiarray_umath.cpython-313-darwin.so.p/src_multiarray_array_converter.c.o\n",
      "  \u001b[31m   \u001b[0m [156/322] Compiling C object numpy/_core/_multiarray_umath.cpython-313-darwin.so.p/src_multiarray_array_method.c.o\n",
      "  \u001b[31m   \u001b[0m [157/322] Compiling C object numpy/_core/_multiarray_umath.cpython-313-darwin.so.p/src_multiarray_array_assign_scalar.c.o\n",
      "  \u001b[31m   \u001b[0m [158/322] Compiling C object numpy/_core/_multiarray_umath.cpython-313-darwin.so.p/src_multiarray_array_assign_array.c.o\n",
      "  \u001b[31m   \u001b[0m [159/322] Compiling C object numpy/_core/libloops_autovec.dispatch.h_baseline.a.p/meson-generated_loops_autovec.dispatch.c.o\n",
      "  \u001b[31m   \u001b[0m [160/322] Compiling C object numpy/_core/_multiarray_umath.cpython-313-darwin.so.p/src_multiarray_arrayfunction_override.c.o\n",
      "  \u001b[31m   \u001b[0m [161/322] Compiling C object numpy/_core/_multiarray_umath.cpython-313-darwin.so.p/src_multiarray_arraywrap.c.o\n",
      "  \u001b[31m   \u001b[0m [162/322] Compiling C object numpy/_core/_multiarray_umath.cpython-313-darwin.so.p/src_multiarray_buffer.c.o\n",
      "  \u001b[31m   \u001b[0m [163/322] Compiling C object numpy/_core/_multiarray_umath.cpython-313-darwin.so.p/src_multiarray_calculation.c.o\n",
      "  \u001b[31m   \u001b[0m [164/322] Compiling C object numpy/_core/_multiarray_umath.cpython-313-darwin.so.p/src_multiarray_common.c.o\n",
      "  \u001b[31m   \u001b[0m [165/322] Compiling C++ object numpy/_core/libhighway_qsort.dispatch.h_SVE.a.p/src_npysort_highway_qsort.dispatch.cpp.o\n",
      "  \u001b[31m   \u001b[0m [166/322] Compiling C object numpy/_core/_multiarray_umath.cpython-313-darwin.so.p/src_multiarray_common_dtype.c.o\n",
      "  \u001b[31m   \u001b[0m [167/322] Compiling C object numpy/_core/_multiarray_umath.cpython-313-darwin.so.p/src_multiarray_convert.c.o\n",
      "  \u001b[31m   \u001b[0m [168/322] Compiling C++ object numpy/_core/libhighway_qsort.dispatch.h_ASIMD.a.p/src_npysort_highway_qsort.dispatch.cpp.o\n",
      "  \u001b[31m   \u001b[0m [169/322] Linking static target numpy/_core/lib_multiarray_umath_mtargets.a\n",
      "  \u001b[31m   \u001b[0m [170/322] Compiling C object numpy/_core/_multiarray_umath.cpython-313-darwin.so.p/src_multiarray_compiled_base.c.o\n",
      "  \u001b[31m   \u001b[0m [171/322] Compiling C object numpy/_core/_multiarray_umath.cpython-313-darwin.so.p/meson-generated_arraytypes.c.o\n",
      "  \u001b[31m   \u001b[0m [172/322] Compiling C object numpy/_core/_multiarray_umath.cpython-313-darwin.so.p/src_multiarray_conversion_utils.c.o\n",
      "  \u001b[31m   \u001b[0m [173/322] Compiling C object numpy/_core/_multiarray_umath.cpython-313-darwin.so.p/src_multiarray_datetime_strings.c.o\n",
      "  \u001b[31m   \u001b[0m [174/322] Compiling C object numpy/_core/_multiarray_umath.cpython-313-darwin.so.p/src_multiarray_datetime_busdaycal.c.o\n",
      "  \u001b[31m   \u001b[0m [175/322] Compiling C object numpy/_core/_multiarray_umath.cpython-313-darwin.so.p/src_multiarray_datetime_busday.c.o\n",
      "  \u001b[31m   \u001b[0m [176/322] Compiling C object numpy/_core/_multiarray_umath.cpython-313-darwin.so.p/src_multiarray_dlpack.c.o\n",
      "  \u001b[31m   \u001b[0m [177/322] Compiling C object numpy/_core/_multiarray_umath.cpython-313-darwin.so.p/src_multiarray_convert_datatype.c.o\n",
      "  \u001b[31m   \u001b[0m [178/322] Compiling C object numpy/_core/_multiarray_umath.cpython-313-darwin.so.p/src_multiarray_dtypemeta.c.o\n",
      "  \u001b[31m   \u001b[0m [179/322] Compiling C object numpy/_core/_multiarray_umath.cpython-313-darwin.so.p/src_multiarray_ctors.c.o\n",
      "  \u001b[31m   \u001b[0m [180/322] Compiling C object numpy/_core/_multiarray_umath.cpython-313-darwin.so.p/src_multiarray_datetime.c.o\n",
      "  \u001b[31m   \u001b[0m [181/322] Compiling C object numpy/_core/_multiarray_umath.cpython-313-darwin.so.p/src_multiarray_descriptor.c.o\n",
      "  \u001b[31m   \u001b[0m [182/322] Compiling C object numpy/_core/_multiarray_umath.cpython-313-darwin.so.p/src_multiarray_public_dtype_api.c.o\n",
      "  \u001b[31m   \u001b[0m [183/322] Compiling C object numpy/_core/_multiarray_umath.cpython-313-darwin.so.p/src_multiarray_dtype_traversal.c.o\n",
      "  \u001b[31m   \u001b[0m [184/322] Compiling C object numpy/_core/_multiarray_umath.cpython-313-darwin.so.p/src_multiarray_flagsobject.c.o\n",
      "  \u001b[31m   \u001b[0m [185/322] Compiling C object numpy/_core/_multiarray_umath.cpython-313-darwin.so.p/meson-generated_scalarmath.c.o\n",
      "  \u001b[31m   \u001b[0m [186/322] Compiling C object numpy/_core/_multiarray_umath.cpython-313-darwin.so.p/src_multiarray_hashdescr.c.o\n",
      "  \u001b[31m   \u001b[0m [187/322] Compiling C object numpy/_core/_multiarray_umath.cpython-313-darwin.so.p/src_multiarray_dragon4.c.o\n",
      "  \u001b[31m   \u001b[0m [188/322] Compiling C object numpy/_core/_multiarray_umath.cpython-313-darwin.so.p/src_multiarray_getset.c.o\n",
      "  \u001b[31m   \u001b[0m [189/322] Compiling C object numpy/_core/_multiarray_umath.cpython-313-darwin.so.p/meson-generated_einsum_sumprod.c.o\n",
      "  \u001b[31m   \u001b[0m [190/322] Compiling C object numpy/_core/_multiarray_umath.cpython-313-darwin.so.p/src_multiarray_legacy_dtype_implementation.c.o\n",
      "  \u001b[31m   \u001b[0m [191/322] Compiling C object numpy/_core/_multiarray_umath.cpython-313-darwin.so.p/src_multiarray_dtype_transfer.c.o\n",
      "  \u001b[31m   \u001b[0m [192/322] Compiling C object numpy/_core/_multiarray_umath.cpython-313-darwin.so.p/src_multiarray_methods.c.o\n",
      "  \u001b[31m   \u001b[0m [193/322] Compiling C object numpy/_core/_multiarray_umath.cpython-313-darwin.so.p/src_multiarray_iterators.c.o\n",
      "  \u001b[31m   \u001b[0m [194/322] Compiling C object numpy/_core/_multiarray_umath.cpython-313-darwin.so.p/src_multiarray_nditer_api.c.o\n",
      "  \u001b[31m   \u001b[0m [195/322] Compiling C object numpy/_core/_multiarray_umath.cpython-313-darwin.so.p/src_multiarray_nditer_pywrap.c.o\n",
      "  \u001b[31m   \u001b[0m [196/322] Compiling C object numpy/_core/_multiarray_umath.cpython-313-darwin.so.p/src_multiarray_sequence.c.o\n",
      "  \u001b[31m   \u001b[0m [197/322] Compiling C object numpy/_core/_multiarray_umath.cpython-313-darwin.so.p/src_multiarray_refcount.c.o\n",
      "  \u001b[31m   \u001b[0m [198/322] Compiling C object numpy/_core/_multiarray_umath.cpython-313-darwin.so.p/src_multiarray_scalarapi.c.o\n",
      "  \u001b[31m   \u001b[0m [199/322] Compiling C object numpy/_core/_multiarray_umath.cpython-313-darwin.so.p/src_multiarray_mapping.c.o\n",
      "  \u001b[31m   \u001b[0m [200/322] Compiling C object numpy/_core/_multiarray_umath.cpython-313-darwin.so.p/src_multiarray_shape.c.o\n",
      "  \u001b[31m   \u001b[0m [201/322] Compiling C object numpy/_core/_multiarray_umath.cpython-313-darwin.so.p/src_multiarray_number.c.o\n",
      "  \u001b[31m   \u001b[0m [202/322] Compiling C object numpy/_core/_multiarray_umath.cpython-313-darwin.so.p/src_multiarray_strfuncs.c.o\n",
      "  \u001b[31m   \u001b[0m [203/322] Compiling C object numpy/_core/_multiarray_umath.cpython-313-darwin.so.p/src_multiarray_nditer_constr.c.o\n",
      "  \u001b[31m   \u001b[0m [204/322] Compiling C object numpy/_core/_multiarray_umath.cpython-313-darwin.so.p/src_multiarray_stringdtype_dtype.c.o\n",
      "  \u001b[31m   \u001b[0m [205/322] Compiling C object numpy/_core/_multiarray_umath.cpython-313-darwin.so.p/src_multiarray_stringdtype_utf8_utils.c.o\n",
      "  \u001b[31m   \u001b[0m [206/322] Compiling C object numpy/_core/_multiarray_umath.cpython-313-darwin.so.p/src_multiarray_item_selection.c.o\n",
      "  \u001b[31m   \u001b[0m [207/322] Compiling C object numpy/_core/_multiarray_umath.cpython-313-darwin.so.p/src_multiarray_temp_elide.c.o\n",
      "  \u001b[31m   \u001b[0m [208/322] Compiling C object numpy/_core/_multiarray_umath.cpython-313-darwin.so.p/src_multiarray_stringdtype_static_string.c.o\n",
      "  \u001b[31m   \u001b[0m [209/322] Compiling C object numpy/_core/_multiarray_umath.cpython-313-darwin.so.p/src_multiarray_vdot.c.o\n",
      "  \u001b[31m   \u001b[0m [210/322] Compiling C object numpy/_core/_multiarray_umath.cpython-313-darwin.so.p/src_multiarray_usertypes.c.o\n",
      "  \u001b[31m   \u001b[0m [211/322] Compiling C object numpy/_core/_multiarray_umath.cpython-313-darwin.so.p/src_multiarray_multiarraymodule.c.o\n",
      "  \u001b[31m   \u001b[0m [212/322] Compiling C object numpy/_core/_multiarray_umath.cpython-313-darwin.so.p/src_multiarray_stringdtype_casts.c.o\n",
      "  \u001b[31m   \u001b[0m [213/322] Compiling C object numpy/_core/_multiarray_umath.cpython-313-darwin.so.p/src_multiarray_textreading_conversions.c.o\n",
      "  \u001b[31m   \u001b[0m [214/322] Compiling C object numpy/_core/_multiarray_umath.cpython-313-darwin.so.p/src_multiarray_textreading_field_types.c.o\n",
      "  \u001b[31m   \u001b[0m [215/322] Compiling C object numpy/_core/_multiarray_umath.cpython-313-darwin.so.p/src_multiarray_textreading_growth.c.o\n",
      "  \u001b[31m   \u001b[0m [216/322] Compiling C object numpy/_core/_multiarray_umath.cpython-313-darwin.so.p/src_multiarray_textreading_readtext.c.o\n",
      "  \u001b[31m   \u001b[0m [217/322] Compiling C object numpy/_core/_multiarray_umath.cpython-313-darwin.so.p/src_multiarray_textreading_rows.c.o\n",
      "  \u001b[31m   \u001b[0m [218/322] Compiling C object numpy/_core/_multiarray_umath.cpython-313-darwin.so.p/src_multiarray_textreading_stream_pyobject.c.o\n",
      "  \u001b[31m   \u001b[0m [219/322] Compiling C object numpy/_core/_multiarray_umath.cpython-313-darwin.so.p/src_multiarray_textreading_str_to_int.c.o\n",
      "  \u001b[31m   \u001b[0m [220/322] Compiling C object numpy/_core/_multiarray_umath.cpython-313-darwin.so.p/src_npymath_arm64_exports.c.o\n",
      "  \u001b[31m   \u001b[0m [221/322] Compiling C object numpy/_core/_multiarray_umath.cpython-313-darwin.so.p/src_common_array_assign.c.o\n",
      "  \u001b[31m   \u001b[0m [222/322] Compiling C++ object numpy/_core/_multiarray_umath.cpython-313-darwin.so.p/src_npysort_radixsort.cpp.o\n",
      "  \u001b[31m   \u001b[0m [223/322] Compiling C object numpy/_core/_multiarray_umath.cpython-313-darwin.so.p/meson-generated_lowlevel_strided_loops.c.o\n",
      "  \u001b[31m   \u001b[0m [224/322] Compiling C++ object numpy/_core/_multiarray_umath.cpython-313-darwin.so.p/src_multiarray_textreading_tokenize.cpp.o\n",
      "  \u001b[31m   \u001b[0m [225/322] Compiling C object numpy/_core/_multiarray_umath.cpython-313-darwin.so.p/src_common_gil_utils.c.o\n",
      "  \u001b[31m   \u001b[0m [226/322] Compiling C object numpy/_core/_multiarray_umath.cpython-313-darwin.so.p/src_common_npy_argparse.c.o\n",
      "  \u001b[31m   \u001b[0m [227/322] Compiling C object numpy/_core/_multiarray_umath.cpython-313-darwin.so.p/src_common_npy_hashtable.c.o\n",
      "  \u001b[31m   \u001b[0m [228/322] Compiling C object numpy/_core/_multiarray_umath.cpython-313-darwin.so.p/src_common_npy_longdouble.c.o\n",
      "  \u001b[31m   \u001b[0m [229/322] Compiling C object numpy/_core/_multiarray_umath.cpython-313-darwin.so.p/src_common_mem_overlap.c.o\n",
      "  \u001b[31m   \u001b[0m [230/322] Compiling C++ object numpy/_core/_multiarray_umath.cpython-313-darwin.so.p/src_npysort_heapsort.cpp.o\n",
      "  \u001b[31m   \u001b[0m [231/322] Compiling C object numpy/_core/_multiarray_umath.cpython-313-darwin.so.p/src_common_ucsnarrow.c.o\n",
      "  \u001b[31m   \u001b[0m [232/322] Compiling C object numpy/_core/_multiarray_umath.cpython-313-darwin.so.p/src_common_ufunc_override.c.o\n",
      "  \u001b[31m   \u001b[0m [233/322] Compiling C++ object numpy/_core/_multiarray_umath.cpython-313-darwin.so.p/src_npysort_mergesort.cpp.o\n",
      "  \u001b[31m   \u001b[0m [234/322] Compiling C object numpy/_core/_multiarray_umath.cpython-313-darwin.so.p/src_common_npy_cpu_features.c.o\n",
      "  \u001b[31m   \u001b[0m [235/322] Compiling C object numpy/_core/_multiarray_umath.cpython-313-darwin.so.p/src_common_numpyos.c.o\n",
      "  \u001b[31m   \u001b[0m [236/322] Compiling C object numpy/_core/_multiarray_umath.cpython-313-darwin.so.p/src_common_npy_cpu_dispatch.c.o\n",
      "  \u001b[31m   \u001b[0m [237/322] Compiling C object numpy/_core/_multiarray_umath.cpython-313-darwin.so.p/src_common_python_xerbla.c.o\n",
      "  \u001b[31m   \u001b[0m [238/322] Compiling C object numpy/_core/_multiarray_umath.cpython-313-darwin.so.p/src_common_cblasfuncs.c.o\n",
      "  \u001b[31m   \u001b[0m [239/322] Compiling C object numpy/_core/_multiarray_umath.cpython-313-darwin.so.p/src_umath_extobj.c.o\n",
      "  \u001b[31m   \u001b[0m [240/322] Compiling C object numpy/_core/_multiarray_umath.cpython-313-darwin.so.p/src_umath_legacy_array_method.c.o\n",
      "  \u001b[31m   \u001b[0m [241/322] Compiling C object numpy/_core/_multiarray_umath.cpython-313-darwin.so.p/src_umath_dispatching.c.o\n",
      "  \u001b[31m   \u001b[0m [242/322] Compiling C object numpy/_core/_multiarray_umath.cpython-313-darwin.so.p/src_umath_override.c.o\n",
      "  \u001b[31m   \u001b[0m [243/322] Compiling C++ object numpy/_core/_multiarray_umath.cpython-313-darwin.so.p/src_npysort_binsearch.cpp.o\n",
      "  \u001b[31m   \u001b[0m [244/322] Compiling C object numpy/_core/_multiarray_umath.cpython-313-darwin.so.p/src_umath_reduction.c.o\n",
      "  \u001b[31m   \u001b[0m [245/322] Compiling C object numpy/_core/_multiarray_umath.cpython-313-darwin.so.p/src_umath_ufunc_type_resolution.c.o\n",
      "  \u001b[31m   \u001b[0m [246/322] Compiling C++ object numpy/_core/_multiarray_umath.cpython-313-darwin.so.p/src_umath_string_ufuncs.cpp.o\n",
      "  \u001b[31m   \u001b[0m \u001b[31mFAILED: [code=1] \u001b[0mnumpy/_core/_multiarray_umath.cpython-313-darwin.so.p/src_umath_string_ufuncs.cpp.o\n",
      "  \u001b[31m   \u001b[0m c++ -Inumpy/_core/_multiarray_umath.cpython-313-darwin.so.p -Inumpy/_core -I../numpy/_core -Inumpy/_core/include -I../numpy/_core/include -I../numpy/_core/src/common -I../numpy/_core/src/multiarray -I../numpy/_core/src/npymath -I../numpy/_core/src/umath -I/opt/anaconda3/include/python3.13 -I/private/var/folders/12/04r1v9hx1zxbpbg59474cfc00000gn/T/pip-install-vil7qxkl/numpy_46ecba9761904723a113e1208ed87741/.mesonpy-32woe41m/meson_cpu -fvisibility=hidden -fvisibility-inlines-hidden -fdiagnostics-color=always -DNDEBUG -Wall -Winvalid-pch -std=c++17 -O3 -ftrapping-math -DNPY_HAVE_CLANG_FPSTRICT -DNPY_HAVE_NEON_VFPV4 -DNPY_HAVE_NEON_FP16 -DNPY_HAVE_NEON -DNPY_HAVE_ASIMD -F/Library/Developer/CommandLineTools/SDKs/MacOSX.sdk/System/Library/Frameworks/Accelerate.framework -idirafter/Library/Developer/CommandLineTools/SDKs/MacOSX.sdk/System/Library/Frameworks/Accelerate.framework/Headers -DACCELERATE_NEW_LAPACK -DHAVE_CBLAS '-DBLAS_SYMBOL_SUFFIX=$NEWLAPACK' -DNPY_INTERNAL_BUILD -DHAVE_NPY_CONFIG_H -D_FILE_OFFSET_BITS=64 -D_LARGEFILE_SOURCE=1 -D_LARGEFILE64_SOURCE=1 -D__STDC_VERSION__=0 -fno-exceptions -fno-rtti -MD -MQ numpy/_core/_multiarray_umath.cpython-313-darwin.so.p/src_umath_string_ufuncs.cpp.o -MF numpy/_core/_multiarray_umath.cpython-313-darwin.so.p/src_umath_string_ufuncs.cpp.o.d -o numpy/_core/_multiarray_umath.cpython-313-darwin.so.p/src_umath_string_ufuncs.cpp.o -c ../numpy/_core/src/umath/string_ufuncs.cpp\n",
      "  \u001b[31m   \u001b[0m In file included from ../numpy/_core/src/umath/string_ufuncs.cpp:20:\n",
      "  \u001b[31m   \u001b[0m \u001b[1m../numpy/_core/src/umath/string_fastsearch.h:132:5: \u001b[0m\u001b[0;1;31merror: \u001b[0m\u001b[1mno type named 'ptrdiff_t' in namespace 'std'; did you mean simply 'ptrdiff_t'?\u001b[0m\n",
      "  \u001b[31m   \u001b[0m   132 |     std::ptrdiff_t\u001b[0m\n",
      "  \u001b[31m   \u001b[0m       | \u001b[0;1;32m    ^~~~~~~~~~~~~~\n",
      "  \u001b[31m   \u001b[0m \u001b[0m      | \u001b[0;32m    ptrdiff_t\n",
      "  \u001b[31m   \u001b[0m \u001b[0m\u001b[1m/Library/Developer/CommandLineTools/usr/lib/clang/17/include/__stddef_ptrdiff_t.h:18:26: \u001b[0m\u001b[0;1;36mnote: \u001b[0m'ptrdiff_t' declared here\u001b[0m\n",
      "  \u001b[31m   \u001b[0m    18 | \u001b[0;34mtypedef\u001b[0m __PTRDIFF_TYPE__ ptrdiff_t;\u001b[0m\n",
      "  \u001b[31m   \u001b[0m       | \u001b[0;1;32m                         ^\n",
      "  \u001b[31m   \u001b[0m \u001b[0mIn file included from ../numpy/_core/src/umath/string_ufuncs.cpp:20:\n",
      "  \u001b[31m   \u001b[0m \u001b[1m../numpy/_core/src/umath/string_fastsearch.h:219:23: \u001b[0m\u001b[0;1;31merror: \u001b[0m\u001b[1minvalid operands to binary expression ('CheckedIndexer<char>' and 'CheckedIndexer<char>')\u001b[0m\n",
      "  \u001b[31m   \u001b[0m   219 |             \u001b[0;34mreturn\u001b[0m (p - s);\u001b[0m\n",
      "  \u001b[31m   \u001b[0m       | \u001b[0;1;32m                    ~ ^ ~\n",
      "  \u001b[31m   \u001b[0m \u001b[0m\u001b[1m../numpy/_core/src/umath/string_fastsearch.h:826:20: \u001b[0m\u001b[0;1;36mnote: \u001b[0min instantiation of function template specialization 'rfindchar<char>' requested here\u001b[0m\n",
      "  \u001b[31m   \u001b[0m   826 |             \u001b[0;34mreturn\u001b[0m rfindchar(s_, n, p_[\u001b[0;32m0\u001b[0m]);\u001b[0m\n",
      "  \u001b[31m   \u001b[0m       | \u001b[0;1;32m                   ^\n",
      "  \u001b[31m   \u001b[0m \u001b[0m\u001b[1m../numpy/_core/src/umath/string_buffer.h:898:19: \u001b[0m\u001b[0;1;36mnote: \u001b[0min instantiation of function template specialization 'fastsearch<char>' requested here\u001b[0m\n",
      "  \u001b[31m   \u001b[0m   898 |             pos = fastsearch(start_loc, end_loc - start_loc, buf2.buf, buf2.after - buf2.buf, -\u001b[0;32m1\u001b[0m, FAST_SEARCH);\u001b[0m\n",
      "  \u001b[31m   \u001b[0m       | \u001b[0;1;32m                  ^\n",
      "  \u001b[31m   \u001b[0m \u001b[0m\u001b[1m../numpy/_core/src/umath/string_ufuncs.cpp:1114:9: \u001b[0m\u001b[0;1;36mnote: \u001b[0min instantiation of function template specialization 'string_find<ENCODING::ASCII>' requested here\u001b[0m\n",
      "  \u001b[31m   \u001b[0m  1114 |         string_find<ENCODING::ASCII>,\u001b[0m\n",
      "  \u001b[31m   \u001b[0m       | \u001b[0;1;32m        ^\n",
      "  \u001b[31m   \u001b[0m \u001b[0m\u001b[1m../numpy/_core/src/umath/string_buffer.h:720:1: \u001b[0m\u001b[0;1;36mnote: \u001b[0mcandidate template ignored: could not match 'Buffer' against 'CheckedIndexer'\u001b[0m\n",
      "  \u001b[31m   \u001b[0m   720 | \u001b[0;34moperator\u001b[0m-(Buffer<enc> lhs, Buffer<enc> rhs)\u001b[0m\n",
      "  \u001b[31m   \u001b[0m       | \u001b[0;1;32m^\n",
      "  \u001b[31m   \u001b[0m \u001b[0m\u001b[1m../numpy/_core/src/umath/string_buffer.h:736:1: \u001b[0m\u001b[0;1;36mnote: \u001b[0mcandidate template ignored: could not match 'Buffer' against 'CheckedIndexer'\u001b[0m\n",
      "  \u001b[31m   \u001b[0m   736 | \u001b[0;34moperator\u001b[0m-(Buffer<enc> lhs, npy_int64 rhs)\u001b[0m\n",
      "  \u001b[31m   \u001b[0m       | \u001b[0;1;32m^\n",
      "  \u001b[31m   \u001b[0m \u001b[0m\u001b[1m../numpy/_core/src/umath/string_fastsearch.h:139:5: \u001b[0m\u001b[0;1;36mnote: \u001b[0mcandidate function not viable: no known conversion from 'CheckedIndexer<char>' to 'size_t' (aka 'unsigned long') for 1st argument\u001b[0m\n",
      "  \u001b[31m   \u001b[0m   139 |     \u001b[0;34moperator\u001b[0m-(size_t rhs)\u001b[0m\n",
      "  \u001b[31m   \u001b[0m       | \u001b[0;1;32m    ^         ~~~~~~~~~~\n",
      "  \u001b[31m   \u001b[0m \u001b[0m\u001b[1m../numpy/_core/src/umath/string_fastsearch.h:495:27: \u001b[0m\u001b[0;1;31merror: \u001b[0m\u001b[1minvalid operands to binary expression ('CheckedIndexer<char>' and 'CheckedIndexer<char>')\u001b[0m\n",
      "  \u001b[31m   \u001b[0m   495 |             \u001b[0;34mreturn\u001b[0m window - haystack;\u001b[0m\n",
      "  \u001b[31m   \u001b[0m       | \u001b[0;1;32m                   ~~~~~~ ^ ~~~~~~~~\n",
      "  \u001b[31m   \u001b[0m \u001b[0m\u001b[1m../numpy/_core/src/umath/string_fastsearch.h:576:18: \u001b[0m\u001b[0;1;36mnote: \u001b[0min instantiation of function template specialization '_two_way<char>' requested here\u001b[0m\n",
      "  \u001b[31m   \u001b[0m   576 |         result = _two_way(haystack + index,\u001b[0m\n",
      "  \u001b[31m   \u001b[0m       | \u001b[0;1;32m                 ^\n",
      "  \u001b[31m   \u001b[0m \u001b[0m\u001b[1m../numpy/_core/src/umath/string_fastsearch.h:846:24: \u001b[0m\u001b[0;1;36mnote: \u001b[0min instantiation of function template specialization '_two_way_count<char>' requested here\u001b[0m\n",
      "  \u001b[31m   \u001b[0m   846 |                 \u001b[0;34mreturn\u001b[0m _two_way_count(s_, n, p_, m, maxcount);\u001b[0m\n",
      "  \u001b[31m   \u001b[0m       | \u001b[0;1;32m                       ^\n",
      "  \u001b[31m   \u001b[0m \u001b[0m\u001b[1m../numpy/_core/src/umath/string_buffer.h:898:19: \u001b[0m\u001b[0;1;36mnote: \u001b[0min instantiation of function template specialization 'fastsearch<char>' requested here\u001b[0m\n",
      "  \u001b[31m   \u001b[0m   898 |             pos = fastsearch(start_loc, end_loc - start_loc, buf2.buf, buf2.after - buf2.buf, -\u001b[0;32m1\u001b[0m, FAST_SEARCH);\u001b[0m\n",
      "  \u001b[31m   \u001b[0m       | \u001b[0;1;32m                  ^\n",
      "  \u001b[31m   \u001b[0m \u001b[0m\u001b[1m../numpy/_core/src/umath/string_ufuncs.cpp:1114:9: \u001b[0m\u001b[0;1;36mnote: \u001b[0min instantiation of function template specialization 'string_find<ENCODING::ASCII>' requested here\u001b[0m\n",
      "  \u001b[31m   \u001b[0m  1114 |         string_find<ENCODING::ASCII>,\u001b[0m\n",
      "  \u001b[31m   \u001b[0m       | \u001b[0;1;32m        ^\n",
      "  \u001b[31m   \u001b[0m \u001b[0m\u001b[1m../numpy/_core/src/umath/string_buffer.h:720:1: \u001b[0m\u001b[0;1;36mnote: \u001b[0mcandidate template ignored: could not match 'Buffer' against 'CheckedIndexer'\u001b[0m\n",
      "  \u001b[31m   \u001b[0m   720 | \u001b[0;34moperator\u001b[0m-(Buffer<enc> lhs, Buffer<enc> rhs)\u001b[0m\n",
      "  \u001b[31m   \u001b[0m       | \u001b[0;1;32m^\n",
      "  \u001b[31m   \u001b[0m \u001b[0m\u001b[1m../numpy/_core/src/umath/string_buffer.h:736:1: \u001b[0m\u001b[0;1;36mnote: \u001b[0mcandidate template ignored: could not match 'Buffer' against 'CheckedIndexer'\u001b[0m\n",
      "  \u001b[31m   \u001b[0m   736 | \u001b[0;34moperator\u001b[0m-(Buffer<enc> lhs, npy_int64 rhs)\u001b[0m\n",
      "  \u001b[31m   \u001b[0m       | \u001b[0;1;32m^\n",
      "  \u001b[31m   \u001b[0m \u001b[0m\u001b[1m../numpy/_core/src/umath/string_fastsearch.h:139:5: \u001b[0m\u001b[0;1;36mnote: \u001b[0mcandidate function not viable: no known conversion from 'CheckedIndexer<char>' to 'size_t' (aka 'unsigned long') for 1st argument\u001b[0m\n",
      "  \u001b[31m   \u001b[0m   139 |     \u001b[0;34moperator\u001b[0m-(size_t rhs)\u001b[0m\n",
      "  \u001b[31m   \u001b[0m       | \u001b[0;1;32m    ^         ~~~~~~~~~~\n",
      "  \u001b[31m   \u001b[0m \u001b[0m\u001b[1m../numpy/_core/src/umath/string_fastsearch.h:219:23: \u001b[0m\u001b[0;1;31merror: \u001b[0m\u001b[1minvalid operands to binary expression ('CheckedIndexer<unsigned int>' and 'CheckedIndexer<unsigned int>')\u001b[0m\n",
      "  \u001b[31m   \u001b[0m   219 |             \u001b[0;34mreturn\u001b[0m (p - s);\u001b[0m\n",
      "  \u001b[31m   \u001b[0m       | \u001b[0;1;32m                    ~ ^ ~\n",
      "  \u001b[31m   \u001b[0m \u001b[0m\u001b[1m../numpy/_core/src/umath/string_fastsearch.h:826:20: \u001b[0m\u001b[0;1;36mnote: \u001b[0min instantiation of function template specialization 'rfindchar<unsigned int>' requested here\u001b[0m\n",
      "  \u001b[31m   \u001b[0m   826 |             \u001b[0;34mreturn\u001b[0m rfindchar(s_, n, p_[\u001b[0;32m0\u001b[0m]);\u001b[0m\n",
      "  \u001b[31m   \u001b[0m       | \u001b[0;1;32m                   ^\n",
      "  \u001b[31m   \u001b[0m \u001b[0m\u001b[1m../numpy/_core/src/umath/string_buffer.h:908:19: \u001b[0m\u001b[0;1;36mnote: \u001b[0min instantiation of function template specialization 'fastsearch<unsigned int>' requested here\u001b[0m\n",
      "  \u001b[31m   \u001b[0m   908 |             pos = fastsearch((npy_ucs4 *)start_loc, end - start,\u001b[0m\n",
      "  \u001b[31m   \u001b[0m       | \u001b[0;1;32m                  ^\n",
      "  \u001b[31m   \u001b[0m \u001b[0m\u001b[1m../numpy/_core/src/umath/string_ufuncs.cpp:1114:9: \u001b[0m\u001b[0;1;36mnote: \u001b[0min instantiation of function template specialization 'string_find<ENCODING::ASCII>' requested here\u001b[0m\n",
      "  \u001b[31m   \u001b[0m  1114 |         string_find<ENCODING::ASCII>,\u001b[0m\n",
      "  \u001b[31m   \u001b[0m       | \u001b[0;1;32m        ^\n",
      "  \u001b[31m   \u001b[0m \u001b[0m\u001b[1m../numpy/_core/src/umath/string_buffer.h:720:1: \u001b[0m\u001b[0;1;36mnote: \u001b[0mcandidate template ignored: could not match 'Buffer' against 'CheckedIndexer'\u001b[0m\n",
      "  \u001b[31m   \u001b[0m   720 | \u001b[0;34moperator\u001b[0m-(Buffer<enc> lhs, Buffer<enc> rhs)\u001b[0m\n",
      "  \u001b[31m   \u001b[0m       | \u001b[0;1;32m^\n",
      "  \u001b[31m   \u001b[0m \u001b[0m\u001b[1m../numpy/_core/src/umath/string_buffer.h:736:1: \u001b[0m\u001b[0;1;36mnote: \u001b[0mcandidate template ignored: could not match 'Buffer' against 'CheckedIndexer'\u001b[0m\n",
      "  \u001b[31m   \u001b[0m   736 | \u001b[0;34moperator\u001b[0m-(Buffer<enc> lhs, npy_int64 rhs)\u001b[0m\n",
      "  \u001b[31m   \u001b[0m       | \u001b[0;1;32m^\n",
      "  \u001b[31m   \u001b[0m \u001b[0m\u001b[1m../numpy/_core/src/umath/string_fastsearch.h:139:5: \u001b[0m\u001b[0;1;36mnote: \u001b[0mcandidate function not viable: no known conversion from 'CheckedIndexer<unsigned int>' to 'size_t' (aka 'unsigned long') for 1st argument\u001b[0m\n",
      "  \u001b[31m   \u001b[0m   139 |     \u001b[0;34moperator\u001b[0m-(size_t rhs)\u001b[0m\n",
      "  \u001b[31m   \u001b[0m       | \u001b[0;1;32m    ^         ~~~~~~~~~~\n",
      "  \u001b[31m   \u001b[0m \u001b[0m\u001b[1m../numpy/_core/src/umath/string_fastsearch.h:495:27: \u001b[0m\u001b[0;1;31merror: \u001b[0m\u001b[1minvalid operands to binary expression ('CheckedIndexer<unsigned int>' and 'CheckedIndexer<unsigned int>')\u001b[0m\n",
      "  \u001b[31m   \u001b[0m   495 |             \u001b[0;34mreturn\u001b[0m window - haystack;\u001b[0m\n",
      "  \u001b[31m   \u001b[0m       | \u001b[0;1;32m                   ~~~~~~ ^ ~~~~~~~~\n",
      "  \u001b[31m   \u001b[0m \u001b[0m\u001b[1m../numpy/_core/src/umath/string_fastsearch.h:576:18: \u001b[0m\u001b[0;1;36mnote: \u001b[0min instantiation of function template specialization '_two_way<unsigned int>' requested here\u001b[0m\n",
      "  \u001b[31m   \u001b[0m   576 |         result = _two_way(haystack + index,\u001b[0m\n",
      "  \u001b[31m   \u001b[0m       | \u001b[0;1;32m                 ^\n",
      "  \u001b[31m   \u001b[0m \u001b[0m\u001b[1m../numpy/_core/src/umath/string_fastsearch.h:846:24: \u001b[0m\u001b[0;1;36mnote: \u001b[0min instantiation of function template specialization '_two_way_count<unsigned int>' requested here\u001b[0m\n",
      "  \u001b[31m   \u001b[0m   846 |                 \u001b[0;34mreturn\u001b[0m _two_way_count(s_, n, p_, m, maxcount);\u001b[0m\n",
      "  \u001b[31m   \u001b[0m       | \u001b[0;1;32m                       ^\n",
      "  \u001b[31m   \u001b[0m \u001b[0m\u001b[1m../numpy/_core/src/umath/string_buffer.h:908:19: \u001b[0m\u001b[0;1;36mnote: \u001b[0min instantiation of function template specialization 'fastsearch<unsigned int>' requested here\u001b[0m\n",
      "  \u001b[31m   \u001b[0m   908 |             pos = fastsearch((npy_ucs4 *)start_loc, end - start,\u001b[0m\n",
      "  \u001b[31m   \u001b[0m       | \u001b[0;1;32m                  ^\n",
      "  \u001b[31m   \u001b[0m \u001b[0m\u001b[1m../numpy/_core/src/umath/string_ufuncs.cpp:1114:9: \u001b[0m\u001b[0;1;36mnote: \u001b[0min instantiation of function template specialization 'string_find<ENCODING::ASCII>' requested here\u001b[0m\n",
      "  \u001b[31m   \u001b[0m  1114 |         string_find<ENCODING::ASCII>,\u001b[0m\n",
      "  \u001b[31m   \u001b[0m       | \u001b[0;1;32m        ^\n",
      "  \u001b[31m   \u001b[0m \u001b[0m\u001b[1m../numpy/_core/src/umath/string_buffer.h:720:1: \u001b[0m\u001b[0;1;36mnote: \u001b[0mcandidate template ignored: could not match 'Buffer' against 'CheckedIndexer'\u001b[0m\n",
      "  \u001b[31m   \u001b[0m   720 | \u001b[0;34moperator\u001b[0m-(Buffer<enc> lhs, Buffer<enc> rhs)\u001b[0m\n",
      "  \u001b[31m   \u001b[0m       | \u001b[0;1;32m^\n",
      "  \u001b[31m   \u001b[0m \u001b[0m\u001b[1m../numpy/_core/src/umath/string_buffer.h:736:1: \u001b[0m\u001b[0;1;36mnote: \u001b[0mcandidate template ignored: could not match 'Buffer' against 'CheckedIndexer'\u001b[0m\n",
      "  \u001b[31m   \u001b[0m   736 | \u001b[0;34moperator\u001b[0m-(Buffer<enc> lhs, npy_int64 rhs)\u001b[0m\n",
      "  \u001b[31m   \u001b[0m       | \u001b[0;1;32m^\n",
      "  \u001b[31m   \u001b[0m \u001b[0m\u001b[1m../numpy/_core/src/umath/string_fastsearch.h:139:5: \u001b[0m\u001b[0;1;36mnote: \u001b[0mcandidate function not viable: no known conversion from 'CheckedIndexer<unsigned int>' to 'size_t' (aka 'unsigned long') for 1st argument\u001b[0m\n",
      "  \u001b[31m   \u001b[0m   139 |     \u001b[0;34moperator\u001b[0m-(size_t rhs)\u001b[0m\n",
      "  \u001b[31m   \u001b[0m       | \u001b[0;1;32m    ^         ~~~~~~~~~~\n",
      "  \u001b[31m   \u001b[0m \u001b[0mIn file included from ../numpy/_core/src/umath/string_ufuncs.cpp:21:\n",
      "  \u001b[31m   \u001b[0m \u001b[1m../numpy/_core/src/umath/string_buffer.h:924:20: \u001b[0m\u001b[0;1;31merror: \u001b[0m\u001b[1mno matching function for call to 'string_find'\u001b[0m\n",
      "  \u001b[31m   \u001b[0m   924 |     npy_intp pos = string_find(buf1, buf2, start, end);\u001b[0m\n",
      "  \u001b[31m   \u001b[0m       | \u001b[0;1;32m                   ^~~~~~~~~~~\n",
      "  \u001b[31m   \u001b[0m \u001b[0m\u001b[1m../numpy/_core/src/umath/string_ufuncs.cpp:1116:9: \u001b[0m\u001b[0;1;36mnote: \u001b[0min instantiation of function template specialization 'string_index<ENCODING::ASCII>' requested here\u001b[0m\n",
      "  \u001b[31m   \u001b[0m  1116 |         string_index<ENCODING::ASCII>,\u001b[0m\n",
      "  \u001b[31m   \u001b[0m       | \u001b[0;1;32m        ^\n",
      "  \u001b[31m   \u001b[0m \u001b[0m\u001b[1m../numpy/_core/src/umath/string_buffer.h:831:1: \u001b[0m\u001b[0;1;36mnote: \u001b[0mcandidate template ignored: substitution failure [with enc = ENCODING::ASCII]\u001b[0m\n",
      "  \u001b[31m   \u001b[0m   831 | string_find(Buffer<enc> buf1, Buffer<enc> buf2, npy_int64 start, npy_int64 end)\u001b[0m\n",
      "  \u001b[31m   \u001b[0m       | \u001b[0;1;32m^\n",
      "  \u001b[31m   \u001b[0m \u001b[0m\u001b[1m../numpy/_core/src/umath/string_buffer.h:924:20: \u001b[0m\u001b[0;1;31merror: \u001b[0m\u001b[1mno matching function for call to 'string_find'\u001b[0m\n",
      "  \u001b[31m   \u001b[0m   924 |     npy_intp pos = string_find(buf1, buf2, start, end);\u001b[0m\n",
      "  \u001b[31m   \u001b[0m       | \u001b[0;1;32m                   ^~~~~~~~~~~\n",
      "  \u001b[31m   \u001b[0m \u001b[0m\u001b[1m../numpy/_core/src/umath/string_ufuncs.cpp:1124:9: \u001b[0m\u001b[0;1;36mnote: \u001b[0min instantiation of function template specialization 'string_index<ENCODING::UTF32>' requested here\u001b[0m\n",
      "  \u001b[31m   \u001b[0m  1124 |         string_index<ENCODING::UTF32>,\u001b[0m\n",
      "  \u001b[31m   \u001b[0m       | \u001b[0;1;32m        ^\n",
      "  \u001b[31m   \u001b[0m \u001b[0m\u001b[1m../numpy/_core/src/umath/string_buffer.h:831:1: \u001b[0m\u001b[0;1;36mnote: \u001b[0mcandidate template ignored: substitution failure [with enc = ENCODING::UTF32]\u001b[0m\n",
      "  \u001b[31m   \u001b[0m   831 | string_find(Buffer<enc> buf1, Buffer<enc> buf2, npy_int64 start, npy_int64 end)\u001b[0m\n",
      "  \u001b[31m   \u001b[0m       | \u001b[0;1;32m^\n",
      "  \u001b[31m   \u001b[0m \u001b[0m7 errors generated.\n",
      "  \u001b[31m   \u001b[0m [247/322] Compiling C++ object numpy/_core/_multiarray_umath.cpython-313-darwin.so.p/src_umath_clip.cpp.o\n",
      "  \u001b[31m   \u001b[0m [248/322] Compiling C++ object numpy/_core/_multiarray_umath.cpython-313-darwin.so.p/src_umath_special_integer_comparisons.cpp.o\n",
      "  \u001b[31m   \u001b[0m [249/322] Compiling C object numpy/_core/_multiarray_umath.cpython-313-darwin.so.p/src_umath_wrapping_array_method.c.o\n",
      "  \u001b[31m   \u001b[0m [250/322] Compiling C object numpy/_core/_multiarray_umath.cpython-313-darwin.so.p/src_umath_umathmodule.c.o\n",
      "  \u001b[31m   \u001b[0m [251/322] Compiling C++ object numpy/_core/_multiarray_umath.cpython-313-darwin.so.p/src_umath_stringdtype_ufuncs.cpp.o\n",
      "  \u001b[31m   \u001b[0m [252/322] Compiling C object numpy/_core/_multiarray_umath.cpython-313-darwin.so.p/src_umath_ufunc_object.c.o\n",
      "  \u001b[31m   \u001b[0m [253/322] Compiling C++ object numpy/_core/_multiarray_umath.cpython-313-darwin.so.p/src_npysort_quicksort.cpp.o\n",
      "  \u001b[31m   \u001b[0m [254/322] Compiling C++ object numpy/_core/_multiarray_umath.cpython-313-darwin.so.p/src_npysort_selection.cpp.o\n",
      "  \u001b[31m   \u001b[0m [255/322] Compiling C++ object numpy/_core/_multiarray_umath.cpython-313-darwin.so.p/src_npysort_timsort.cpp.o\n",
      "  \u001b[31m   \u001b[0m ninja: build stopped: subcommand failed.\n",
      "  \u001b[31m   \u001b[0m \u001b[31m[end of output]\u001b[0m\n",
      "  \n",
      "  \u001b[1;35mnote\u001b[0m: This error originates from a subprocess, and is likely not a problem with pip.\n",
      "\u001b[1;31merror\u001b[0m: \u001b[1mmetadata-generation-failed\u001b[0m\n",
      "\n",
      "\u001b[31m×\u001b[0m Encountered error while generating package metadata.\n",
      "\u001b[31m╰─>\u001b[0m See above for output.\n",
      "\n",
      "\u001b[1;35mnote\u001b[0m: This is an issue with the package mentioned above, not pip.\n",
      "\u001b[1;36mhint\u001b[0m: See above for details.\n",
      "\u001b[?25hNote: you may need to restart the kernel to use updated packages.\n"
     ]
    }
   ],
   "source": [
    "pip install \"numpy==2.0.1\""
   ]
  },
  {
   "cell_type": "code",
   "execution_count": null,
   "metadata": {
    "id": "3EB8qWlpT97a"
   },
   "outputs": [],
   "source": [
    "import numpy as np\n",
    "import pandas as pd\n",
    "import tensorflow as tf\n",
    "from tensorflow import keras\n",
    "import matplotlib.pyplot as plt\n",
    "\n",
    "import plotly.graph_objects as go\n",
    "from plotly.subplots import make_subplots"
   ]
  },
  {
   "cell_type": "markdown",
   "metadata": {
    "id": "lDdiceLEYuEN"
   },
   "source": [
    "#### 1.2) Load Dataset\n",
    "\n",
    "Load the **Fashion-MNIST** dataset from Keras, splitting it into:  \n",
    "- `train_images`, `train_labels` → training set  \n",
    "- `test_images`, `test_labels` → test set  \n"
   ]
  },
  {
   "cell_type": "code",
   "execution_count": 4,
   "metadata": {
    "colab": {
     "base_uri": "https://localhost:8080/"
    },
    "id": "FLhqm_OwT-27",
    "outputId": "7e50c7b9-6adb-4ae4-d100-117da73cc1a8"
   },
   "outputs": [
    {
     "name": "stdout",
     "output_type": "stream",
     "text": [
      "Downloading data from https://storage.googleapis.com/tensorflow/tf-keras-datasets/train-labels-idx1-ubyte.gz\n",
      "\u001b[1m29515/29515\u001b[0m \u001b[32m━━━━━━━━━━━━━━━━━━━━\u001b[0m\u001b[37m\u001b[0m \u001b[1m0s\u001b[0m 0us/step\n",
      "Downloading data from https://storage.googleapis.com/tensorflow/tf-keras-datasets/train-images-idx3-ubyte.gz\n",
      "\u001b[1m26421880/26421880\u001b[0m \u001b[32m━━━━━━━━━━━━━━━━━━━━\u001b[0m\u001b[37m\u001b[0m \u001b[1m4s\u001b[0m 0us/step \n",
      "Downloading data from https://storage.googleapis.com/tensorflow/tf-keras-datasets/t10k-labels-idx1-ubyte.gz\n",
      "\u001b[1m5148/5148\u001b[0m \u001b[32m━━━━━━━━━━━━━━━━━━━━\u001b[0m\u001b[37m\u001b[0m \u001b[1m0s\u001b[0m 0us/step\n",
      "Downloading data from https://storage.googleapis.com/tensorflow/tf-keras-datasets/t10k-images-idx3-ubyte.gz\n",
      "\u001b[1m4422102/4422102\u001b[0m \u001b[32m━━━━━━━━━━━━━━━━━━━━\u001b[0m\u001b[37m\u001b[0m \u001b[1m0s\u001b[0m 0us/step\n"
     ]
    }
   ],
   "source": [
    "(train_images, train_labels), (test_images, test_labels) = keras.datasets.fashion_mnist.load_data()"
   ]
  },
  {
   "cell_type": "markdown",
   "metadata": {
    "id": "gWFb4KiKYz8k"
   },
   "source": [
    "#### 1.3) Normalize Data\n",
    "\n",
    "Scale pixel values from **0–255** to the range **0–1** for faster and more stable training.  \n",
    "\n",
    "**Example:**  \n",
    "- Before: a pixel value could be `200`  \n",
    "- After: `200 / 255 ≈ 0.78`  \n"
   ]
  },
  {
   "cell_type": "code",
   "execution_count": 5,
   "metadata": {
    "id": "VpBVd73PUARF"
   },
   "outputs": [],
   "source": [
    "train_images = train_images / 255.0\n",
    "test_images = test_images / 255.0"
   ]
  },
  {
   "cell_type": "markdown",
   "metadata": {
    "id": "eARU4Ml3Y7ZY"
   },
   "source": [
    "#### 1.4) Reshape Data\n",
    "\n",
    "Reshape images to **28×28×1** by adding a channel dimension, making them compatible with CNN layers.  \n",
    "\n",
    "**Example:**  \n",
    "- Before: `(60000, 28, 28)` → 60,000 grayscale images without channel info  \n",
    "- After: `(60000, 28, 28, 1)` → channel dimension (`1`) added for CNN input  \n"
   ]
  },
  {
   "cell_type": "code",
   "execution_count": 6,
   "metadata": {
    "id": "0YPN1XfvUDhW"
   },
   "outputs": [],
   "source": [
    "train_images = train_images.reshape((train_images.shape[0], 28, 28, 1))\n",
    "test_images = test_images.reshape((test_images.shape[0], 28, 28, 1))"
   ]
  },
  {
   "cell_type": "markdown",
   "metadata": {
    "id": "HjRlf9-EZDKi"
   },
   "source": [
    "#### 1.5) One-Hot Encode Labels\n",
    "\n",
    "Convert class labels (0–9) into **one-hot encoded vectors** with 10 output classes, required for multi-class classification.  \n",
    "\n",
    "**Example:**  \n",
    "- Original label: `3`  \n",
    "- One-hot encoded: `[0, 0, 0, 1, 0, 0, 0, 0, 0, 0]`  \n"
   ]
  },
  {
   "cell_type": "code",
   "execution_count": 7,
   "metadata": {
    "id": "IXAUOyMoUErl"
   },
   "outputs": [],
   "source": [
    "train_labels_one_hot = keras.utils.to_categorical(train_labels, num_classes=10)\n",
    "test_labels_one_hot = keras.utils.to_categorical(test_labels, num_classes=10)"
   ]
  },
  {
   "cell_type": "markdown",
   "metadata": {
    "id": "tDoWjyciZUBL"
   },
   "source": [
    "#### 1.6) Verify Dataset Shapes\n",
    "\n",
    "Print the shapes of images and labels after preprocessing to confirm everything is in the expected format.  \n",
    "\n",
    "**Example output:**  \n",
    "- Training images shape: `(60000, 28, 28, 1)`  \n",
    "- Testing images shape: `(10000, 28, 28, 1)`  \n",
    "- Training labels shape: `(60000, 10)`  \n",
    "- Testing labels shape: `(10000, 10)`  \n"
   ]
  },
  {
   "cell_type": "code",
   "execution_count": 8,
   "metadata": {
    "colab": {
     "base_uri": "https://localhost:8080/"
    },
    "id": "E7-bd9rhUFwj",
    "outputId": "54aea0a4-1baf-4a95-8c8f-33ae1a49c3e6"
   },
   "outputs": [
    {
     "name": "stdout",
     "output_type": "stream",
     "text": [
      "Training images shape: (60000, 28, 28, 1)\n",
      "Testing images shape: (10000, 28, 28, 1)\n",
      "Training labels shape: (60000, 10)\n",
      "Testing labels shape: (10000, 10)\n"
     ]
    }
   ],
   "source": [
    "print(\"Training images shape:\", train_images.shape)\n",
    "print(\"Testing images shape:\", test_images.shape)\n",
    "print(\"Training labels shape:\", train_labels_one_hot.shape)\n",
    "print(\"Testing labels shape:\", test_labels_one_hot.shape)"
   ]
  },
  {
   "cell_type": "markdown",
   "metadata": {
    "id": "fa61470f"
   },
   "source": [
    "### 2. Model Building"
   ]
  },
  {
   "cell_type": "markdown",
   "metadata": {
    "id": "i53jkqYtUXwX"
   },
   "source": [
    "#### 2.1) Basic ANN Model"
   ]
  },
  {
   "cell_type": "markdown",
   "metadata": {
    "id": "yoPgGlRReUBx"
   },
   "source": [
    "- **Flatten (28×28→784)** → 0 params  \n",
    "- **Dense (128, ReLU)** → 100,480 params  \n",
    "- **Dense (64, ReLU)** → 8,256 params  \n",
    "- **Dense (10, Softmax)** → 650 params  \n",
    "\n",
    "**Total params:** ~109K  "
   ]
  },
  {
   "cell_type": "code",
   "execution_count": 9,
   "metadata": {
    "colab": {
     "base_uri": "https://localhost:8080/",
     "height": 320
    },
    "id": "9c0017b8",
    "outputId": "3415455d-310c-4d41-bd89-79eda2ee2aec"
   },
   "outputs": [
    {
     "name": "stderr",
     "output_type": "stream",
     "text": [
      "/home/roshan/anaconda3/lib/python3.13/site-packages/keras/src/layers/reshaping/flatten.py:37: UserWarning: Do not pass an `input_shape`/`input_dim` argument to a layer. When using Sequential models, prefer using an `Input(shape)` object as the first layer in the model instead.\n",
      "  super().__init__(**kwargs)\n",
      "2025-10-15 16:40:05.126253: E external/local_xla/xla/stream_executor/cuda/cuda_platform.cc:51] failed call to cuInit: INTERNAL: CUDA error: Failed call to cuInit: UNKNOWN ERROR (303)\n"
     ]
    },
    {
     "data": {
      "text/html": [
       "<pre style=\"white-space:pre;overflow-x:auto;line-height:normal;font-family:Menlo,'DejaVu Sans Mono',consolas,'Courier New',monospace\"><span style=\"font-weight: bold\">Model: \"sequential\"</span>\n",
       "</pre>\n"
      ],
      "text/plain": [
       "\u001b[1mModel: \"sequential\"\u001b[0m\n"
      ]
     },
     "metadata": {},
     "output_type": "display_data"
    },
    {
     "data": {
      "text/html": [
       "<pre style=\"white-space:pre;overflow-x:auto;line-height:normal;font-family:Menlo,'DejaVu Sans Mono',consolas,'Courier New',monospace\">┏━━━━━━━━━━━━━━━━━━━━━━━━━━━━━━━━━┳━━━━━━━━━━━━━━━━━━━━━━━━┳━━━━━━━━━━━━━━━┓\n",
       "┃<span style=\"font-weight: bold\"> Layer (type)                    </span>┃<span style=\"font-weight: bold\"> Output Shape           </span>┃<span style=\"font-weight: bold\">       Param # </span>┃\n",
       "┡━━━━━━━━━━━━━━━━━━━━━━━━━━━━━━━━━╇━━━━━━━━━━━━━━━━━━━━━━━━╇━━━━━━━━━━━━━━━┩\n",
       "│ flatten (<span style=\"color: #0087ff; text-decoration-color: #0087ff\">Flatten</span>)               │ (<span style=\"color: #00d7ff; text-decoration-color: #00d7ff\">None</span>, <span style=\"color: #00af00; text-decoration-color: #00af00\">784</span>)            │             <span style=\"color: #00af00; text-decoration-color: #00af00\">0</span> │\n",
       "├─────────────────────────────────┼────────────────────────┼───────────────┤\n",
       "│ dense (<span style=\"color: #0087ff; text-decoration-color: #0087ff\">Dense</span>)                   │ (<span style=\"color: #00d7ff; text-decoration-color: #00d7ff\">None</span>, <span style=\"color: #00af00; text-decoration-color: #00af00\">128</span>)            │       <span style=\"color: #00af00; text-decoration-color: #00af00\">100,480</span> │\n",
       "├─────────────────────────────────┼────────────────────────┼───────────────┤\n",
       "│ dense_1 (<span style=\"color: #0087ff; text-decoration-color: #0087ff\">Dense</span>)                 │ (<span style=\"color: #00d7ff; text-decoration-color: #00d7ff\">None</span>, <span style=\"color: #00af00; text-decoration-color: #00af00\">64</span>)             │         <span style=\"color: #00af00; text-decoration-color: #00af00\">8,256</span> │\n",
       "├─────────────────────────────────┼────────────────────────┼───────────────┤\n",
       "│ dense_2 (<span style=\"color: #0087ff; text-decoration-color: #0087ff\">Dense</span>)                 │ (<span style=\"color: #00d7ff; text-decoration-color: #00d7ff\">None</span>, <span style=\"color: #00af00; text-decoration-color: #00af00\">10</span>)             │           <span style=\"color: #00af00; text-decoration-color: #00af00\">650</span> │\n",
       "└─────────────────────────────────┴────────────────────────┴───────────────┘\n",
       "</pre>\n"
      ],
      "text/plain": [
       "┏━━━━━━━━━━━━━━━━━━━━━━━━━━━━━━━━━┳━━━━━━━━━━━━━━━━━━━━━━━━┳━━━━━━━━━━━━━━━┓\n",
       "┃\u001b[1m \u001b[0m\u001b[1mLayer (type)                   \u001b[0m\u001b[1m \u001b[0m┃\u001b[1m \u001b[0m\u001b[1mOutput Shape          \u001b[0m\u001b[1m \u001b[0m┃\u001b[1m \u001b[0m\u001b[1m      Param #\u001b[0m\u001b[1m \u001b[0m┃\n",
       "┡━━━━━━━━━━━━━━━━━━━━━━━━━━━━━━━━━╇━━━━━━━━━━━━━━━━━━━━━━━━╇━━━━━━━━━━━━━━━┩\n",
       "│ flatten (\u001b[38;5;33mFlatten\u001b[0m)               │ (\u001b[38;5;45mNone\u001b[0m, \u001b[38;5;34m784\u001b[0m)            │             \u001b[38;5;34m0\u001b[0m │\n",
       "├─────────────────────────────────┼────────────────────────┼───────────────┤\n",
       "│ dense (\u001b[38;5;33mDense\u001b[0m)                   │ (\u001b[38;5;45mNone\u001b[0m, \u001b[38;5;34m128\u001b[0m)            │       \u001b[38;5;34m100,480\u001b[0m │\n",
       "├─────────────────────────────────┼────────────────────────┼───────────────┤\n",
       "│ dense_1 (\u001b[38;5;33mDense\u001b[0m)                 │ (\u001b[38;5;45mNone\u001b[0m, \u001b[38;5;34m64\u001b[0m)             │         \u001b[38;5;34m8,256\u001b[0m │\n",
       "├─────────────────────────────────┼────────────────────────┼───────────────┤\n",
       "│ dense_2 (\u001b[38;5;33mDense\u001b[0m)                 │ (\u001b[38;5;45mNone\u001b[0m, \u001b[38;5;34m10\u001b[0m)             │           \u001b[38;5;34m650\u001b[0m │\n",
       "└─────────────────────────────────┴────────────────────────┴───────────────┘\n"
      ]
     },
     "metadata": {},
     "output_type": "display_data"
    },
    {
     "data": {
      "text/html": [
       "<pre style=\"white-space:pre;overflow-x:auto;line-height:normal;font-family:Menlo,'DejaVu Sans Mono',consolas,'Courier New',monospace\"><span style=\"font-weight: bold\"> Total params: </span><span style=\"color: #00af00; text-decoration-color: #00af00\">109,386</span> (427.29 KB)\n",
       "</pre>\n"
      ],
      "text/plain": [
       "\u001b[1m Total params: \u001b[0m\u001b[38;5;34m109,386\u001b[0m (427.29 KB)\n"
      ]
     },
     "metadata": {},
     "output_type": "display_data"
    },
    {
     "data": {
      "text/html": [
       "<pre style=\"white-space:pre;overflow-x:auto;line-height:normal;font-family:Menlo,'DejaVu Sans Mono',consolas,'Courier New',monospace\"><span style=\"font-weight: bold\"> Trainable params: </span><span style=\"color: #00af00; text-decoration-color: #00af00\">109,386</span> (427.29 KB)\n",
       "</pre>\n"
      ],
      "text/plain": [
       "\u001b[1m Trainable params: \u001b[0m\u001b[38;5;34m109,386\u001b[0m (427.29 KB)\n"
      ]
     },
     "metadata": {},
     "output_type": "display_data"
    },
    {
     "data": {
      "text/html": [
       "<pre style=\"white-space:pre;overflow-x:auto;line-height:normal;font-family:Menlo,'DejaVu Sans Mono',consolas,'Courier New',monospace\"><span style=\"font-weight: bold\"> Non-trainable params: </span><span style=\"color: #00af00; text-decoration-color: #00af00\">0</span> (0.00 B)\n",
       "</pre>\n"
      ],
      "text/plain": [
       "\u001b[1m Non-trainable params: \u001b[0m\u001b[38;5;34m0\u001b[0m (0.00 B)\n"
      ]
     },
     "metadata": {},
     "output_type": "display_data"
    }
   ],
   "source": [
    "ann_model = keras.Sequential([\n",
    "    keras.layers.Flatten(input_shape=(28, 28, 1)),\n",
    "    keras.layers.Dense(128, activation='relu'),\n",
    "    keras.layers.Dense(64, activation='relu'),\n",
    "    keras.layers.Dense(10, activation='softmax')\n",
    "])\n",
    "\n",
    "ann_model.compile(optimizer='adam',\n",
    "                  loss='categorical_crossentropy',\n",
    "                  metrics=['accuracy'])\n",
    "\n",
    "ann_model.summary()"
   ]
  },
  {
   "cell_type": "markdown",
   "metadata": {
    "id": "8d5f1731"
   },
   "source": [
    "#### 2.2) Basic CNN Model"
   ]
  },
  {
   "cell_type": "markdown",
   "metadata": {
    "id": "RoLST4EzeWbK"
   },
   "source": [
    "- **Conv2D (32, 3×3) + MaxPool** → 320 params  \n",
    "- **Conv2D (64, 3×3) + MaxPool** → 18,496 params  \n",
    "- **Flatten**  \n",
    "- **Dense (64, ReLU)** → 102,464 params  \n",
    "- **Dense (10, Softmax)** → 650 params  \n",
    "\n",
    "**Total params:** ~121K  "
   ]
  },
  {
   "cell_type": "code",
   "execution_count": 10,
   "metadata": {
    "colab": {
     "base_uri": "https://localhost:8080/",
     "height": 419
    },
    "id": "14857787",
    "outputId": "8e09c50d-d000-44f1-cbd2-2fd3458b0021"
   },
   "outputs": [
    {
     "name": "stderr",
     "output_type": "stream",
     "text": [
      "/home/roshan/anaconda3/lib/python3.13/site-packages/keras/src/layers/convolutional/base_conv.py:113: UserWarning: Do not pass an `input_shape`/`input_dim` argument to a layer. When using Sequential models, prefer using an `Input(shape)` object as the first layer in the model instead.\n",
      "  super().__init__(activity_regularizer=activity_regularizer, **kwargs)\n"
     ]
    },
    {
     "data": {
      "text/html": [
       "<pre style=\"white-space:pre;overflow-x:auto;line-height:normal;font-family:Menlo,'DejaVu Sans Mono',consolas,'Courier New',monospace\"><span style=\"font-weight: bold\">Model: \"sequential_1\"</span>\n",
       "</pre>\n"
      ],
      "text/plain": [
       "\u001b[1mModel: \"sequential_1\"\u001b[0m\n"
      ]
     },
     "metadata": {},
     "output_type": "display_data"
    },
    {
     "data": {
      "text/html": [
       "<pre style=\"white-space:pre;overflow-x:auto;line-height:normal;font-family:Menlo,'DejaVu Sans Mono',consolas,'Courier New',monospace\">┏━━━━━━━━━━━━━━━━━━━━━━━━━━━━━━━━━┳━━━━━━━━━━━━━━━━━━━━━━━━┳━━━━━━━━━━━━━━━┓\n",
       "┃<span style=\"font-weight: bold\"> Layer (type)                    </span>┃<span style=\"font-weight: bold\"> Output Shape           </span>┃<span style=\"font-weight: bold\">       Param # </span>┃\n",
       "┡━━━━━━━━━━━━━━━━━━━━━━━━━━━━━━━━━╇━━━━━━━━━━━━━━━━━━━━━━━━╇━━━━━━━━━━━━━━━┩\n",
       "│ conv2d (<span style=\"color: #0087ff; text-decoration-color: #0087ff\">Conv2D</span>)                 │ (<span style=\"color: #00d7ff; text-decoration-color: #00d7ff\">None</span>, <span style=\"color: #00af00; text-decoration-color: #00af00\">26</span>, <span style=\"color: #00af00; text-decoration-color: #00af00\">26</span>, <span style=\"color: #00af00; text-decoration-color: #00af00\">32</span>)     │           <span style=\"color: #00af00; text-decoration-color: #00af00\">320</span> │\n",
       "├─────────────────────────────────┼────────────────────────┼───────────────┤\n",
       "│ max_pooling2d (<span style=\"color: #0087ff; text-decoration-color: #0087ff\">MaxPooling2D</span>)    │ (<span style=\"color: #00d7ff; text-decoration-color: #00d7ff\">None</span>, <span style=\"color: #00af00; text-decoration-color: #00af00\">13</span>, <span style=\"color: #00af00; text-decoration-color: #00af00\">13</span>, <span style=\"color: #00af00; text-decoration-color: #00af00\">32</span>)     │             <span style=\"color: #00af00; text-decoration-color: #00af00\">0</span> │\n",
       "├─────────────────────────────────┼────────────────────────┼───────────────┤\n",
       "│ conv2d_1 (<span style=\"color: #0087ff; text-decoration-color: #0087ff\">Conv2D</span>)               │ (<span style=\"color: #00d7ff; text-decoration-color: #00d7ff\">None</span>, <span style=\"color: #00af00; text-decoration-color: #00af00\">11</span>, <span style=\"color: #00af00; text-decoration-color: #00af00\">11</span>, <span style=\"color: #00af00; text-decoration-color: #00af00\">64</span>)     │        <span style=\"color: #00af00; text-decoration-color: #00af00\">18,496</span> │\n",
       "├─────────────────────────────────┼────────────────────────┼───────────────┤\n",
       "│ max_pooling2d_1 (<span style=\"color: #0087ff; text-decoration-color: #0087ff\">MaxPooling2D</span>)  │ (<span style=\"color: #00d7ff; text-decoration-color: #00d7ff\">None</span>, <span style=\"color: #00af00; text-decoration-color: #00af00\">5</span>, <span style=\"color: #00af00; text-decoration-color: #00af00\">5</span>, <span style=\"color: #00af00; text-decoration-color: #00af00\">64</span>)       │             <span style=\"color: #00af00; text-decoration-color: #00af00\">0</span> │\n",
       "├─────────────────────────────────┼────────────────────────┼───────────────┤\n",
       "│ flatten_1 (<span style=\"color: #0087ff; text-decoration-color: #0087ff\">Flatten</span>)             │ (<span style=\"color: #00d7ff; text-decoration-color: #00d7ff\">None</span>, <span style=\"color: #00af00; text-decoration-color: #00af00\">1600</span>)           │             <span style=\"color: #00af00; text-decoration-color: #00af00\">0</span> │\n",
       "├─────────────────────────────────┼────────────────────────┼───────────────┤\n",
       "│ dense_3 (<span style=\"color: #0087ff; text-decoration-color: #0087ff\">Dense</span>)                 │ (<span style=\"color: #00d7ff; text-decoration-color: #00d7ff\">None</span>, <span style=\"color: #00af00; text-decoration-color: #00af00\">64</span>)             │       <span style=\"color: #00af00; text-decoration-color: #00af00\">102,464</span> │\n",
       "├─────────────────────────────────┼────────────────────────┼───────────────┤\n",
       "│ dense_4 (<span style=\"color: #0087ff; text-decoration-color: #0087ff\">Dense</span>)                 │ (<span style=\"color: #00d7ff; text-decoration-color: #00d7ff\">None</span>, <span style=\"color: #00af00; text-decoration-color: #00af00\">10</span>)             │           <span style=\"color: #00af00; text-decoration-color: #00af00\">650</span> │\n",
       "└─────────────────────────────────┴────────────────────────┴───────────────┘\n",
       "</pre>\n"
      ],
      "text/plain": [
       "┏━━━━━━━━━━━━━━━━━━━━━━━━━━━━━━━━━┳━━━━━━━━━━━━━━━━━━━━━━━━┳━━━━━━━━━━━━━━━┓\n",
       "┃\u001b[1m \u001b[0m\u001b[1mLayer (type)                   \u001b[0m\u001b[1m \u001b[0m┃\u001b[1m \u001b[0m\u001b[1mOutput Shape          \u001b[0m\u001b[1m \u001b[0m┃\u001b[1m \u001b[0m\u001b[1m      Param #\u001b[0m\u001b[1m \u001b[0m┃\n",
       "┡━━━━━━━━━━━━━━━━━━━━━━━━━━━━━━━━━╇━━━━━━━━━━━━━━━━━━━━━━━━╇━━━━━━━━━━━━━━━┩\n",
       "│ conv2d (\u001b[38;5;33mConv2D\u001b[0m)                 │ (\u001b[38;5;45mNone\u001b[0m, \u001b[38;5;34m26\u001b[0m, \u001b[38;5;34m26\u001b[0m, \u001b[38;5;34m32\u001b[0m)     │           \u001b[38;5;34m320\u001b[0m │\n",
       "├─────────────────────────────────┼────────────────────────┼───────────────┤\n",
       "│ max_pooling2d (\u001b[38;5;33mMaxPooling2D\u001b[0m)    │ (\u001b[38;5;45mNone\u001b[0m, \u001b[38;5;34m13\u001b[0m, \u001b[38;5;34m13\u001b[0m, \u001b[38;5;34m32\u001b[0m)     │             \u001b[38;5;34m0\u001b[0m │\n",
       "├─────────────────────────────────┼────────────────────────┼───────────────┤\n",
       "│ conv2d_1 (\u001b[38;5;33mConv2D\u001b[0m)               │ (\u001b[38;5;45mNone\u001b[0m, \u001b[38;5;34m11\u001b[0m, \u001b[38;5;34m11\u001b[0m, \u001b[38;5;34m64\u001b[0m)     │        \u001b[38;5;34m18,496\u001b[0m │\n",
       "├─────────────────────────────────┼────────────────────────┼───────────────┤\n",
       "│ max_pooling2d_1 (\u001b[38;5;33mMaxPooling2D\u001b[0m)  │ (\u001b[38;5;45mNone\u001b[0m, \u001b[38;5;34m5\u001b[0m, \u001b[38;5;34m5\u001b[0m, \u001b[38;5;34m64\u001b[0m)       │             \u001b[38;5;34m0\u001b[0m │\n",
       "├─────────────────────────────────┼────────────────────────┼───────────────┤\n",
       "│ flatten_1 (\u001b[38;5;33mFlatten\u001b[0m)             │ (\u001b[38;5;45mNone\u001b[0m, \u001b[38;5;34m1600\u001b[0m)           │             \u001b[38;5;34m0\u001b[0m │\n",
       "├─────────────────────────────────┼────────────────────────┼───────────────┤\n",
       "│ dense_3 (\u001b[38;5;33mDense\u001b[0m)                 │ (\u001b[38;5;45mNone\u001b[0m, \u001b[38;5;34m64\u001b[0m)             │       \u001b[38;5;34m102,464\u001b[0m │\n",
       "├─────────────────────────────────┼────────────────────────┼───────────────┤\n",
       "│ dense_4 (\u001b[38;5;33mDense\u001b[0m)                 │ (\u001b[38;5;45mNone\u001b[0m, \u001b[38;5;34m10\u001b[0m)             │           \u001b[38;5;34m650\u001b[0m │\n",
       "└─────────────────────────────────┴────────────────────────┴───────────────┘\n"
      ]
     },
     "metadata": {},
     "output_type": "display_data"
    },
    {
     "data": {
      "text/html": [
       "<pre style=\"white-space:pre;overflow-x:auto;line-height:normal;font-family:Menlo,'DejaVu Sans Mono',consolas,'Courier New',monospace\"><span style=\"font-weight: bold\"> Total params: </span><span style=\"color: #00af00; text-decoration-color: #00af00\">121,930</span> (476.29 KB)\n",
       "</pre>\n"
      ],
      "text/plain": [
       "\u001b[1m Total params: \u001b[0m\u001b[38;5;34m121,930\u001b[0m (476.29 KB)\n"
      ]
     },
     "metadata": {},
     "output_type": "display_data"
    },
    {
     "data": {
      "text/html": [
       "<pre style=\"white-space:pre;overflow-x:auto;line-height:normal;font-family:Menlo,'DejaVu Sans Mono',consolas,'Courier New',monospace\"><span style=\"font-weight: bold\"> Trainable params: </span><span style=\"color: #00af00; text-decoration-color: #00af00\">121,930</span> (476.29 KB)\n",
       "</pre>\n"
      ],
      "text/plain": [
       "\u001b[1m Trainable params: \u001b[0m\u001b[38;5;34m121,930\u001b[0m (476.29 KB)\n"
      ]
     },
     "metadata": {},
     "output_type": "display_data"
    },
    {
     "data": {
      "text/html": [
       "<pre style=\"white-space:pre;overflow-x:auto;line-height:normal;font-family:Menlo,'DejaVu Sans Mono',consolas,'Courier New',monospace\"><span style=\"font-weight: bold\"> Non-trainable params: </span><span style=\"color: #00af00; text-decoration-color: #00af00\">0</span> (0.00 B)\n",
       "</pre>\n"
      ],
      "text/plain": [
       "\u001b[1m Non-trainable params: \u001b[0m\u001b[38;5;34m0\u001b[0m (0.00 B)\n"
      ]
     },
     "metadata": {},
     "output_type": "display_data"
    }
   ],
   "source": [
    "basic_cnn_model = keras.Sequential([\n",
    "    keras.layers.Conv2D(32, (3, 3), activation='relu', input_shape=(28, 28, 1)),\n",
    "    keras.layers.MaxPooling2D((2, 2)),\n",
    "    keras.layers.Conv2D(64, (3, 3), activation='relu'),\n",
    "    keras.layers.MaxPooling2D((2, 2)),\n",
    "    keras.layers.Flatten(),\n",
    "    keras.layers.Dense(64, activation='relu'),\n",
    "    keras.layers.Dense(10, activation='softmax')\n",
    "])\n",
    "\n",
    "\n",
    "basic_cnn_model.compile(optimizer='adam',\n",
    "                        loss='categorical_crossentropy',\n",
    "                        metrics=['accuracy'])\n",
    "\n",
    "basic_cnn_model.summary()"
   ]
  },
  {
   "cell_type": "markdown",
   "metadata": {
    "id": "fe703f45"
   },
   "source": [
    "#### 2.3) Deeper CNN Model"
   ]
  },
  {
   "cell_type": "markdown",
   "metadata": {
    "id": "sfelhQFFeYjZ"
   },
   "source": [
    "- **Conv2D (32, 3×3) + BN + MaxPool + Dropout** → 320 + 64 params  \n",
    "- **Conv2D (64, 3×3) + BN + MaxPool + Dropout** → 18,496 + 128 params  \n",
    "- **Conv2D (128, 3×3) + BN + MaxPool + Dropout** → 73,856 + 256 params  \n",
    "- **Flatten**  \n",
    "- **Dense (128, ReLU) + BN + Dropout** → 147,584 + 256 params  \n",
    "- **Dense (10, Softmax)** → 1,290 params  \n",
    "\n",
    "**Total params:** ~242K  "
   ]
  },
  {
   "cell_type": "code",
   "execution_count": 11,
   "metadata": {
    "colab": {
     "base_uri": "https://localhost:8080/",
     "height": 760
    },
    "id": "7c6a1e85",
    "outputId": "d80a69eb-9c25-43ca-e2b9-f97b31c1b417"
   },
   "outputs": [
    {
     "data": {
      "text/html": [
       "<pre style=\"white-space:pre;overflow-x:auto;line-height:normal;font-family:Menlo,'DejaVu Sans Mono',consolas,'Courier New',monospace\"><span style=\"font-weight: bold\">Model: \"sequential_2\"</span>\n",
       "</pre>\n"
      ],
      "text/plain": [
       "\u001b[1mModel: \"sequential_2\"\u001b[0m\n"
      ]
     },
     "metadata": {},
     "output_type": "display_data"
    },
    {
     "data": {
      "text/html": [
       "<pre style=\"white-space:pre;overflow-x:auto;line-height:normal;font-family:Menlo,'DejaVu Sans Mono',consolas,'Courier New',monospace\">┏━━━━━━━━━━━━━━━━━━━━━━━━━━━━━━━━━┳━━━━━━━━━━━━━━━━━━━━━━━━┳━━━━━━━━━━━━━━━┓\n",
       "┃<span style=\"font-weight: bold\"> Layer (type)                    </span>┃<span style=\"font-weight: bold\"> Output Shape           </span>┃<span style=\"font-weight: bold\">       Param # </span>┃\n",
       "┡━━━━━━━━━━━━━━━━━━━━━━━━━━━━━━━━━╇━━━━━━━━━━━━━━━━━━━━━━━━╇━━━━━━━━━━━━━━━┩\n",
       "│ conv2d_2 (<span style=\"color: #0087ff; text-decoration-color: #0087ff\">Conv2D</span>)               │ (<span style=\"color: #00d7ff; text-decoration-color: #00d7ff\">None</span>, <span style=\"color: #00af00; text-decoration-color: #00af00\">26</span>, <span style=\"color: #00af00; text-decoration-color: #00af00\">26</span>, <span style=\"color: #00af00; text-decoration-color: #00af00\">32</span>)     │           <span style=\"color: #00af00; text-decoration-color: #00af00\">320</span> │\n",
       "├─────────────────────────────────┼────────────────────────┼───────────────┤\n",
       "│ batch_normalization             │ (<span style=\"color: #00d7ff; text-decoration-color: #00d7ff\">None</span>, <span style=\"color: #00af00; text-decoration-color: #00af00\">26</span>, <span style=\"color: #00af00; text-decoration-color: #00af00\">26</span>, <span style=\"color: #00af00; text-decoration-color: #00af00\">32</span>)     │           <span style=\"color: #00af00; text-decoration-color: #00af00\">128</span> │\n",
       "│ (<span style=\"color: #0087ff; text-decoration-color: #0087ff\">BatchNormalization</span>)            │                        │               │\n",
       "├─────────────────────────────────┼────────────────────────┼───────────────┤\n",
       "│ max_pooling2d_2 (<span style=\"color: #0087ff; text-decoration-color: #0087ff\">MaxPooling2D</span>)  │ (<span style=\"color: #00d7ff; text-decoration-color: #00d7ff\">None</span>, <span style=\"color: #00af00; text-decoration-color: #00af00\">13</span>, <span style=\"color: #00af00; text-decoration-color: #00af00\">13</span>, <span style=\"color: #00af00; text-decoration-color: #00af00\">32</span>)     │             <span style=\"color: #00af00; text-decoration-color: #00af00\">0</span> │\n",
       "├─────────────────────────────────┼────────────────────────┼───────────────┤\n",
       "│ dropout (<span style=\"color: #0087ff; text-decoration-color: #0087ff\">Dropout</span>)               │ (<span style=\"color: #00d7ff; text-decoration-color: #00d7ff\">None</span>, <span style=\"color: #00af00; text-decoration-color: #00af00\">13</span>, <span style=\"color: #00af00; text-decoration-color: #00af00\">13</span>, <span style=\"color: #00af00; text-decoration-color: #00af00\">32</span>)     │             <span style=\"color: #00af00; text-decoration-color: #00af00\">0</span> │\n",
       "├─────────────────────────────────┼────────────────────────┼───────────────┤\n",
       "│ conv2d_3 (<span style=\"color: #0087ff; text-decoration-color: #0087ff\">Conv2D</span>)               │ (<span style=\"color: #00d7ff; text-decoration-color: #00d7ff\">None</span>, <span style=\"color: #00af00; text-decoration-color: #00af00\">11</span>, <span style=\"color: #00af00; text-decoration-color: #00af00\">11</span>, <span style=\"color: #00af00; text-decoration-color: #00af00\">64</span>)     │        <span style=\"color: #00af00; text-decoration-color: #00af00\">18,496</span> │\n",
       "├─────────────────────────────────┼────────────────────────┼───────────────┤\n",
       "│ batch_normalization_1           │ (<span style=\"color: #00d7ff; text-decoration-color: #00d7ff\">None</span>, <span style=\"color: #00af00; text-decoration-color: #00af00\">11</span>, <span style=\"color: #00af00; text-decoration-color: #00af00\">11</span>, <span style=\"color: #00af00; text-decoration-color: #00af00\">64</span>)     │           <span style=\"color: #00af00; text-decoration-color: #00af00\">256</span> │\n",
       "│ (<span style=\"color: #0087ff; text-decoration-color: #0087ff\">BatchNormalization</span>)            │                        │               │\n",
       "├─────────────────────────────────┼────────────────────────┼───────────────┤\n",
       "│ max_pooling2d_3 (<span style=\"color: #0087ff; text-decoration-color: #0087ff\">MaxPooling2D</span>)  │ (<span style=\"color: #00d7ff; text-decoration-color: #00d7ff\">None</span>, <span style=\"color: #00af00; text-decoration-color: #00af00\">5</span>, <span style=\"color: #00af00; text-decoration-color: #00af00\">5</span>, <span style=\"color: #00af00; text-decoration-color: #00af00\">64</span>)       │             <span style=\"color: #00af00; text-decoration-color: #00af00\">0</span> │\n",
       "├─────────────────────────────────┼────────────────────────┼───────────────┤\n",
       "│ dropout_1 (<span style=\"color: #0087ff; text-decoration-color: #0087ff\">Dropout</span>)             │ (<span style=\"color: #00d7ff; text-decoration-color: #00d7ff\">None</span>, <span style=\"color: #00af00; text-decoration-color: #00af00\">5</span>, <span style=\"color: #00af00; text-decoration-color: #00af00\">5</span>, <span style=\"color: #00af00; text-decoration-color: #00af00\">64</span>)       │             <span style=\"color: #00af00; text-decoration-color: #00af00\">0</span> │\n",
       "├─────────────────────────────────┼────────────────────────┼───────────────┤\n",
       "│ conv2d_4 (<span style=\"color: #0087ff; text-decoration-color: #0087ff\">Conv2D</span>)               │ (<span style=\"color: #00d7ff; text-decoration-color: #00d7ff\">None</span>, <span style=\"color: #00af00; text-decoration-color: #00af00\">3</span>, <span style=\"color: #00af00; text-decoration-color: #00af00\">3</span>, <span style=\"color: #00af00; text-decoration-color: #00af00\">128</span>)      │        <span style=\"color: #00af00; text-decoration-color: #00af00\">73,856</span> │\n",
       "├─────────────────────────────────┼────────────────────────┼───────────────┤\n",
       "│ batch_normalization_2           │ (<span style=\"color: #00d7ff; text-decoration-color: #00d7ff\">None</span>, <span style=\"color: #00af00; text-decoration-color: #00af00\">3</span>, <span style=\"color: #00af00; text-decoration-color: #00af00\">3</span>, <span style=\"color: #00af00; text-decoration-color: #00af00\">128</span>)      │           <span style=\"color: #00af00; text-decoration-color: #00af00\">512</span> │\n",
       "│ (<span style=\"color: #0087ff; text-decoration-color: #0087ff\">BatchNormalization</span>)            │                        │               │\n",
       "├─────────────────────────────────┼────────────────────────┼───────────────┤\n",
       "│ max_pooling2d_4 (<span style=\"color: #0087ff; text-decoration-color: #0087ff\">MaxPooling2D</span>)  │ (<span style=\"color: #00d7ff; text-decoration-color: #00d7ff\">None</span>, <span style=\"color: #00af00; text-decoration-color: #00af00\">1</span>, <span style=\"color: #00af00; text-decoration-color: #00af00\">1</span>, <span style=\"color: #00af00; text-decoration-color: #00af00\">128</span>)      │             <span style=\"color: #00af00; text-decoration-color: #00af00\">0</span> │\n",
       "├─────────────────────────────────┼────────────────────────┼───────────────┤\n",
       "│ dropout_2 (<span style=\"color: #0087ff; text-decoration-color: #0087ff\">Dropout</span>)             │ (<span style=\"color: #00d7ff; text-decoration-color: #00d7ff\">None</span>, <span style=\"color: #00af00; text-decoration-color: #00af00\">1</span>, <span style=\"color: #00af00; text-decoration-color: #00af00\">1</span>, <span style=\"color: #00af00; text-decoration-color: #00af00\">128</span>)      │             <span style=\"color: #00af00; text-decoration-color: #00af00\">0</span> │\n",
       "├─────────────────────────────────┼────────────────────────┼───────────────┤\n",
       "│ flatten_2 (<span style=\"color: #0087ff; text-decoration-color: #0087ff\">Flatten</span>)             │ (<span style=\"color: #00d7ff; text-decoration-color: #00d7ff\">None</span>, <span style=\"color: #00af00; text-decoration-color: #00af00\">128</span>)            │             <span style=\"color: #00af00; text-decoration-color: #00af00\">0</span> │\n",
       "├─────────────────────────────────┼────────────────────────┼───────────────┤\n",
       "│ dense_5 (<span style=\"color: #0087ff; text-decoration-color: #0087ff\">Dense</span>)                 │ (<span style=\"color: #00d7ff; text-decoration-color: #00d7ff\">None</span>, <span style=\"color: #00af00; text-decoration-color: #00af00\">128</span>)            │        <span style=\"color: #00af00; text-decoration-color: #00af00\">16,512</span> │\n",
       "├─────────────────────────────────┼────────────────────────┼───────────────┤\n",
       "│ batch_normalization_3           │ (<span style=\"color: #00d7ff; text-decoration-color: #00d7ff\">None</span>, <span style=\"color: #00af00; text-decoration-color: #00af00\">128</span>)            │           <span style=\"color: #00af00; text-decoration-color: #00af00\">512</span> │\n",
       "│ (<span style=\"color: #0087ff; text-decoration-color: #0087ff\">BatchNormalization</span>)            │                        │               │\n",
       "├─────────────────────────────────┼────────────────────────┼───────────────┤\n",
       "│ dropout_3 (<span style=\"color: #0087ff; text-decoration-color: #0087ff\">Dropout</span>)             │ (<span style=\"color: #00d7ff; text-decoration-color: #00d7ff\">None</span>, <span style=\"color: #00af00; text-decoration-color: #00af00\">128</span>)            │             <span style=\"color: #00af00; text-decoration-color: #00af00\">0</span> │\n",
       "├─────────────────────────────────┼────────────────────────┼───────────────┤\n",
       "│ dense_6 (<span style=\"color: #0087ff; text-decoration-color: #0087ff\">Dense</span>)                 │ (<span style=\"color: #00d7ff; text-decoration-color: #00d7ff\">None</span>, <span style=\"color: #00af00; text-decoration-color: #00af00\">10</span>)             │         <span style=\"color: #00af00; text-decoration-color: #00af00\">1,290</span> │\n",
       "└─────────────────────────────────┴────────────────────────┴───────────────┘\n",
       "</pre>\n"
      ],
      "text/plain": [
       "┏━━━━━━━━━━━━━━━━━━━━━━━━━━━━━━━━━┳━━━━━━━━━━━━━━━━━━━━━━━━┳━━━━━━━━━━━━━━━┓\n",
       "┃\u001b[1m \u001b[0m\u001b[1mLayer (type)                   \u001b[0m\u001b[1m \u001b[0m┃\u001b[1m \u001b[0m\u001b[1mOutput Shape          \u001b[0m\u001b[1m \u001b[0m┃\u001b[1m \u001b[0m\u001b[1m      Param #\u001b[0m\u001b[1m \u001b[0m┃\n",
       "┡━━━━━━━━━━━━━━━━━━━━━━━━━━━━━━━━━╇━━━━━━━━━━━━━━━━━━━━━━━━╇━━━━━━━━━━━━━━━┩\n",
       "│ conv2d_2 (\u001b[38;5;33mConv2D\u001b[0m)               │ (\u001b[38;5;45mNone\u001b[0m, \u001b[38;5;34m26\u001b[0m, \u001b[38;5;34m26\u001b[0m, \u001b[38;5;34m32\u001b[0m)     │           \u001b[38;5;34m320\u001b[0m │\n",
       "├─────────────────────────────────┼────────────────────────┼───────────────┤\n",
       "│ batch_normalization             │ (\u001b[38;5;45mNone\u001b[0m, \u001b[38;5;34m26\u001b[0m, \u001b[38;5;34m26\u001b[0m, \u001b[38;5;34m32\u001b[0m)     │           \u001b[38;5;34m128\u001b[0m │\n",
       "│ (\u001b[38;5;33mBatchNormalization\u001b[0m)            │                        │               │\n",
       "├─────────────────────────────────┼────────────────────────┼───────────────┤\n",
       "│ max_pooling2d_2 (\u001b[38;5;33mMaxPooling2D\u001b[0m)  │ (\u001b[38;5;45mNone\u001b[0m, \u001b[38;5;34m13\u001b[0m, \u001b[38;5;34m13\u001b[0m, \u001b[38;5;34m32\u001b[0m)     │             \u001b[38;5;34m0\u001b[0m │\n",
       "├─────────────────────────────────┼────────────────────────┼───────────────┤\n",
       "│ dropout (\u001b[38;5;33mDropout\u001b[0m)               │ (\u001b[38;5;45mNone\u001b[0m, \u001b[38;5;34m13\u001b[0m, \u001b[38;5;34m13\u001b[0m, \u001b[38;5;34m32\u001b[0m)     │             \u001b[38;5;34m0\u001b[0m │\n",
       "├─────────────────────────────────┼────────────────────────┼───────────────┤\n",
       "│ conv2d_3 (\u001b[38;5;33mConv2D\u001b[0m)               │ (\u001b[38;5;45mNone\u001b[0m, \u001b[38;5;34m11\u001b[0m, \u001b[38;5;34m11\u001b[0m, \u001b[38;5;34m64\u001b[0m)     │        \u001b[38;5;34m18,496\u001b[0m │\n",
       "├─────────────────────────────────┼────────────────────────┼───────────────┤\n",
       "│ batch_normalization_1           │ (\u001b[38;5;45mNone\u001b[0m, \u001b[38;5;34m11\u001b[0m, \u001b[38;5;34m11\u001b[0m, \u001b[38;5;34m64\u001b[0m)     │           \u001b[38;5;34m256\u001b[0m │\n",
       "│ (\u001b[38;5;33mBatchNormalization\u001b[0m)            │                        │               │\n",
       "├─────────────────────────────────┼────────────────────────┼───────────────┤\n",
       "│ max_pooling2d_3 (\u001b[38;5;33mMaxPooling2D\u001b[0m)  │ (\u001b[38;5;45mNone\u001b[0m, \u001b[38;5;34m5\u001b[0m, \u001b[38;5;34m5\u001b[0m, \u001b[38;5;34m64\u001b[0m)       │             \u001b[38;5;34m0\u001b[0m │\n",
       "├─────────────────────────────────┼────────────────────────┼───────────────┤\n",
       "│ dropout_1 (\u001b[38;5;33mDropout\u001b[0m)             │ (\u001b[38;5;45mNone\u001b[0m, \u001b[38;5;34m5\u001b[0m, \u001b[38;5;34m5\u001b[0m, \u001b[38;5;34m64\u001b[0m)       │             \u001b[38;5;34m0\u001b[0m │\n",
       "├─────────────────────────────────┼────────────────────────┼───────────────┤\n",
       "│ conv2d_4 (\u001b[38;5;33mConv2D\u001b[0m)               │ (\u001b[38;5;45mNone\u001b[0m, \u001b[38;5;34m3\u001b[0m, \u001b[38;5;34m3\u001b[0m, \u001b[38;5;34m128\u001b[0m)      │        \u001b[38;5;34m73,856\u001b[0m │\n",
       "├─────────────────────────────────┼────────────────────────┼───────────────┤\n",
       "│ batch_normalization_2           │ (\u001b[38;5;45mNone\u001b[0m, \u001b[38;5;34m3\u001b[0m, \u001b[38;5;34m3\u001b[0m, \u001b[38;5;34m128\u001b[0m)      │           \u001b[38;5;34m512\u001b[0m │\n",
       "│ (\u001b[38;5;33mBatchNormalization\u001b[0m)            │                        │               │\n",
       "├─────────────────────────────────┼────────────────────────┼───────────────┤\n",
       "│ max_pooling2d_4 (\u001b[38;5;33mMaxPooling2D\u001b[0m)  │ (\u001b[38;5;45mNone\u001b[0m, \u001b[38;5;34m1\u001b[0m, \u001b[38;5;34m1\u001b[0m, \u001b[38;5;34m128\u001b[0m)      │             \u001b[38;5;34m0\u001b[0m │\n",
       "├─────────────────────────────────┼────────────────────────┼───────────────┤\n",
       "│ dropout_2 (\u001b[38;5;33mDropout\u001b[0m)             │ (\u001b[38;5;45mNone\u001b[0m, \u001b[38;5;34m1\u001b[0m, \u001b[38;5;34m1\u001b[0m, \u001b[38;5;34m128\u001b[0m)      │             \u001b[38;5;34m0\u001b[0m │\n",
       "├─────────────────────────────────┼────────────────────────┼───────────────┤\n",
       "│ flatten_2 (\u001b[38;5;33mFlatten\u001b[0m)             │ (\u001b[38;5;45mNone\u001b[0m, \u001b[38;5;34m128\u001b[0m)            │             \u001b[38;5;34m0\u001b[0m │\n",
       "├─────────────────────────────────┼────────────────────────┼───────────────┤\n",
       "│ dense_5 (\u001b[38;5;33mDense\u001b[0m)                 │ (\u001b[38;5;45mNone\u001b[0m, \u001b[38;5;34m128\u001b[0m)            │        \u001b[38;5;34m16,512\u001b[0m │\n",
       "├─────────────────────────────────┼────────────────────────┼───────────────┤\n",
       "│ batch_normalization_3           │ (\u001b[38;5;45mNone\u001b[0m, \u001b[38;5;34m128\u001b[0m)            │           \u001b[38;5;34m512\u001b[0m │\n",
       "│ (\u001b[38;5;33mBatchNormalization\u001b[0m)            │                        │               │\n",
       "├─────────────────────────────────┼────────────────────────┼───────────────┤\n",
       "│ dropout_3 (\u001b[38;5;33mDropout\u001b[0m)             │ (\u001b[38;5;45mNone\u001b[0m, \u001b[38;5;34m128\u001b[0m)            │             \u001b[38;5;34m0\u001b[0m │\n",
       "├─────────────────────────────────┼────────────────────────┼───────────────┤\n",
       "│ dense_6 (\u001b[38;5;33mDense\u001b[0m)                 │ (\u001b[38;5;45mNone\u001b[0m, \u001b[38;5;34m10\u001b[0m)             │         \u001b[38;5;34m1,290\u001b[0m │\n",
       "└─────────────────────────────────┴────────────────────────┴───────────────┘\n"
      ]
     },
     "metadata": {},
     "output_type": "display_data"
    },
    {
     "data": {
      "text/html": [
       "<pre style=\"white-space:pre;overflow-x:auto;line-height:normal;font-family:Menlo,'DejaVu Sans Mono',consolas,'Courier New',monospace\"><span style=\"font-weight: bold\"> Total params: </span><span style=\"color: #00af00; text-decoration-color: #00af00\">111,882</span> (437.04 KB)\n",
       "</pre>\n"
      ],
      "text/plain": [
       "\u001b[1m Total params: \u001b[0m\u001b[38;5;34m111,882\u001b[0m (437.04 KB)\n"
      ]
     },
     "metadata": {},
     "output_type": "display_data"
    },
    {
     "data": {
      "text/html": [
       "<pre style=\"white-space:pre;overflow-x:auto;line-height:normal;font-family:Menlo,'DejaVu Sans Mono',consolas,'Courier New',monospace\"><span style=\"font-weight: bold\"> Trainable params: </span><span style=\"color: #00af00; text-decoration-color: #00af00\">111,178</span> (434.29 KB)\n",
       "</pre>\n"
      ],
      "text/plain": [
       "\u001b[1m Trainable params: \u001b[0m\u001b[38;5;34m111,178\u001b[0m (434.29 KB)\n"
      ]
     },
     "metadata": {},
     "output_type": "display_data"
    },
    {
     "data": {
      "text/html": [
       "<pre style=\"white-space:pre;overflow-x:auto;line-height:normal;font-family:Menlo,'DejaVu Sans Mono',consolas,'Courier New',monospace\"><span style=\"font-weight: bold\"> Non-trainable params: </span><span style=\"color: #00af00; text-decoration-color: #00af00\">704</span> (2.75 KB)\n",
       "</pre>\n"
      ],
      "text/plain": [
       "\u001b[1m Non-trainable params: \u001b[0m\u001b[38;5;34m704\u001b[0m (2.75 KB)\n"
      ]
     },
     "metadata": {},
     "output_type": "display_data"
    }
   ],
   "source": [
    "deeper_cnn_model = keras.Sequential([\n",
    "    keras.layers.Conv2D(32, (3, 3), activation='relu', input_shape=(28, 28, 1)),\n",
    "    keras.layers.BatchNormalization(),\n",
    "    keras.layers.MaxPooling2D((2, 2)),\n",
    "    keras.layers.Dropout(0.25),\n",
    "\n",
    "    keras.layers.Conv2D(64, (3, 3), activation='relu'),\n",
    "    keras.layers.BatchNormalization(),\n",
    "    keras.layers.MaxPooling2D((2, 2)),\n",
    "    keras.layers.Dropout(0.25),\n",
    "\n",
    "    keras.layers.Conv2D(128, (3, 3), activation='relu'),\n",
    "    keras.layers.BatchNormalization(),\n",
    "    keras.layers.MaxPooling2D((2, 2)),\n",
    "    keras.layers.Dropout(0.25),\n",
    "\n",
    "    keras.layers.Flatten(),\n",
    "    keras.layers.Dense(128, activation='relu'),\n",
    "    keras.layers.BatchNormalization(),\n",
    "    keras.layers.Dropout(0.5),\n",
    "\n",
    "    keras.layers.Dense(10, activation='softmax')\n",
    "])\n",
    "\n",
    "deeper_cnn_model.compile(optimizer='adam',\n",
    "                         loss='categorical_crossentropy',\n",
    "                         metrics=['accuracy'])\n",
    "\n",
    "deeper_cnn_model.summary()"
   ]
  },
  {
   "cell_type": "markdown",
   "metadata": {
    "id": "ffb65dc0"
   },
   "source": [
    "### 3. Train models"
   ]
  },
  {
   "cell_type": "markdown",
   "metadata": {
    "id": "stP2wbh_XQE_"
   },
   "source": [
    "#### 3.1) Training ANN Model"
   ]
  },
  {
   "cell_type": "markdown",
   "metadata": {
    "id": "NhaurqFKd8zI"
   },
   "source": [
    "- **EarlyStopping**: monitors validation loss, stops if no improvement for 5 epochs, restores best weights.  \n",
    "- **ModelCheckpoint**: saves best ANN weights (`best_ann_model_weights.weights.h5`) based on validation loss.  \n",
    "- **Training**:  \n",
    "  - Epochs: up to 30 (early stopping controls actual run)  \n",
    "  - Batch size: 64  \n",
    "  - Validation on test set  \n",
    "  - Callbacks: EarlyStopping + ModelCheckpoint  "
   ]
  },
  {
   "cell_type": "code",
   "execution_count": 12,
   "metadata": {
    "colab": {
     "base_uri": "https://localhost:8080/"
    },
    "id": "4VJTWjvvQevB",
    "outputId": "a3476840-b525-4152-dc26-ec917283d6c6"
   },
   "outputs": [
    {
     "name": "stdout",
     "output_type": "stream",
     "text": [
      "Training ANN model...\n",
      "Epoch 1/30\n"
     ]
    },
    {
     "name": "stderr",
     "output_type": "stream",
     "text": [
      "2025-10-15 16:40:06.639264: W external/local_xla/xla/tsl/framework/cpu_allocator_impl.cc:84] Allocation of 188160000 exceeds 10% of free system memory.\n"
     ]
    },
    {
     "name": "stdout",
     "output_type": "stream",
     "text": [
      "\u001b[1m922/938\u001b[0m \u001b[32m━━━━━━━━━━━━━━━━━━━\u001b[0m\u001b[37m━\u001b[0m \u001b[1m0s\u001b[0m 3ms/step - accuracy: 0.7686 - loss: 0.6691\n",
      "Epoch 1: val_loss improved from None to 0.45623, saving model to best_ann_model_weights.weights.h5\n",
      "\u001b[1m938/938\u001b[0m \u001b[32m━━━━━━━━━━━━━━━━━━━━\u001b[0m\u001b[37m\u001b[0m \u001b[1m4s\u001b[0m 4ms/step - accuracy: 0.8200 - loss: 0.5079 - val_accuracy: 0.8377 - val_loss: 0.4562\n",
      "Epoch 2/30\n",
      "\u001b[1m937/938\u001b[0m \u001b[32m━━━━━━━━━━━━━━━━━━━\u001b[0m\u001b[37m━\u001b[0m \u001b[1m0s\u001b[0m 3ms/step - accuracy: 0.8606 - loss: 0.3851\n",
      "Epoch 2: val_loss improved from 0.45623 to 0.40762, saving model to best_ann_model_weights.weights.h5\n",
      "\u001b[1m938/938\u001b[0m \u001b[32m━━━━━━━━━━━━━━━━━━━━\u001b[0m\u001b[37m\u001b[0m \u001b[1m3s\u001b[0m 3ms/step - accuracy: 0.8634 - loss: 0.3796 - val_accuracy: 0.8499 - val_loss: 0.4076\n",
      "Epoch 3/30\n",
      "\u001b[1m929/938\u001b[0m \u001b[32m━━━━━━━━━━━━━━━━━━━\u001b[0m\u001b[37m━\u001b[0m \u001b[1m0s\u001b[0m 3ms/step - accuracy: 0.8720 - loss: 0.3441\n",
      "Epoch 3: val_loss improved from 0.40762 to 0.37346, saving model to best_ann_model_weights.weights.h5\n",
      "\u001b[1m938/938\u001b[0m \u001b[32m━━━━━━━━━━━━━━━━━━━━\u001b[0m\u001b[37m\u001b[0m \u001b[1m3s\u001b[0m 3ms/step - accuracy: 0.8768 - loss: 0.3386 - val_accuracy: 0.8665 - val_loss: 0.3735\n",
      "Epoch 4/30\n",
      "\u001b[1m933/938\u001b[0m \u001b[32m━━━━━━━━━━━━━━━━━━━\u001b[0m\u001b[37m━\u001b[0m \u001b[1m0s\u001b[0m 3ms/step - accuracy: 0.8856 - loss: 0.3111\n",
      "Epoch 4: val_loss improved from 0.37346 to 0.37133, saving model to best_ann_model_weights.weights.h5\n",
      "\u001b[1m938/938\u001b[0m \u001b[32m━━━━━━━━━━━━━━━━━━━━\u001b[0m\u001b[37m\u001b[0m \u001b[1m3s\u001b[0m 3ms/step - accuracy: 0.8854 - loss: 0.3128 - val_accuracy: 0.8679 - val_loss: 0.3713\n",
      "Epoch 5/30\n",
      "\u001b[1m930/938\u001b[0m \u001b[32m━━━━━━━━━━━━━━━━━━━\u001b[0m\u001b[37m━\u001b[0m \u001b[1m0s\u001b[0m 3ms/step - accuracy: 0.8926 - loss: 0.2912\n",
      "Epoch 5: val_loss improved from 0.37133 to 0.34018, saving model to best_ann_model_weights.weights.h5\n",
      "\u001b[1m938/938\u001b[0m \u001b[32m━━━━━━━━━━━━━━━━━━━━\u001b[0m\u001b[37m\u001b[0m \u001b[1m3s\u001b[0m 3ms/step - accuracy: 0.8906 - loss: 0.2972 - val_accuracy: 0.8745 - val_loss: 0.3402\n",
      "Epoch 6/30\n",
      "\u001b[1m933/938\u001b[0m \u001b[32m━━━━━━━━━━━━━━━━━━━\u001b[0m\u001b[37m━\u001b[0m \u001b[1m0s\u001b[0m 3ms/step - accuracy: 0.8944 - loss: 0.2820\n",
      "Epoch 6: val_loss improved from 0.34018 to 0.33981, saving model to best_ann_model_weights.weights.h5\n",
      "\u001b[1m938/938\u001b[0m \u001b[32m━━━━━━━━━━━━━━━━━━━━\u001b[0m\u001b[37m\u001b[0m \u001b[1m3s\u001b[0m 3ms/step - accuracy: 0.8953 - loss: 0.2811 - val_accuracy: 0.8776 - val_loss: 0.3398\n",
      "Epoch 7/30\n",
      "\u001b[1m920/938\u001b[0m \u001b[32m━━━━━━━━━━━━━━━━━━━\u001b[0m\u001b[37m━\u001b[0m \u001b[1m0s\u001b[0m 3ms/step - accuracy: 0.9017 - loss: 0.2645\n",
      "Epoch 7: val_loss did not improve from 0.33981\n",
      "\u001b[1m938/938\u001b[0m \u001b[32m━━━━━━━━━━━━━━━━━━━━\u001b[0m\u001b[37m\u001b[0m \u001b[1m3s\u001b[0m 3ms/step - accuracy: 0.9007 - loss: 0.2687 - val_accuracy: 0.8762 - val_loss: 0.3401\n",
      "Epoch 8/30\n",
      "\u001b[1m925/938\u001b[0m \u001b[32m━━━━━━━━━━━━━━━━━━━\u001b[0m\u001b[37m━\u001b[0m \u001b[1m0s\u001b[0m 3ms/step - accuracy: 0.9038 - loss: 0.2570\n",
      "Epoch 8: val_loss improved from 0.33981 to 0.33479, saving model to best_ann_model_weights.weights.h5\n",
      "\u001b[1m938/938\u001b[0m \u001b[32m━━━━━━━━━━━━━━━━━━━━\u001b[0m\u001b[37m\u001b[0m \u001b[1m3s\u001b[0m 3ms/step - accuracy: 0.9028 - loss: 0.2584 - val_accuracy: 0.8798 - val_loss: 0.3348\n",
      "Epoch 9/30\n",
      "\u001b[1m929/938\u001b[0m \u001b[32m━━━━━━━━━━━━━━━━━━━\u001b[0m\u001b[37m━\u001b[0m \u001b[1m0s\u001b[0m 3ms/step - accuracy: 0.9066 - loss: 0.2477\n",
      "Epoch 9: val_loss did not improve from 0.33479\n",
      "\u001b[1m938/938\u001b[0m \u001b[32m━━━━━━━━━━━━━━━━━━━━\u001b[0m\u001b[37m\u001b[0m \u001b[1m3s\u001b[0m 3ms/step - accuracy: 0.9065 - loss: 0.2490 - val_accuracy: 0.8751 - val_loss: 0.3518\n",
      "Epoch 10/30\n",
      "\u001b[1m923/938\u001b[0m \u001b[32m━━━━━━━━━━━━━━━━━━━\u001b[0m\u001b[37m━\u001b[0m \u001b[1m0s\u001b[0m 3ms/step - accuracy: 0.9103 - loss: 0.2392\n",
      "Epoch 10: val_loss improved from 0.33479 to 0.33361, saving model to best_ann_model_weights.weights.h5\n",
      "\u001b[1m938/938\u001b[0m \u001b[32m━━━━━━━━━━━━━━━━━━━━\u001b[0m\u001b[37m\u001b[0m \u001b[1m3s\u001b[0m 3ms/step - accuracy: 0.9095 - loss: 0.2411 - val_accuracy: 0.8796 - val_loss: 0.3336\n",
      "Epoch 11/30\n",
      "\u001b[1m930/938\u001b[0m \u001b[32m━━━━━━━━━━━━━━━━━━━\u001b[0m\u001b[37m━\u001b[0m \u001b[1m0s\u001b[0m 3ms/step - accuracy: 0.9126 - loss: 0.2286\n",
      "Epoch 11: val_loss improved from 0.33361 to 0.33057, saving model to best_ann_model_weights.weights.h5\n",
      "\u001b[1m938/938\u001b[0m \u001b[32m━━━━━━━━━━━━━━━━━━━━\u001b[0m\u001b[37m\u001b[0m \u001b[1m3s\u001b[0m 3ms/step - accuracy: 0.9123 - loss: 0.2303 - val_accuracy: 0.8841 - val_loss: 0.3306\n",
      "Epoch 12/30\n",
      "\u001b[1m927/938\u001b[0m \u001b[32m━━━━━━━━━━━━━━━━━━━\u001b[0m\u001b[37m━\u001b[0m \u001b[1m0s\u001b[0m 2ms/step - accuracy: 0.9142 - loss: 0.2256\n",
      "Epoch 12: val_loss improved from 0.33057 to 0.32380, saving model to best_ann_model_weights.weights.h5\n",
      "\u001b[1m938/938\u001b[0m \u001b[32m━━━━━━━━━━━━━━━━━━━━\u001b[0m\u001b[37m\u001b[0m \u001b[1m3s\u001b[0m 3ms/step - accuracy: 0.9148 - loss: 0.2244 - val_accuracy: 0.8868 - val_loss: 0.3238\n",
      "Epoch 13/30\n",
      "\u001b[1m932/938\u001b[0m \u001b[32m━━━━━━━━━━━━━━━━━━━\u001b[0m\u001b[37m━\u001b[0m \u001b[1m0s\u001b[0m 3ms/step - accuracy: 0.9215 - loss: 0.2112\n",
      "Epoch 13: val_loss did not improve from 0.32380\n",
      "\u001b[1m938/938\u001b[0m \u001b[32m━━━━━━━━━━━━━━━━━━━━\u001b[0m\u001b[37m\u001b[0m \u001b[1m3s\u001b[0m 3ms/step - accuracy: 0.9186 - loss: 0.2169 - val_accuracy: 0.8823 - val_loss: 0.3484\n",
      "Epoch 14/30\n",
      "\u001b[1m930/938\u001b[0m \u001b[32m━━━━━━━━━━━━━━━━━━━\u001b[0m\u001b[37m━\u001b[0m \u001b[1m0s\u001b[0m 3ms/step - accuracy: 0.9198 - loss: 0.2111\n",
      "Epoch 14: val_loss did not improve from 0.32380\n",
      "\u001b[1m938/938\u001b[0m \u001b[32m━━━━━━━━━━━━━━━━━━━━\u001b[0m\u001b[37m\u001b[0m \u001b[1m3s\u001b[0m 3ms/step - accuracy: 0.9193 - loss: 0.2130 - val_accuracy: 0.8893 - val_loss: 0.3310\n",
      "Epoch 15/30\n",
      "\u001b[1m927/938\u001b[0m \u001b[32m━━━━━━━━━━━━━━━━━━━\u001b[0m\u001b[37m━\u001b[0m \u001b[1m0s\u001b[0m 3ms/step - accuracy: 0.9229 - loss: 0.2061\n",
      "Epoch 15: val_loss improved from 0.32380 to 0.32306, saving model to best_ann_model_weights.weights.h5\n",
      "\u001b[1m938/938\u001b[0m \u001b[32m━━━━━━━━━━━━━━━━━━━━\u001b[0m\u001b[37m\u001b[0m \u001b[1m3s\u001b[0m 4ms/step - accuracy: 0.9220 - loss: 0.2057 - val_accuracy: 0.8887 - val_loss: 0.3231\n",
      "Epoch 16/30\n",
      "\u001b[1m921/938\u001b[0m \u001b[32m━━━━━━━━━━━━━━━━━━━\u001b[0m\u001b[37m━\u001b[0m \u001b[1m0s\u001b[0m 3ms/step - accuracy: 0.9284 - loss: 0.1931\n",
      "Epoch 16: val_loss did not improve from 0.32306\n",
      "\u001b[1m938/938\u001b[0m \u001b[32m━━━━━━━━━━━━━━━━━━━━\u001b[0m\u001b[37m\u001b[0m \u001b[1m3s\u001b[0m 3ms/step - accuracy: 0.9261 - loss: 0.1969 - val_accuracy: 0.8838 - val_loss: 0.3602\n",
      "Epoch 17/30\n",
      "\u001b[1m932/938\u001b[0m \u001b[32m━━━━━━━━━━━━━━━━━━━\u001b[0m\u001b[37m━\u001b[0m \u001b[1m0s\u001b[0m 3ms/step - accuracy: 0.9264 - loss: 0.1929\n",
      "Epoch 17: val_loss did not improve from 0.32306\n",
      "\u001b[1m938/938\u001b[0m \u001b[32m━━━━━━━━━━━━━━━━━━━━\u001b[0m\u001b[37m\u001b[0m \u001b[1m3s\u001b[0m 3ms/step - accuracy: 0.9267 - loss: 0.1920 - val_accuracy: 0.8806 - val_loss: 0.3680\n",
      "Epoch 18/30\n",
      "\u001b[1m925/938\u001b[0m \u001b[32m━━━━━━━━━━━━━━━━━━━\u001b[0m\u001b[37m━\u001b[0m \u001b[1m0s\u001b[0m 3ms/step - accuracy: 0.9294 - loss: 0.1884\n",
      "Epoch 18: val_loss did not improve from 0.32306\n",
      "\u001b[1m938/938\u001b[0m \u001b[32m━━━━━━━━━━━━━━━━━━━━\u001b[0m\u001b[37m\u001b[0m \u001b[1m3s\u001b[0m 3ms/step - accuracy: 0.9299 - loss: 0.1871 - val_accuracy: 0.8900 - val_loss: 0.3398\n",
      "Epoch 19/30\n",
      "\u001b[1m923/938\u001b[0m \u001b[32m━━━━━━━━━━━━━━━━━━━\u001b[0m\u001b[37m━\u001b[0m \u001b[1m0s\u001b[0m 3ms/step - accuracy: 0.9335 - loss: 0.1778\n",
      "Epoch 19: val_loss did not improve from 0.32306\n",
      "\u001b[1m938/938\u001b[0m \u001b[32m━━━━━━━━━━━━━━━━━━━━\u001b[0m\u001b[37m\u001b[0m \u001b[1m3s\u001b[0m 3ms/step - accuracy: 0.9313 - loss: 0.1815 - val_accuracy: 0.8875 - val_loss: 0.3474\n",
      "Epoch 20/30\n",
      "\u001b[1m929/938\u001b[0m \u001b[32m━━━━━━━━━━━━━━━━━━━\u001b[0m\u001b[37m━\u001b[0m \u001b[1m0s\u001b[0m 3ms/step - accuracy: 0.9330 - loss: 0.1763\n",
      "Epoch 20: val_loss did not improve from 0.32306\n",
      "\u001b[1m938/938\u001b[0m \u001b[32m━━━━━━━━━━━━━━━━━━━━\u001b[0m\u001b[37m\u001b[0m \u001b[1m4s\u001b[0m 4ms/step - accuracy: 0.9332 - loss: 0.1772 - val_accuracy: 0.8866 - val_loss: 0.3652\n",
      "ANN model training finished.\n"
     ]
    }
   ],
   "source": [
    "early_stopping = keras.callbacks.EarlyStopping(\n",
    "    monitor='val_loss',\n",
    "    patience=5,\n",
    "    restore_best_weights=True\n",
    ")\n",
    "\n",
    "model_checkpoint_ann = keras.callbacks.ModelCheckpoint(\n",
    "    filepath='best_ann_model_weights.weights.h5',\n",
    "    monitor='val_loss',\n",
    "    save_best_only=True,\n",
    "    save_weights_only=True,\n",
    "    mode='min',\n",
    "    verbose=1\n",
    ")\n",
    "\n",
    "print(\"Training ANN model...\")\n",
    "ann_history = ann_model.fit(\n",
    "    train_images,\n",
    "    train_labels_one_hot,\n",
    "    epochs=30,\n",
    "    batch_size=64,\n",
    "    validation_data=(test_images, test_labels_one_hot),\n",
    "    callbacks=[early_stopping, model_checkpoint_ann]\n",
    ")\n",
    "print(\"ANN model training finished.\")"
   ]
  },
  {
   "cell_type": "markdown",
   "metadata": {
    "id": "OeTKHRl3YBmL"
   },
   "source": [
    "#### 3.2) Training Basic CNN Model"
   ]
  },
  {
   "cell_type": "markdown",
   "metadata": {
    "id": "0ZbylWgGd_7M"
   },
   "source": [
    "- **ModelCheckpoint**: saves best Basic CNN weights (`best_basic_cnn_model_weights.weights.h5`) based on validation loss.  \n",
    "- **Training**:  \n",
    "  - Epochs: up to 30 (early stopping controls actual run)  \n",
    "  - Batch size: 64  \n",
    "  - Validation on test set  \n",
    "  - Callbacks: EarlyStopping + ModelCheckpoint"
   ]
  },
  {
   "cell_type": "code",
   "execution_count": null,
   "metadata": {
    "colab": {
     "base_uri": "https://localhost:8080/"
    },
    "id": "979a9980",
    "outputId": "40882003-7025-4969-a25c-f0dc984b89fc"
   },
   "outputs": [
    {
     "name": "stdout",
     "output_type": "stream",
     "text": [
      "Training Basic CNN model...\n",
      "Epoch 1/30\n"
     ]
    },
    {
     "name": "stderr",
     "output_type": "stream",
     "text": [
      "2025-10-15 16:41:08.092633: W external/local_xla/xla/tsl/framework/cpu_allocator_impl.cc:84] Allocation of 188160000 exceeds 10% of free system memory.\n"
     ]
    },
    {
     "name": "stdout",
     "output_type": "stream",
     "text": [
      "\u001b[1m936/938\u001b[0m \u001b[32m━━━━━━━━━━━━━━━━━━━\u001b[0m\u001b[37m━\u001b[0m \u001b[1m0s\u001b[0m 20ms/step - accuracy: 0.7453 - loss: 0.7175 \n",
      "Epoch 1: val_loss improved from None to 0.38290, saving model to best_basic_cnn_model_weights.weights.h5\n",
      "\u001b[1m938/938\u001b[0m \u001b[32m━━━━━━━━━━━━━━━━━━━━\u001b[0m\u001b[37m\u001b[0m \u001b[1m21s\u001b[0m 21ms/step - accuracy: 0.8212 - loss: 0.4995 - val_accuracy: 0.8641 - val_loss: 0.3829\n",
      "Epoch 2/30\n",
      "\u001b[1m937/938\u001b[0m \u001b[32m━━━━━━━━━━━━━━━━━━━\u001b[0m\u001b[37m━\u001b[0m \u001b[1m0s\u001b[0m 19ms/step - accuracy: 0.8747 - loss: 0.3432 \n",
      "Epoch 2: val_loss improved from 0.38290 to 0.36921, saving model to best_basic_cnn_model_weights.weights.h5\n",
      "\u001b[1m938/938\u001b[0m \u001b[32m━━━━━━━━━━━━━━━━━━━━\u001b[0m\u001b[37m\u001b[0m \u001b[1m19s\u001b[0m 20ms/step - accuracy: 0.8801 - loss: 0.3282 - val_accuracy: 0.8692 - val_loss: 0.3692\n",
      "Epoch 3/30\n",
      "\u001b[1m936/938\u001b[0m \u001b[32m━━━━━━━━━━━━━━━━━━━\u001b[0m\u001b[37m━\u001b[0m \u001b[1m0s\u001b[0m 20ms/step - accuracy: 0.8941 - loss: 0.2913 \n",
      "Epoch 3: val_loss improved from 0.36921 to 0.29797, saving model to best_basic_cnn_model_weights.weights.h5\n",
      "\u001b[1m938/938\u001b[0m \u001b[32m━━━━━━━━━━━━━━━━━━━━\u001b[0m\u001b[37m\u001b[0m \u001b[1m20s\u001b[0m 21ms/step - accuracy: 0.8975 - loss: 0.2829 - val_accuracy: 0.8915 - val_loss: 0.2980\n",
      "Epoch 4/30\n",
      "\u001b[1m935/938\u001b[0m \u001b[32m━━━━━━━━━━━━━━━━━━━\u001b[0m\u001b[37m━\u001b[0m \u001b[1m0s\u001b[0m 18ms/step - accuracy: 0.9067 - loss: 0.2517 \n",
      "Epoch 4: val_loss improved from 0.29797 to 0.28595, saving model to best_basic_cnn_model_weights.weights.h5\n",
      "\u001b[1m938/938\u001b[0m \u001b[32m━━━━━━━━━━━━━━━━━━━━\u001b[0m\u001b[37m\u001b[0m \u001b[1m18s\u001b[0m 19ms/step - accuracy: 0.9064 - loss: 0.2536 - val_accuracy: 0.8967 - val_loss: 0.2860\n",
      "Epoch 5/30\n",
      "\u001b[1m937/938\u001b[0m \u001b[32m━━━━━━━━━━━━━━━━━━━\u001b[0m\u001b[37m━\u001b[0m \u001b[1m0s\u001b[0m 19ms/step - accuracy: 0.9158 - loss: 0.2265 \n",
      "Epoch 5: val_loss improved from 0.28595 to 0.27451, saving model to best_basic_cnn_model_weights.weights.h5\n",
      "\u001b[1m938/938\u001b[0m \u001b[32m━━━━━━━━━━━━━━━━━━━━\u001b[0m\u001b[37m\u001b[0m \u001b[1m18s\u001b[0m 20ms/step - accuracy: 0.9153 - loss: 0.2285 - val_accuracy: 0.9000 - val_loss: 0.2745\n",
      "Epoch 6/30\n",
      "\u001b[1m923/938\u001b[0m \u001b[32m━━━━━━━━━━━━━━━━━━━\u001b[0m\u001b[37m━\u001b[0m \u001b[1m0s\u001b[0m 18ms/step - accuracy: 0.9205 - loss: 0.2095 "
     ]
    }
   ],
   "source": [
    "model_checkpoint_basic_cnn = keras.callbacks.ModelCheckpoint(\n",
    "    filepath='best_basic_cnn_model_weights.weights.h5',\n",
    "    monitor='val_loss',\n",
    "    save_best_only=True,\n",
    "    save_weights_only=True,\n",
    "    mode='min',\n",
    "    verbose=1\n",
    ")\n",
    "\n",
    "print(\"Training Basic CNN model...\")\n",
    "basic_cnn_history = basic_cnn_model.fit(\n",
    "    train_images,\n",
    "    train_labels_one_hot,\n",
    "    epochs=30,\n",
    "    batch_size=64,\n",
    "    validation_data=(test_images, test_labels_one_hot),\n",
    "    callbacks=[early_stopping, model_checkpoint_basic_cnn]\n",
    ")\n",
    "print(\"Basic CNN model training finished.\")"
   ]
  },
  {
   "cell_type": "markdown",
   "metadata": {
    "id": "3566a954"
   },
   "source": [
    "#### 3.3) Training Deeper CNN Model"
   ]
  },
  {
   "cell_type": "markdown",
   "metadata": {
    "id": "qtsdg-QXePFY"
   },
   "source": [
    "- **ModelCheckpoint**: saves best Deeper CNN weights (`best_deeper_cnn_model_weights.weights.h5`) based on validation loss.  \n",
    "- **Training**:  \n",
    "  - Epochs: up to 30 (early stopping controls actual run)  \n",
    "  - Batch size: 64  \n",
    "  - Validation on test set  \n",
    "  - Callbacks: EarlyStopping + ModelCheckpoint  "
   ]
  },
  {
   "cell_type": "code",
   "execution_count": null,
   "metadata": {
    "colab": {
     "base_uri": "https://localhost:8080/"
    },
    "id": "6f23eb27",
    "outputId": "dffcf8c0-7ed7-4c2a-9ccd-064df69ae5e8"
   },
   "outputs": [],
   "source": [
    "model_checkpoint_deeper_cnn = keras.callbacks.ModelCheckpoint(\n",
    "    filepath='best_deeper_cnn_model_weights.weights.h5',\n",
    "    monitor='val_loss',\n",
    "    save_best_only=True,\n",
    "    save_weights_only=True,\n",
    "    mode='min',\n",
    "    verbose=1\n",
    ")\n",
    "\n",
    "print(\"Training Deeper CNN model...\")\n",
    "deeper_cnn_history = deeper_cnn_model.fit(\n",
    "    train_images,\n",
    "    train_labels_one_hot,\n",
    "    epochs=30,\n",
    "    batch_size=64,\n",
    "    validation_data=(test_images, test_labels_one_hot),\n",
    "    callbacks=[early_stopping, model_checkpoint_deeper_cnn]\n",
    ")\n",
    "print(\"Deeper CNN model training finished.\")"
   ]
  },
  {
   "cell_type": "markdown",
   "metadata": {
    "id": "ZPXbOARBlCrg"
   },
   "source": [
    "### 4. Model Evaluation"
   ]
  },
  {
   "cell_type": "markdown",
   "metadata": {
    "id": "p7VnenQV00J-"
   },
   "source": [
    "#### 4.1) Model Evaluation Code Explanation\n",
    "\n",
    "Import utilities → Load weights (ANN, Basic CNN, Deeper CNN) → Evaluate on test set → Get loss & accuracy → Print results"
   ]
  },
  {
   "cell_type": "code",
   "execution_count": null,
   "metadata": {
    "colab": {
     "base_uri": "https://localhost:8080/",
     "height": 583
    },
    "id": "80c0f0b0",
    "outputId": "1ce66228-2f66-4c0f-9123-f270a8e66c90"
   },
   "outputs": [],
   "source": [
    "import matplotlib.pyplot as plt\n",
    "import numpy as np\n",
    "from sklearn.metrics import confusion_matrix, classification_report\n",
    "\n",
    "ann_model.load_weights('best_ann_model_weights.weights.h5')\n",
    "basic_cnn_model.load_weights('best_basic_cnn_model_weights.weights.h5')\n",
    "deeper_cnn_model.load_weights('best_deeper_cnn_model_weights.weights.h5')\n",
    "\n",
    "loss_ann, accuracy_ann = ann_model.evaluate(test_images, test_labels_one_hot, verbose=0)\n",
    "loss_basic_cnn, accuracy_basic_cnn = basic_cnn_model.evaluate(test_images, test_labels_one_hot, verbose=0)\n",
    "loss_deeper_cnn, accuracy_deeper_cnn = deeper_cnn_model.evaluate(test_images, test_labels_one_hot, verbose=0)\n",
    "\n",
    "\n",
    "import matplotlib.pyplot as plt\n",
    "import numpy as np\n",
    "\n",
    "# Data\n",
    "models = ['ANN', 'Basic CNN', 'Deeper CNN']\n",
    "losses = [loss_ann, loss_basic_cnn, loss_deeper_cnn]\n",
    "accuracies = [accuracy_ann, accuracy_basic_cnn, accuracy_deeper_cnn]\n",
    "\n",
    "# Dark mode style\n",
    "plt.style.use(\"dark_background\")\n",
    "\n",
    "fig, axes = plt.subplots(1, 2, figsize=(12, 5))\n",
    "\n",
    "# Loss plot\n",
    "axes[0].bar(models, losses, color='#FF6F61', edgecolor='white')\n",
    "axes[0].set_title('Model Test Loss', fontsize=14, fontweight='bold')\n",
    "axes[0].set_ylabel('Loss', fontsize=12)\n",
    "axes[0].grid(True, linestyle='--', alpha=0.4)\n",
    "\n",
    "# Accuracy plot\n",
    "axes[1].bar(models, accuracies, color='#6BCB77', edgecolor='white')\n",
    "axes[1].set_title('Model Test Accuracy', fontsize=14, fontweight='bold')\n",
    "axes[1].set_ylabel('Accuracy', fontsize=12)\n",
    "axes[1].grid(True, linestyle='--', alpha=0.4)\n",
    "\n",
    "# Overall title\n",
    "plt.suptitle(\"✨ Model Performance Comparison ✨\", fontsize=16, fontweight='bold')\n",
    "\n",
    "plt.tight_layout()\n",
    "plt.show()\n"
   ]
  },
  {
   "cell_type": "markdown",
   "metadata": {
    "id": "Kfxk-yy71euJ"
   },
   "source": [
    "#### 4.2) Model Evaluation (Confusion Matrix & Report)\n",
    "\n",
    "- Predict test images (ANN, Basic CNN, Deeper CNN)  \n",
    "- Convert one-hot labels to integers  \n",
    "- Get predicted labels with `argmax`  \n",
    "- Print confusion matrix & classification report for each model\n"
   ]
  },
  {
   "cell_type": "code",
   "execution_count": null,
   "metadata": {
    "colab": {
     "base_uri": "https://localhost:8080/",
     "height": 417
    },
    "id": "6caea998",
    "outputId": "12bcba58-62cb-4599-ed9e-82195b27522e"
   },
   "outputs": [],
   "source": [
    "import numpy as np\n",
    "import matplotlib.pyplot as plt\n",
    "import seaborn as sns\n",
    "from sklearn.metrics import confusion_matrix\n",
    "\n",
    "# Predictions\n",
    "ann_predictions = ann_model.predict(test_images)\n",
    "basic_cnn_predictions = basic_cnn_model.predict(test_images)\n",
    "deeper_cnn_predictions = deeper_cnn_model.predict(test_images)\n",
    "\n",
    "# Convert labels\n",
    "test_labels_int = np.argmax(test_labels_one_hot, axis=1)\n",
    "\n",
    "ann_predicted_labels = np.argmax(ann_predictions, axis=1)\n",
    "basic_cnn_predicted_labels = np.argmax(basic_cnn_predictions, axis=1)\n",
    "deeper_cnn_predicted_labels = np.argmax(deeper_cnn_predictions, axis=1)\n",
    "\n",
    "# Confusion matrices\n",
    "cm_ann = confusion_matrix(test_labels_int, ann_predicted_labels)\n",
    "cm_basic = confusion_matrix(test_labels_int, basic_cnn_predicted_labels)\n",
    "cm_deeper = confusion_matrix(test_labels_int, deeper_cnn_predicted_labels)\n",
    "\n",
    "# Plot side by side\n",
    "fig, axes = plt.subplots(1, 3, figsize=(18, 5))\n",
    "\n",
    "sns.heatmap(cm_ann, annot=True, fmt=\"d\", cmap=\"Blues\", ax=axes[0])\n",
    "axes[0].set_title(\"ANN Model\")\n",
    "axes[0].set_xlabel(\"Predicted\")\n",
    "axes[0].set_ylabel(\"Actual\")\n",
    "\n",
    "sns.heatmap(cm_basic, annot=True, fmt=\"d\", cmap=\"Blues\", ax=axes[1])\n",
    "axes[1].set_title(\"Basic CNN Model\")\n",
    "axes[1].set_xlabel(\"Predicted\")\n",
    "axes[1].set_ylabel(\"Actual\")\n",
    "\n",
    "sns.heatmap(cm_deeper, annot=True, fmt=\"d\", cmap=\"Blues\", ax=axes[2])\n",
    "axes[2].set_title(\"Deeper CNN Model\")\n",
    "axes[2].set_xlabel(\"Predicted\")\n",
    "axes[2].set_ylabel(\"Actual\")\n",
    "\n",
    "plt.tight_layout()\n",
    "plt.show()"
   ]
  },
  {
   "cell_type": "markdown",
   "metadata": {
    "id": "Z_96B2DvnRe2"
   },
   "source": [
    "#### 4.3) Model Comparison\n",
    "\n",
    "- Created a dataframe to store **test loss** and **test accuracy** for ANN, Basic CNN, and Deeper CNN.  \n",
    "- Plotted training history for each model (accuracy & loss vs. epochs).  \n",
    "- Helps compare how models learn and generalize over time.  "
   ]
  },
  {
   "cell_type": "code",
   "execution_count": null,
   "metadata": {
    "colab": {
     "base_uri": "https://localhost:8080/",
     "height": 517
    },
    "id": "3c8abd42",
    "outputId": "69ccaeb7-4c14-4656-a4da-16ca2ecb3581"
   },
   "outputs": [],
   "source": [
    "import plotly.graph_objects as go\n",
    "from plotly.subplots import make_subplots\n",
    "\n",
    "models = {\n",
    "    \"ANN\": (\"cyan\", ann_history),\n",
    "    \"Basic CNN\": (\"magenta\", basic_cnn_history),\n",
    "    \"Deeper CNN\": (\"yellow\", deeper_cnn_history)\n",
    "}\n",
    "\n",
    "performance_data = {\n",
    "    'Model': ['ANN', 'Basic CNN', 'Deeper CNN'],\n",
    "    'Test Loss': [loss_ann, loss_basic_cnn, loss_deeper_cnn],\n",
    "    'Test Accuracy': [accuracy_ann, accuracy_basic_cnn, accuracy_deeper_cnn]\n",
    "}\n",
    "\n",
    "performance_df = pd.DataFrame(performance_data)\n",
    "\n",
    "fig = make_subplots(rows=1, cols=2, subplot_titles=('Accuracy', 'Loss'))\n",
    "\n",
    "for name, (color, history) in models.items():\n",
    "    # Accuracy\n",
    "    fig.add_trace(go.Scatter(y=history.history['accuracy'], mode='lines',\n",
    "                             name=name, line=dict(color=color, dash='solid')), row=1, col=1)\n",
    "    fig.add_trace(go.Scatter(y=history.history['val_accuracy'], mode='lines',\n",
    "                             name=name, line=dict(color=color, dash='dot'), showlegend=False), row=1, col=1)\n",
    "\n",
    "    # Loss\n",
    "    fig.add_trace(go.Scatter(y=history.history['loss'], mode='lines',\n",
    "                             name=name, line=dict(color=color, dash='solid')), row=1, col=2)\n",
    "    fig.add_trace(go.Scatter(y=history.history['val_loss'], mode='lines',\n",
    "                             name=name, line=dict(color=color, dash='dot'), showlegend=False), row=1, col=2)\n",
    "\n",
    "fig.update_layout(\n",
    "    title_text=\"Model Comparison: Accuracy & Loss (Train=Solid, Val=Dot)\",\n",
    "    height=500,\n",
    "    width=1200,\n",
    "    template=\"plotly_dark\"\n",
    ")\n",
    "\n",
    "fig.show()"
   ]
  },
  {
   "cell_type": "markdown",
   "metadata": {
    "id": "hxPlh1hN3T4M"
   },
   "source": [
    "#### 4.4) Predictions\n",
    "\n",
    "This code:\n",
    "- Uses the trained **Basic CNN model** to predict on test images.  \n",
    "- Identifies **correctly** and **incorrectly** classified samples.  \n",
    "- Randomly selects 100 correct and 100 incorrect predictions.  \n",
    "- Displays them in a **20×10 grid**:  \n",
    "  - ✅ Correct predictions → **Green title** (only predicted label).  \n",
    "  - ❌ Incorrect predictions → **Red title** (Predicted vs True label).  \n"
   ]
  },
  {
   "cell_type": "code",
   "execution_count": null,
   "metadata": {
    "colab": {
     "base_uri": "https://localhost:8080/",
     "height": 679
    },
    "id": "8beadb19",
    "outputId": "7e4124fc-1111-48a1-8cf6-e4cefa8f52a2"
   },
   "outputs": [],
   "source": [
    "basic_cnn_predictions = basic_cnn_model.predict(test_images)\n",
    "basic_cnn_predicted_labels = np.argmax(basic_cnn_predictions, axis=1)\n",
    "\n",
    "# Find correctly and incorrectly classified images\n",
    "correctly_classified_indices = np.where(basic_cnn_predicted_labels == test_labels)[0]\n",
    "incorrectly_classified_indices = np.where(basic_cnn_predicted_labels != test_labels)[0]\n",
    "\n",
    "# Define class names for Fashion-MNIST\n",
    "class_names = ['T-shirt/top', 'Trouser', 'Pullover', 'Dress', 'Coat',\n",
    "               'Sandal', 'Shirt', 'Sneaker', 'Bag', 'Ankle boot']\n",
    "\n",
    "# Select a mix of correctly and incorrectly classified images\n",
    "num_correct_to_show = 100\n",
    "num_incorrect_to_show = 100\n",
    "\n",
    "# Ensure we don't try to show more images than available\n",
    "num_correct_to_show = min(num_correct_to_show, len(correctly_classified_indices))\n",
    "num_incorrect_to_show = min(num_incorrect_to_show, len(incorrectly_classified_indices))\n",
    "\n",
    "selected_correct_indices = np.random.choice(correctly_classified_indices, num_correct_to_show, replace=False)\n",
    "selected_incorrect_indices = np.random.choice(incorrectly_classified_indices, num_incorrect_to_show, replace=False)\n",
    "\n",
    "# Combine and shuffle the indices\n",
    "all_indices = np.concatenate((selected_correct_indices, selected_incorrect_indices))\n",
    "np.random.shuffle(all_indices)\n",
    "\n",
    "# Display images in a 20x10 grid\n",
    "num_cols = 20\n",
    "num_rows = 10\n",
    "num_images_to_show = num_correct_to_show + num_incorrect_to_show\n",
    "\n",
    "fig, axes = plt.subplots(num_rows, num_cols, figsize=(2 * num_cols, 2 * num_rows))\n",
    "fig.suptitle(\"Basic CNN Predictions (Mix of Correct and Incorrect)\", fontsize=18, y=1.02)\n",
    "\n",
    "for i, idx in enumerate(all_indices[:num_images_to_show]):\n",
    "    row = i // num_cols\n",
    "    col = i % num_cols\n",
    "    axes[row, col].imshow(test_images[idx].reshape(28, 28), cmap='gray')\n",
    "\n",
    "    pred = class_names[basic_cnn_predicted_labels[idx]]\n",
    "    true = class_names[test_labels[idx]]\n",
    "\n",
    "    if basic_cnn_predicted_labels[idx] == test_labels[idx]:\n",
    "        color = \"green\"\n",
    "        title = f\"{pred}\"\n",
    "    else:\n",
    "        color = \"red\"\n",
    "        title = f\"P:{pred}\\nT:{true}\"\n",
    "\n",
    "    axes[row, col].set_title(title, fontsize=8, color=color)\n",
    "    axes[row, col].axis(\"off\")\n",
    "\n",
    "plt.tight_layout()\n",
    "plt.show()"
   ]
  },
  {
   "cell_type": "markdown",
   "metadata": {
    "id": "4917e428"
   },
   "source": [
    "## Project Summary and Conclusion\n",
    "\n",
    "This project successfully implemented and compared three different deep learning models (ANN, Basic CNN, and Deeper CNN) for classifying images from the Fashion-MNIST dataset.\n",
    "\n",
    "**Summary of Work:**\n",
    "\n",
    "1.  **Data Preparation:** The Fashion-MNIST dataset was loaded, normalized, reshaped, and one-hot encoded, preparing it for use with the different model architectures.\n",
    "2.  **Model Development:** Three models of increasing complexity were defined: a basic Artificial Neural Network (ANN), a basic Convolutional Neural Network (CNN), and a deeper CNN with additional layers, batch normalization, and dropout.\n",
    "3.  **Model Training:** Each model was trained using the preprocessed training data with Early Stopping and Model Checkpointing to prevent overfitting and save the best performing weights based on validation loss.\n",
    "4.  **Model Evaluation:** The trained models were evaluated on the test set. Performance metrics (loss and accuracy) were calculated, and the training history was visualized. Confusion matrices were generated to analyze class-specific performance.\n",
    "5.  **Prediction Analysis:** Predictions were made using the Basic CNN model, and examples of correctly and incorrectly classified images were visualized to gain insights into the model's strengths and weaknesses.\n",
    "\n",
    "**Key Findings and Conclusion:**\n",
    "\n",
    "Based on the evaluation results:\n",
    "\n",
    "*   The **Basic CNN model** generally achieved the best balance of performance (highest accuracy, lowest loss) on the test set compared to the ANN and Deeper CNN models.\n",
    "*   The **ANN model** performed reasonably well but was outperformed by both CNN architectures, highlighting the advantage of convolutional layers for image classification tasks.\n",
    "*   The **Deeper CNN model**, despite its increased complexity, did not consistently outperform the Basic CNN model on this dataset. This could be due to various factors such as the dataset size, the architecture choices, or the regularization applied. For this particular task and dataset, the increased complexity of the deeper model might not have been necessary or could have led to some overfitting despite the regularization techniques.\n",
    "\n",
    "In conclusion, the Basic CNN model demonstrated superior performance for this Fashion-MNIST classification task, suggesting that a moderate level of complexity with convolutional layers is effective for this dataset. Further tuning of hyperparameters or architectural variations might potentially improve performance across all models, but the current results clearly show the benefits of CNNs over ANNs for image data."
   ]
  },
  {
   "cell_type": "markdown",
   "metadata": {
    "id": "716b538e"
   },
   "source": [
    "## Assignment: CIFAR-100 Image Classification\n",
    "\n",
    "Your task is to apply the concepts and techniques learned in this Fashion-MNIST project to the CIFAR-100 dataset. CIFAR-100 is a dataset consisting of 60,000 32x32 color images in 100 classes, with 600 images per class. There are 50,000 training images and 10,000 test images.\n",
    "\n",
    "Follow these steps:\n",
    "\n",
    "1.  **Dataset Setup:**\n",
    "    *   Load the CIFAR-100 dataset.\n",
    "    *   Preprocess the data (normalize pixel values, one-hot encode labels). Remember that CIFAR-100 images are 32x32 color images, so the input shape will be different from Fashion-MNIST.\n",
    "    *   Verify the shapes of the processed data.\n",
    "\n",
    "2.  **Model Building:**\n",
    "    *   Adapt the ANN and CNN model architectures for the CIFAR-100 dataset. Consider that CIFAR-100 images are color (3 channels) and have a different resolution (32x32). You might need to adjust the input layer and potentially the number of filters or layers in the CNNs for better performance on a more complex dataset.\n",
    "\n",
    "3.  **Model Training:**\n",
    "    *   Train the models using the preprocessed CIFAR-100 training data. Use Early Stopping and Model Checkpointing as implemented before.\n",
    "\n",
    "4.  **Model Evaluation:**\n",
    "    *   Evaluate the trained models on the CIFAR-100 test set. Compare their performance using loss and accuracy.\n",
    "    *   Visualize training history and confusion matrices.\n",
    "\n",
    "5.  **Prediction Analysis:**\n",
    "    *   Choose the best performing model and analyze its predictions on the CIFAR-100 test set.\n",
    "\n",
    "**Goal:** To understand how model complexity and architecture choices impact performance on a more challenging image classification dataset like CIFAR-100."
   ]
  },
  {
   "cell_type": "code",
   "execution_count": null,
   "metadata": {
    "colab": {
     "base_uri": "https://localhost:8080/"
    },
    "id": "dfc37839",
    "outputId": "7590491e-bc9f-4471-f62d-3d8253949c40"
   },
   "outputs": [],
   "source": [
    "import keras\n",
    "\n",
    "(cifar100_train_images, cifar100_train_labels), (cifar100_test_images, cifar100_test_labels) = keras.datasets.cifar100.load_data()\n",
    "\n",
    "print(\"CIFAR-100 Training images shape:\", cifar100_train_images.shape)\n",
    "print(\"CIFAR-100 Testing images shape:\", cifar100_test_images.shape)\n",
    "print(\"CIFAR-100 Training labels shape:\", cifar100_train_labels.shape)\n",
    "print(\"CIFAR-100 Testing labels shape:\", cifar100_test_labels.shape)"
   ]
  },
  {
   "cell_type": "code",
   "execution_count": null,
   "metadata": {},
   "outputs": [],
   "source": []
  },
  {
   "cell_type": "code",
   "execution_count": null,
   "metadata": {},
   "outputs": [],
   "source": []
  },
  {
   "cell_type": "code",
   "execution_count": null,
   "metadata": {},
   "outputs": [],
   "source": []
  },
  {
   "cell_type": "code",
   "execution_count": null,
   "metadata": {},
   "outputs": [],
   "source": []
  },
  {
   "cell_type": "code",
   "execution_count": null,
   "metadata": {},
   "outputs": [],
   "source": []
  },
  {
   "cell_type": "code",
   "execution_count": null,
   "metadata": {},
   "outputs": [],
   "source": []
  },
  {
   "cell_type": "code",
   "execution_count": null,
   "metadata": {},
   "outputs": [],
   "source": []
  },
  {
   "cell_type": "code",
   "execution_count": null,
   "metadata": {},
   "outputs": [],
   "source": []
  },
  {
   "cell_type": "code",
   "execution_count": null,
   "metadata": {},
   "outputs": [],
   "source": []
  },
  {
   "cell_type": "code",
   "execution_count": null,
   "metadata": {},
   "outputs": [],
   "source": []
  },
  {
   "cell_type": "code",
   "execution_count": null,
   "metadata": {},
   "outputs": [],
   "source": []
  },
  {
   "cell_type": "code",
   "execution_count": null,
   "metadata": {},
   "outputs": [],
   "source": []
  },
  {
   "cell_type": "code",
   "execution_count": null,
   "metadata": {},
   "outputs": [],
   "source": []
  },
  {
   "cell_type": "code",
   "execution_count": null,
   "metadata": {},
   "outputs": [],
   "source": []
  },
  {
   "cell_type": "code",
   "execution_count": null,
   "metadata": {},
   "outputs": [],
   "source": []
  },
  {
   "cell_type": "code",
   "execution_count": null,
   "metadata": {},
   "outputs": [],
   "source": []
  },
  {
   "cell_type": "code",
   "execution_count": null,
   "metadata": {},
   "outputs": [],
   "source": []
  },
  {
   "cell_type": "code",
   "execution_count": null,
   "metadata": {},
   "outputs": [],
   "source": []
  }
 ],
 "metadata": {
  "accelerator": "GPU",
  "colab": {
   "gpuType": "T4",
   "provenance": []
  },
  "kernelspec": {
   "display_name": "Python [conda env:base] *",
   "language": "python",
   "name": "conda-base-py"
  },
  "language_info": {
   "codemirror_mode": {
    "name": "ipython",
    "version": 3
   },
   "file_extension": ".py",
   "mimetype": "text/x-python",
   "name": "python",
   "nbconvert_exporter": "python",
   "pygments_lexer": "ipython3",
   "version": "3.13.5"
  }
 },
 "nbformat": 4,
 "nbformat_minor": 4
}
