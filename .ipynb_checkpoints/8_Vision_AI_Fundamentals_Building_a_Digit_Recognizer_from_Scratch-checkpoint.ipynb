{
 "cells": [
  {
   "cell_type": "markdown",
   "metadata": {
    "id": "3f3e26de"
   },
   "source": [
    "# Fashion-MNIST Classification Project\n",
    "\n",
    "This project aims to build and compare different deep learning models for classifying images from the Fashion-MNIST dataset. We will explore the impact of increasing model complexity, from a simple Artificial Neural Network (ANN) to more sophisticated Convolutional Neural Networks (CNNs), on performance and efficiency.\n",
    "\n",
    "**Project Agenda & Steps:**\n",
    "\n",
    "1.  **Dataset Setup:**\n",
    "    *   Import necessary libraries.\n",
    "    *   Load the Fashion-MNIST dataset.\n",
    "    *   Preprocess the data (normalize and reshape images, one-hot encode labels).\n",
    "    *   Verify the shapes of the processed data.\n",
    "\n",
    "2.  **Model Building:**\n",
    "    *   Define the architecture for each model:\n",
    "        *   Basic ANN Model\n",
    "        *   Basic CNN Model\n",
    "        *   Deeper CNN Model\n",
    "\n",
    "3.  **Model Training:**\n",
    "    *   Train each model using the prepared training data.\n",
    "    *   Implement Early Stopping and Model Checkpointing to optimize training and save the best model weights.\n",
    "\n",
    "4.  **Model Evaluation:**\n",
    "    *   Load the best weights for each trained model.\n",
    "    *   Evaluate each model's performance on the test set using metrics like loss and accuracy.\n",
    "    *   Visualize the training history (accuracy and loss curves) for comparison.\n",
    "    *   Generate and visualize confusion matrices to understand model performance on each class.\n",
    "\n",
    "5.  **Prediction Analysis:**\n",
    "    *   Use the best performing model (Basic CNN in this case) to make predictions on the test set.\n",
    "    *   Identify and visualize examples of both correctly and incorrectly classified images to gain insights into model behavior.\n",
    "\n",
    "**Goal:** To analyze and demonstrate how model complexity influences classification accuracy and efficiency on the Fashion-MNIST dataset."
   ]
  },
  {
   "cell_type": "markdown",
   "metadata": {
    "id": "GtKuH4KkTtE4"
   },
   "source": [
    "### 1. Dataset Setup Documentation"
   ]
  },
  {
   "cell_type": "markdown",
   "metadata": {
    "id": "JRkB4PzvYkFt"
   },
   "source": [
    "#### 1.1) Library Imports\n",
    "\n",
    "This section imports the essential libraries:  \n",
    "- **NumPy** for numerical operations  \n",
    "- **TensorFlow / Keras** for building and training deep learning models  \n",
    "- **Matplotlib** for visualizations  "
   ]
  },
  {
   "cell_type": "code",
   "execution_count": null,
   "metadata": {},
   "outputs": [
    {
     "name": "stdout",
     "output_type": "stream",
     "text": [
      "Collecting tensorflow\n",
      "  Downloading tensorflow-2.20.0-cp313-cp313-manylinux_2_17_x86_64.manylinux2014_x86_64.whl.metadata (4.5 kB)\n",
      "Collecting absl-py>=1.0.0 (from tensorflow)\n",
      "  Downloading absl_py-2.3.1-py3-none-any.whl.metadata (3.3 kB)\n",
      "Collecting astunparse>=1.6.0 (from tensorflow)\n",
      "  Downloading astunparse-1.6.3-py2.py3-none-any.whl.metadata (4.4 kB)\n",
      "Collecting flatbuffers>=24.3.25 (from tensorflow)\n",
      "  Using cached flatbuffers-25.9.23-py2.py3-none-any.whl.metadata (875 bytes)\n",
      "Collecting gast!=0.5.0,!=0.5.1,!=0.5.2,>=0.2.1 (from tensorflow)\n",
      "  Downloading gast-0.6.0-py3-none-any.whl.metadata (1.3 kB)\n",
      "Collecting google_pasta>=0.1.1 (from tensorflow)\n",
      "  Downloading google_pasta-0.2.0-py3-none-any.whl.metadata (814 bytes)\n",
      "Collecting libclang>=13.0.0 (from tensorflow)\n",
      "  Downloading libclang-18.1.1-py2.py3-none-manylinux2010_x86_64.whl.metadata (5.2 kB)\n",
      "Collecting opt_einsum>=2.3.2 (from tensorflow)\n",
      "  Downloading opt_einsum-3.4.0-py3-none-any.whl.metadata (6.3 kB)\n",
      "Requirement already satisfied: packaging in /home/roshan/anaconda3/lib/python3.13/site-packages (from tensorflow) (24.2)\n",
      "Requirement already satisfied: protobuf>=5.28.0 in /home/roshan/anaconda3/lib/python3.13/site-packages (from tensorflow) (5.29.3)\n",
      "Requirement already satisfied: requests<3,>=2.21.0 in /home/roshan/anaconda3/lib/python3.13/site-packages (from tensorflow) (2.32.3)\n",
      "Requirement already satisfied: setuptools in /home/roshan/anaconda3/lib/python3.13/site-packages (from tensorflow) (72.1.0)\n",
      "Requirement already satisfied: six>=1.12.0 in /home/roshan/anaconda3/lib/python3.13/site-packages (from tensorflow) (1.17.0)\n",
      "Collecting termcolor>=1.1.0 (from tensorflow)\n",
      "  Downloading termcolor-3.1.0-py3-none-any.whl.metadata (6.4 kB)\n",
      "Requirement already satisfied: typing_extensions>=3.6.6 in /home/roshan/anaconda3/lib/python3.13/site-packages (from tensorflow) (4.12.2)\n",
      "Requirement already satisfied: wrapt>=1.11.0 in /home/roshan/anaconda3/lib/python3.13/site-packages (from tensorflow) (1.17.0)\n",
      "Collecting grpcio<2.0,>=1.24.3 (from tensorflow)\n",
      "  Using cached grpcio-1.75.1-cp313-cp313-manylinux2014_x86_64.manylinux_2_17_x86_64.whl.metadata (3.7 kB)\n",
      "Collecting tensorboard~=2.20.0 (from tensorflow)\n",
      "  Downloading tensorboard-2.20.0-py3-none-any.whl.metadata (1.8 kB)\n",
      "Collecting keras>=3.10.0 (from tensorflow)\n",
      "  Downloading keras-3.11.3-py3-none-any.whl.metadata (5.9 kB)\n",
      "Requirement already satisfied: numpy>=1.26.0 in /home/roshan/anaconda3/lib/python3.13/site-packages (from tensorflow) (2.1.3)\n",
      "Requirement already satisfied: h5py>=3.11.0 in /home/roshan/anaconda3/lib/python3.13/site-packages (from tensorflow) (3.12.1)\n",
      "Collecting ml_dtypes<1.0.0,>=0.5.1 (from tensorflow)\n",
      "  Downloading ml_dtypes-0.5.3-cp313-cp313-manylinux_2_27_x86_64.manylinux_2_28_x86_64.whl.metadata (8.9 kB)\n",
      "Requirement already satisfied: charset-normalizer<4,>=2 in /home/roshan/anaconda3/lib/python3.13/site-packages (from requests<3,>=2.21.0->tensorflow) (3.3.2)\n",
      "Requirement already satisfied: idna<4,>=2.5 in /home/roshan/anaconda3/lib/python3.13/site-packages (from requests<3,>=2.21.0->tensorflow) (3.7)\n",
      "Requirement already satisfied: urllib3<3,>=1.21.1 in /home/roshan/anaconda3/lib/python3.13/site-packages (from requests<3,>=2.21.0->tensorflow) (2.3.0)\n",
      "Requirement already satisfied: certifi>=2017.4.17 in /home/roshan/anaconda3/lib/python3.13/site-packages (from requests<3,>=2.21.0->tensorflow) (2025.10.5)\n",
      "Requirement already satisfied: markdown>=2.6.8 in /home/roshan/anaconda3/lib/python3.13/site-packages (from tensorboard~=2.20.0->tensorflow) (3.8)\n",
      "Requirement already satisfied: pillow in /home/roshan/anaconda3/lib/python3.13/site-packages (from tensorboard~=2.20.0->tensorflow) (11.1.0)\n",
      "Collecting tensorboard-data-server<0.8.0,>=0.7.0 (from tensorboard~=2.20.0->tensorflow)\n",
      "  Downloading tensorboard_data_server-0.7.2-py3-none-manylinux_2_31_x86_64.whl.metadata (1.1 kB)\n",
      "Requirement already satisfied: werkzeug>=1.0.1 in /home/roshan/anaconda3/lib/python3.13/site-packages (from tensorboard~=2.20.0->tensorflow) (3.1.3)\n",
      "Requirement already satisfied: wheel<1.0,>=0.23.0 in /home/roshan/anaconda3/lib/python3.13/site-packages (from astunparse>=1.6.0->tensorflow) (0.45.1)\n",
      "Requirement already satisfied: rich in /home/roshan/anaconda3/lib/python3.13/site-packages (from keras>=3.10.0->tensorflow) (13.9.4)\n",
      "Collecting namex (from keras>=3.10.0->tensorflow)\n",
      "  Downloading namex-0.1.0-py3-none-any.whl.metadata (322 bytes)\n",
      "Collecting optree (from keras>=3.10.0->tensorflow)\n",
      "  Downloading optree-0.17.0-cp313-cp313-manylinux_2_27_x86_64.manylinux_2_28_x86_64.whl.metadata (33 kB)\n",
      "Requirement already satisfied: MarkupSafe>=2.1.1 in /home/roshan/anaconda3/lib/python3.13/site-packages (from werkzeug>=1.0.1->tensorboard~=2.20.0->tensorflow) (3.0.2)\n",
      "Requirement already satisfied: markdown-it-py>=2.2.0 in /home/roshan/anaconda3/lib/python3.13/site-packages (from rich->keras>=3.10.0->tensorflow) (2.2.0)\n",
      "Requirement already satisfied: pygments<3.0.0,>=2.13.0 in /home/roshan/anaconda3/lib/python3.13/site-packages (from rich->keras>=3.10.0->tensorflow) (2.19.1)\n",
      "Requirement already satisfied: mdurl~=0.1 in /home/roshan/anaconda3/lib/python3.13/site-packages (from markdown-it-py>=2.2.0->rich->keras>=3.10.0->tensorflow) (0.1.0)\n",
      "Downloading tensorflow-2.20.0-cp313-cp313-manylinux_2_17_x86_64.manylinux2014_x86_64.whl (620.8 MB)\n",
      "\u001b[2K   \u001b[38;2;249;38;114m━━━━━━━━━━━━━━━━━━━━━━━━━━\u001b[0m\u001b[38;5;237m╺\u001b[0m\u001b[38;5;237m━━━━━━━━━━━━━\u001b[0m \u001b[32m407.9/620.8 MB\u001b[0m \u001b[31m11.1 MB/s\u001b[0m eta \u001b[36m0:00:20\u001b[0m:20\u001b[0m"
     ]
    }
   ],
   "source": [
    "pip install tensorflow"
   ]
  },
  {
   "cell_type": "code",
   "execution_count": null,
   "metadata": {
    "id": "3EB8qWlpT97a"
   },
   "outputs": [],
   "source": [
    "import numpy as np\n",
    "import pandas as pd\n",
    "import tensorflow as tf\n",
    "from tensorflow import keras\n",
    "import matplotlib.pyplot as plt\n",
    "\n",
    "import plotly.graph_objects as go\n",
    "from plotly.subplots import make_subplots"
   ]
  },
  {
   "cell_type": "markdown",
   "metadata": {
    "id": "lDdiceLEYuEN"
   },
   "source": [
    "#### 1.2) Load Dataset\n",
    "\n",
    "Load the **Fashion-MNIST** dataset from Keras, splitting it into:  \n",
    "- `train_images`, `train_labels` → training set  \n",
    "- `test_images`, `test_labels` → test set  \n"
   ]
  },
  {
   "cell_type": "code",
   "execution_count": null,
   "metadata": {
    "colab": {
     "base_uri": "https://localhost:8080/"
    },
    "id": "FLhqm_OwT-27",
    "outputId": "7e50c7b9-6adb-4ae4-d100-117da73cc1a8"
   },
   "outputs": [],
   "source": [
    "(train_images, train_labels), (test_images, test_labels) = keras.datasets.fashion_mnist.load_data()"
   ]
  },
  {
   "cell_type": "markdown",
   "metadata": {
    "id": "gWFb4KiKYz8k"
   },
   "source": [
    "#### 1.3) Normalize Data\n",
    "\n",
    "Scale pixel values from **0–255** to the range **0–1** for faster and more stable training.  \n",
    "\n",
    "**Example:**  \n",
    "- Before: a pixel value could be `200`  \n",
    "- After: `200 / 255 ≈ 0.78`  \n"
   ]
  },
  {
   "cell_type": "code",
   "execution_count": null,
   "metadata": {
    "id": "VpBVd73PUARF"
   },
   "outputs": [],
   "source": [
    "train_images = train_images / 255.0\n",
    "test_images = test_images / 255.0"
   ]
  },
  {
   "cell_type": "markdown",
   "metadata": {
    "id": "eARU4Ml3Y7ZY"
   },
   "source": [
    "#### 1.4) Reshape Data\n",
    "\n",
    "Reshape images to **28×28×1** by adding a channel dimension, making them compatible with CNN layers.  \n",
    "\n",
    "**Example:**  \n",
    "- Before: `(60000, 28, 28)` → 60,000 grayscale images without channel info  \n",
    "- After: `(60000, 28, 28, 1)` → channel dimension (`1`) added for CNN input  \n"
   ]
  },
  {
   "cell_type": "code",
   "execution_count": null,
   "metadata": {
    "id": "0YPN1XfvUDhW"
   },
   "outputs": [],
   "source": [
    "train_images = train_images.reshape((train_images.shape[0], 28, 28, 1))\n",
    "test_images = test_images.reshape((test_images.shape[0], 28, 28, 1))"
   ]
  },
  {
   "cell_type": "markdown",
   "metadata": {
    "id": "HjRlf9-EZDKi"
   },
   "source": [
    "#### 1.5) One-Hot Encode Labels\n",
    "\n",
    "Convert class labels (0–9) into **one-hot encoded vectors** with 10 output classes, required for multi-class classification.  \n",
    "\n",
    "**Example:**  \n",
    "- Original label: `3`  \n",
    "- One-hot encoded: `[0, 0, 0, 1, 0, 0, 0, 0, 0, 0]`  \n"
   ]
  },
  {
   "cell_type": "code",
   "execution_count": null,
   "metadata": {
    "id": "IXAUOyMoUErl"
   },
   "outputs": [],
   "source": [
    "train_labels_one_hot = keras.utils.to_categorical(train_labels, num_classes=10)\n",
    "test_labels_one_hot = keras.utils.to_categorical(test_labels, num_classes=10)"
   ]
  },
  {
   "cell_type": "markdown",
   "metadata": {
    "id": "tDoWjyciZUBL"
   },
   "source": [
    "#### 1.6) Verify Dataset Shapes\n",
    "\n",
    "Print the shapes of images and labels after preprocessing to confirm everything is in the expected format.  \n",
    "\n",
    "**Example output:**  \n",
    "- Training images shape: `(60000, 28, 28, 1)`  \n",
    "- Testing images shape: `(10000, 28, 28, 1)`  \n",
    "- Training labels shape: `(60000, 10)`  \n",
    "- Testing labels shape: `(10000, 10)`  \n"
   ]
  },
  {
   "cell_type": "code",
   "execution_count": null,
   "metadata": {
    "colab": {
     "base_uri": "https://localhost:8080/"
    },
    "id": "E7-bd9rhUFwj",
    "outputId": "54aea0a4-1baf-4a95-8c8f-33ae1a49c3e6"
   },
   "outputs": [],
   "source": [
    "print(\"Training images shape:\", train_images.shape)\n",
    "print(\"Testing images shape:\", test_images.shape)\n",
    "print(\"Training labels shape:\", train_labels_one_hot.shape)\n",
    "print(\"Testing labels shape:\", test_labels_one_hot.shape)"
   ]
  },
  {
   "cell_type": "markdown",
   "metadata": {
    "id": "fa61470f"
   },
   "source": [
    "### 2. Model Building"
   ]
  },
  {
   "cell_type": "markdown",
   "metadata": {
    "id": "i53jkqYtUXwX"
   },
   "source": [
    "#### 2.1) Basic ANN Model"
   ]
  },
  {
   "cell_type": "markdown",
   "metadata": {
    "id": "yoPgGlRReUBx"
   },
   "source": [
    "- **Flatten (28×28→784)** → 0 params  \n",
    "- **Dense (128, ReLU)** → 100,480 params  \n",
    "- **Dense (64, ReLU)** → 8,256 params  \n",
    "- **Dense (10, Softmax)** → 650 params  \n",
    "\n",
    "**Total params:** ~109K  "
   ]
  },
  {
   "cell_type": "code",
   "execution_count": null,
   "metadata": {
    "colab": {
     "base_uri": "https://localhost:8080/",
     "height": 320
    },
    "id": "9c0017b8",
    "outputId": "3415455d-310c-4d41-bd89-79eda2ee2aec"
   },
   "outputs": [],
   "source": [
    "ann_model = keras.Sequential([\n",
    "    keras.layers.Flatten(input_shape=(28, 28, 1)),\n",
    "    keras.layers.Dense(128, activation='relu'),\n",
    "    keras.layers.Dense(64, activation='relu'),\n",
    "    keras.layers.Dense(10, activation='softmax')\n",
    "])\n",
    "\n",
    "ann_model.compile(optimizer='adam',\n",
    "                  loss='categorical_crossentropy',\n",
    "                  metrics=['accuracy'])\n",
    "\n",
    "ann_model.summary()"
   ]
  },
  {
   "cell_type": "markdown",
   "metadata": {
    "id": "8d5f1731"
   },
   "source": [
    "#### 2.2) Basic CNN Model"
   ]
  },
  {
   "cell_type": "markdown",
   "metadata": {
    "id": "RoLST4EzeWbK"
   },
   "source": [
    "- **Conv2D (32, 3×3) + MaxPool** → 320 params  \n",
    "- **Conv2D (64, 3×3) + MaxPool** → 18,496 params  \n",
    "- **Flatten**  \n",
    "- **Dense (64, ReLU)** → 102,464 params  \n",
    "- **Dense (10, Softmax)** → 650 params  \n",
    "\n",
    "**Total params:** ~121K  "
   ]
  },
  {
   "cell_type": "code",
   "execution_count": null,
   "metadata": {
    "colab": {
     "base_uri": "https://localhost:8080/",
     "height": 419
    },
    "id": "14857787",
    "outputId": "8e09c50d-d000-44f1-cbd2-2fd3458b0021"
   },
   "outputs": [],
   "source": [
    "basic_cnn_model = keras.Sequential([\n",
    "    keras.layers.Conv2D(32, (3, 3), activation='relu', input_shape=(28, 28, 1)),\n",
    "    keras.layers.MaxPooling2D((2, 2)),\n",
    "    keras.layers.Conv2D(64, (3, 3), activation='relu'),\n",
    "    keras.layers.MaxPooling2D((2, 2)),\n",
    "    keras.layers.Flatten(),\n",
    "    keras.layers.Dense(64, activation='relu'),\n",
    "    keras.layers.Dense(10, activation='softmax')\n",
    "])\n",
    "\n",
    "\n",
    "basic_cnn_model.compile(optimizer='adam',\n",
    "                        loss='categorical_crossentropy',\n",
    "                        metrics=['accuracy'])\n",
    "\n",
    "basic_cnn_model.summary()"
   ]
  },
  {
   "cell_type": "markdown",
   "metadata": {
    "id": "fe703f45"
   },
   "source": [
    "#### 2.3) Deeper CNN Model"
   ]
  },
  {
   "cell_type": "markdown",
   "metadata": {
    "id": "sfelhQFFeYjZ"
   },
   "source": [
    "- **Conv2D (32, 3×3) + BN + MaxPool + Dropout** → 320 + 64 params  \n",
    "- **Conv2D (64, 3×3) + BN + MaxPool + Dropout** → 18,496 + 128 params  \n",
    "- **Conv2D (128, 3×3) + BN + MaxPool + Dropout** → 73,856 + 256 params  \n",
    "- **Flatten**  \n",
    "- **Dense (128, ReLU) + BN + Dropout** → 147,584 + 256 params  \n",
    "- **Dense (10, Softmax)** → 1,290 params  \n",
    "\n",
    "**Total params:** ~242K  "
   ]
  },
  {
   "cell_type": "code",
   "execution_count": null,
   "metadata": {
    "colab": {
     "base_uri": "https://localhost:8080/",
     "height": 760
    },
    "id": "7c6a1e85",
    "outputId": "d80a69eb-9c25-43ca-e2b9-f97b31c1b417"
   },
   "outputs": [],
   "source": [
    "deeper_cnn_model = keras.Sequential([\n",
    "    keras.layers.Conv2D(32, (3, 3), activation='relu', input_shape=(28, 28, 1)),\n",
    "    keras.layers.BatchNormalization(),\n",
    "    keras.layers.MaxPooling2D((2, 2)),\n",
    "    keras.layers.Dropout(0.25),\n",
    "\n",
    "    keras.layers.Conv2D(64, (3, 3), activation='relu'),\n",
    "    keras.layers.BatchNormalization(),\n",
    "    keras.layers.MaxPooling2D((2, 2)),\n",
    "    keras.layers.Dropout(0.25),\n",
    "\n",
    "    keras.layers.Conv2D(128, (3, 3), activation='relu'),\n",
    "    keras.layers.BatchNormalization(),\n",
    "    keras.layers.MaxPooling2D((2, 2)),\n",
    "    keras.layers.Dropout(0.25),\n",
    "\n",
    "    keras.layers.Flatten(),\n",
    "    keras.layers.Dense(128, activation='relu'),\n",
    "    keras.layers.BatchNormalization(),\n",
    "    keras.layers.Dropout(0.5),\n",
    "\n",
    "    keras.layers.Dense(10, activation='softmax')\n",
    "])\n",
    "\n",
    "deeper_cnn_model.compile(optimizer='adam',\n",
    "                         loss='categorical_crossentropy',\n",
    "                         metrics=['accuracy'])\n",
    "\n",
    "deeper_cnn_model.summary()"
   ]
  },
  {
   "cell_type": "markdown",
   "metadata": {
    "id": "ffb65dc0"
   },
   "source": [
    "### 3. Train models"
   ]
  },
  {
   "cell_type": "markdown",
   "metadata": {
    "id": "stP2wbh_XQE_"
   },
   "source": [
    "#### 3.1) Training ANN Model"
   ]
  },
  {
   "cell_type": "markdown",
   "metadata": {
    "id": "NhaurqFKd8zI"
   },
   "source": [
    "- **EarlyStopping**: monitors validation loss, stops if no improvement for 5 epochs, restores best weights.  \n",
    "- **ModelCheckpoint**: saves best ANN weights (`best_ann_model_weights.weights.h5`) based on validation loss.  \n",
    "- **Training**:  \n",
    "  - Epochs: up to 30 (early stopping controls actual run)  \n",
    "  - Batch size: 64  \n",
    "  - Validation on test set  \n",
    "  - Callbacks: EarlyStopping + ModelCheckpoint  "
   ]
  },
  {
   "cell_type": "code",
   "execution_count": null,
   "metadata": {
    "colab": {
     "base_uri": "https://localhost:8080/"
    },
    "id": "4VJTWjvvQevB",
    "outputId": "a3476840-b525-4152-dc26-ec917283d6c6"
   },
   "outputs": [],
   "source": [
    "early_stopping = keras.callbacks.EarlyStopping(\n",
    "    monitor='val_loss',\n",
    "    patience=5,\n",
    "    restore_best_weights=True\n",
    ")\n",
    "\n",
    "model_checkpoint_ann = keras.callbacks.ModelCheckpoint(\n",
    "    filepath='best_ann_model_weights.weights.h5',\n",
    "    monitor='val_loss',\n",
    "    save_best_only=True,\n",
    "    save_weights_only=True,\n",
    "    mode='min',\n",
    "    verbose=1\n",
    ")\n",
    "\n",
    "print(\"Training ANN model...\")\n",
    "ann_history = ann_model.fit(\n",
    "    train_images,\n",
    "    train_labels_one_hot,\n",
    "    epochs=30,\n",
    "    batch_size=64,\n",
    "    validation_data=(test_images, test_labels_one_hot),\n",
    "    callbacks=[early_stopping, model_checkpoint_ann]\n",
    ")\n",
    "print(\"ANN model training finished.\")"
   ]
  },
  {
   "cell_type": "markdown",
   "metadata": {
    "id": "OeTKHRl3YBmL"
   },
   "source": [
    "#### 3.2) Training Basic CNN Model"
   ]
  },
  {
   "cell_type": "markdown",
   "metadata": {
    "id": "0ZbylWgGd_7M"
   },
   "source": [
    "- **ModelCheckpoint**: saves best Basic CNN weights (`best_basic_cnn_model_weights.weights.h5`) based on validation loss.  \n",
    "- **Training**:  \n",
    "  - Epochs: up to 30 (early stopping controls actual run)  \n",
    "  - Batch size: 64  \n",
    "  - Validation on test set  \n",
    "  - Callbacks: EarlyStopping + ModelCheckpoint"
   ]
  },
  {
   "cell_type": "code",
   "execution_count": null,
   "metadata": {
    "colab": {
     "base_uri": "https://localhost:8080/"
    },
    "id": "979a9980",
    "outputId": "40882003-7025-4969-a25c-f0dc984b89fc"
   },
   "outputs": [],
   "source": [
    "model_checkpoint_basic_cnn = keras.callbacks.ModelCheckpoint(\n",
    "    filepath='best_basic_cnn_model_weights.weights.h5',\n",
    "    monitor='val_loss',\n",
    "    save_best_only=True,\n",
    "    save_weights_only=True,\n",
    "    mode='min',\n",
    "    verbose=1\n",
    ")\n",
    "\n",
    "print(\"Training Basic CNN model...\")\n",
    "basic_cnn_history = basic_cnn_model.fit(\n",
    "    train_images,\n",
    "    train_labels_one_hot,\n",
    "    epochs=30,\n",
    "    batch_size=64,\n",
    "    validation_data=(test_images, test_labels_one_hot),\n",
    "    callbacks=[early_stopping, model_checkpoint_basic_cnn]\n",
    ")\n",
    "print(\"Basic CNN model training finished.\")"
   ]
  },
  {
   "cell_type": "markdown",
   "metadata": {
    "id": "3566a954"
   },
   "source": [
    "#### 3.3) Training Deeper CNN Model"
   ]
  },
  {
   "cell_type": "markdown",
   "metadata": {
    "id": "qtsdg-QXePFY"
   },
   "source": [
    "- **ModelCheckpoint**: saves best Deeper CNN weights (`best_deeper_cnn_model_weights.weights.h5`) based on validation loss.  \n",
    "- **Training**:  \n",
    "  - Epochs: up to 30 (early stopping controls actual run)  \n",
    "  - Batch size: 64  \n",
    "  - Validation on test set  \n",
    "  - Callbacks: EarlyStopping + ModelCheckpoint  "
   ]
  },
  {
   "cell_type": "code",
   "execution_count": null,
   "metadata": {
    "colab": {
     "base_uri": "https://localhost:8080/"
    },
    "id": "6f23eb27",
    "outputId": "dffcf8c0-7ed7-4c2a-9ccd-064df69ae5e8"
   },
   "outputs": [],
   "source": [
    "model_checkpoint_deeper_cnn = keras.callbacks.ModelCheckpoint(\n",
    "    filepath='best_deeper_cnn_model_weights.weights.h5',\n",
    "    monitor='val_loss',\n",
    "    save_best_only=True,\n",
    "    save_weights_only=True,\n",
    "    mode='min',\n",
    "    verbose=1\n",
    ")\n",
    "\n",
    "print(\"Training Deeper CNN model...\")\n",
    "deeper_cnn_history = deeper_cnn_model.fit(\n",
    "    train_images,\n",
    "    train_labels_one_hot,\n",
    "    epochs=30,\n",
    "    batch_size=64,\n",
    "    validation_data=(test_images, test_labels_one_hot),\n",
    "    callbacks=[early_stopping, model_checkpoint_deeper_cnn]\n",
    ")\n",
    "print(\"Deeper CNN model training finished.\")"
   ]
  },
  {
   "cell_type": "markdown",
   "metadata": {
    "id": "ZPXbOARBlCrg"
   },
   "source": [
    "### 4. Model Evaluation"
   ]
  },
  {
   "cell_type": "markdown",
   "metadata": {
    "id": "p7VnenQV00J-"
   },
   "source": [
    "#### 4.1) Model Evaluation Code Explanation\n",
    "\n",
    "Import utilities → Load weights (ANN, Basic CNN, Deeper CNN) → Evaluate on test set → Get loss & accuracy → Print results"
   ]
  },
  {
   "cell_type": "code",
   "execution_count": null,
   "metadata": {
    "colab": {
     "base_uri": "https://localhost:8080/",
     "height": 583
    },
    "id": "80c0f0b0",
    "outputId": "1ce66228-2f66-4c0f-9123-f270a8e66c90"
   },
   "outputs": [],
   "source": [
    "import matplotlib.pyplot as plt\n",
    "import numpy as np\n",
    "from sklearn.metrics import confusion_matrix, classification_report\n",
    "\n",
    "ann_model.load_weights('best_ann_model_weights.weights.h5')\n",
    "basic_cnn_model.load_weights('best_basic_cnn_model_weights.weights.h5')\n",
    "deeper_cnn_model.load_weights('best_deeper_cnn_model_weights.weights.h5')\n",
    "\n",
    "loss_ann, accuracy_ann = ann_model.evaluate(test_images, test_labels_one_hot, verbose=0)\n",
    "loss_basic_cnn, accuracy_basic_cnn = basic_cnn_model.evaluate(test_images, test_labels_one_hot, verbose=0)\n",
    "loss_deeper_cnn, accuracy_deeper_cnn = deeper_cnn_model.evaluate(test_images, test_labels_one_hot, verbose=0)\n",
    "\n",
    "\n",
    "import matplotlib.pyplot as plt\n",
    "import numpy as np\n",
    "\n",
    "# Data\n",
    "models = ['ANN', 'Basic CNN', 'Deeper CNN']\n",
    "losses = [loss_ann, loss_basic_cnn, loss_deeper_cnn]\n",
    "accuracies = [accuracy_ann, accuracy_basic_cnn, accuracy_deeper_cnn]\n",
    "\n",
    "# Dark mode style\n",
    "plt.style.use(\"dark_background\")\n",
    "\n",
    "fig, axes = plt.subplots(1, 2, figsize=(12, 5))\n",
    "\n",
    "# Loss plot\n",
    "axes[0].bar(models, losses, color='#FF6F61', edgecolor='white')\n",
    "axes[0].set_title('Model Test Loss', fontsize=14, fontweight='bold')\n",
    "axes[0].set_ylabel('Loss', fontsize=12)\n",
    "axes[0].grid(True, linestyle='--', alpha=0.4)\n",
    "\n",
    "# Accuracy plot\n",
    "axes[1].bar(models, accuracies, color='#6BCB77', edgecolor='white')\n",
    "axes[1].set_title('Model Test Accuracy', fontsize=14, fontweight='bold')\n",
    "axes[1].set_ylabel('Accuracy', fontsize=12)\n",
    "axes[1].grid(True, linestyle='--', alpha=0.4)\n",
    "\n",
    "# Overall title\n",
    "plt.suptitle(\"✨ Model Performance Comparison ✨\", fontsize=16, fontweight='bold')\n",
    "\n",
    "plt.tight_layout()\n",
    "plt.show()\n"
   ]
  },
  {
   "cell_type": "markdown",
   "metadata": {
    "id": "Kfxk-yy71euJ"
   },
   "source": [
    "#### 4.2) Model Evaluation (Confusion Matrix & Report)\n",
    "\n",
    "- Predict test images (ANN, Basic CNN, Deeper CNN)  \n",
    "- Convert one-hot labels to integers  \n",
    "- Get predicted labels with `argmax`  \n",
    "- Print confusion matrix & classification report for each model\n"
   ]
  },
  {
   "cell_type": "code",
   "execution_count": null,
   "metadata": {
    "colab": {
     "base_uri": "https://localhost:8080/",
     "height": 417
    },
    "id": "6caea998",
    "outputId": "12bcba58-62cb-4599-ed9e-82195b27522e"
   },
   "outputs": [],
   "source": [
    "import numpy as np\n",
    "import matplotlib.pyplot as plt\n",
    "import seaborn as sns\n",
    "from sklearn.metrics import confusion_matrix\n",
    "\n",
    "# Predictions\n",
    "ann_predictions = ann_model.predict(test_images)\n",
    "basic_cnn_predictions = basic_cnn_model.predict(test_images)\n",
    "deeper_cnn_predictions = deeper_cnn_model.predict(test_images)\n",
    "\n",
    "# Convert labels\n",
    "test_labels_int = np.argmax(test_labels_one_hot, axis=1)\n",
    "\n",
    "ann_predicted_labels = np.argmax(ann_predictions, axis=1)\n",
    "basic_cnn_predicted_labels = np.argmax(basic_cnn_predictions, axis=1)\n",
    "deeper_cnn_predicted_labels = np.argmax(deeper_cnn_predictions, axis=1)\n",
    "\n",
    "# Confusion matrices\n",
    "cm_ann = confusion_matrix(test_labels_int, ann_predicted_labels)\n",
    "cm_basic = confusion_matrix(test_labels_int, basic_cnn_predicted_labels)\n",
    "cm_deeper = confusion_matrix(test_labels_int, deeper_cnn_predicted_labels)\n",
    "\n",
    "# Plot side by side\n",
    "fig, axes = plt.subplots(1, 3, figsize=(18, 5))\n",
    "\n",
    "sns.heatmap(cm_ann, annot=True, fmt=\"d\", cmap=\"Blues\", ax=axes[0])\n",
    "axes[0].set_title(\"ANN Model\")\n",
    "axes[0].set_xlabel(\"Predicted\")\n",
    "axes[0].set_ylabel(\"Actual\")\n",
    "\n",
    "sns.heatmap(cm_basic, annot=True, fmt=\"d\", cmap=\"Blues\", ax=axes[1])\n",
    "axes[1].set_title(\"Basic CNN Model\")\n",
    "axes[1].set_xlabel(\"Predicted\")\n",
    "axes[1].set_ylabel(\"Actual\")\n",
    "\n",
    "sns.heatmap(cm_deeper, annot=True, fmt=\"d\", cmap=\"Blues\", ax=axes[2])\n",
    "axes[2].set_title(\"Deeper CNN Model\")\n",
    "axes[2].set_xlabel(\"Predicted\")\n",
    "axes[2].set_ylabel(\"Actual\")\n",
    "\n",
    "plt.tight_layout()\n",
    "plt.show()"
   ]
  },
  {
   "cell_type": "markdown",
   "metadata": {
    "id": "Z_96B2DvnRe2"
   },
   "source": [
    "#### 4.3) Model Comparison\n",
    "\n",
    "- Created a dataframe to store **test loss** and **test accuracy** for ANN, Basic CNN, and Deeper CNN.  \n",
    "- Plotted training history for each model (accuracy & loss vs. epochs).  \n",
    "- Helps compare how models learn and generalize over time.  "
   ]
  },
  {
   "cell_type": "code",
   "execution_count": null,
   "metadata": {
    "colab": {
     "base_uri": "https://localhost:8080/",
     "height": 517
    },
    "id": "3c8abd42",
    "outputId": "69ccaeb7-4c14-4656-a4da-16ca2ecb3581"
   },
   "outputs": [],
   "source": [
    "import plotly.graph_objects as go\n",
    "from plotly.subplots import make_subplots\n",
    "\n",
    "models = {\n",
    "    \"ANN\": (\"cyan\", ann_history),\n",
    "    \"Basic CNN\": (\"magenta\", basic_cnn_history),\n",
    "    \"Deeper CNN\": (\"yellow\", deeper_cnn_history)\n",
    "}\n",
    "\n",
    "performance_data = {\n",
    "    'Model': ['ANN', 'Basic CNN', 'Deeper CNN'],\n",
    "    'Test Loss': [loss_ann, loss_basic_cnn, loss_deeper_cnn],\n",
    "    'Test Accuracy': [accuracy_ann, accuracy_basic_cnn, accuracy_deeper_cnn]\n",
    "}\n",
    "\n",
    "performance_df = pd.DataFrame(performance_data)\n",
    "\n",
    "fig = make_subplots(rows=1, cols=2, subplot_titles=('Accuracy', 'Loss'))\n",
    "\n",
    "for name, (color, history) in models.items():\n",
    "    # Accuracy\n",
    "    fig.add_trace(go.Scatter(y=history.history['accuracy'], mode='lines',\n",
    "                             name=name, line=dict(color=color, dash='solid')), row=1, col=1)\n",
    "    fig.add_trace(go.Scatter(y=history.history['val_accuracy'], mode='lines',\n",
    "                             name=name, line=dict(color=color, dash='dot'), showlegend=False), row=1, col=1)\n",
    "\n",
    "    # Loss\n",
    "    fig.add_trace(go.Scatter(y=history.history['loss'], mode='lines',\n",
    "                             name=name, line=dict(color=color, dash='solid')), row=1, col=2)\n",
    "    fig.add_trace(go.Scatter(y=history.history['val_loss'], mode='lines',\n",
    "                             name=name, line=dict(color=color, dash='dot'), showlegend=False), row=1, col=2)\n",
    "\n",
    "fig.update_layout(\n",
    "    title_text=\"Model Comparison: Accuracy & Loss (Train=Solid, Val=Dot)\",\n",
    "    height=500,\n",
    "    width=1200,\n",
    "    template=\"plotly_dark\"\n",
    ")\n",
    "\n",
    "fig.show()"
   ]
  },
  {
   "cell_type": "markdown",
   "metadata": {
    "id": "hxPlh1hN3T4M"
   },
   "source": [
    "#### 4.4) Predictions\n",
    "\n",
    "This code:\n",
    "- Uses the trained **Basic CNN model** to predict on test images.  \n",
    "- Identifies **correctly** and **incorrectly** classified samples.  \n",
    "- Randomly selects 100 correct and 100 incorrect predictions.  \n",
    "- Displays them in a **20×10 grid**:  \n",
    "  - ✅ Correct predictions → **Green title** (only predicted label).  \n",
    "  - ❌ Incorrect predictions → **Red title** (Predicted vs True label).  \n"
   ]
  },
  {
   "cell_type": "code",
   "execution_count": null,
   "metadata": {
    "colab": {
     "base_uri": "https://localhost:8080/",
     "height": 679
    },
    "id": "8beadb19",
    "outputId": "7e4124fc-1111-48a1-8cf6-e4cefa8f52a2"
   },
   "outputs": [],
   "source": [
    "basic_cnn_predictions = basic_cnn_model.predict(test_images)\n",
    "basic_cnn_predicted_labels = np.argmax(basic_cnn_predictions, axis=1)\n",
    "\n",
    "# Find correctly and incorrectly classified images\n",
    "correctly_classified_indices = np.where(basic_cnn_predicted_labels == test_labels)[0]\n",
    "incorrectly_classified_indices = np.where(basic_cnn_predicted_labels != test_labels)[0]\n",
    "\n",
    "# Define class names for Fashion-MNIST\n",
    "class_names = ['T-shirt/top', 'Trouser', 'Pullover', 'Dress', 'Coat',\n",
    "               'Sandal', 'Shirt', 'Sneaker', 'Bag', 'Ankle boot']\n",
    "\n",
    "# Select a mix of correctly and incorrectly classified images\n",
    "num_correct_to_show = 100\n",
    "num_incorrect_to_show = 100\n",
    "\n",
    "# Ensure we don't try to show more images than available\n",
    "num_correct_to_show = min(num_correct_to_show, len(correctly_classified_indices))\n",
    "num_incorrect_to_show = min(num_incorrect_to_show, len(incorrectly_classified_indices))\n",
    "\n",
    "selected_correct_indices = np.random.choice(correctly_classified_indices, num_correct_to_show, replace=False)\n",
    "selected_incorrect_indices = np.random.choice(incorrectly_classified_indices, num_incorrect_to_show, replace=False)\n",
    "\n",
    "# Combine and shuffle the indices\n",
    "all_indices = np.concatenate((selected_correct_indices, selected_incorrect_indices))\n",
    "np.random.shuffle(all_indices)\n",
    "\n",
    "# Display images in a 20x10 grid\n",
    "num_cols = 20\n",
    "num_rows = 10\n",
    "num_images_to_show = num_correct_to_show + num_incorrect_to_show\n",
    "\n",
    "fig, axes = plt.subplots(num_rows, num_cols, figsize=(2 * num_cols, 2 * num_rows))\n",
    "fig.suptitle(\"Basic CNN Predictions (Mix of Correct and Incorrect)\", fontsize=18, y=1.02)\n",
    "\n",
    "for i, idx in enumerate(all_indices[:num_images_to_show]):\n",
    "    row = i // num_cols\n",
    "    col = i % num_cols\n",
    "    axes[row, col].imshow(test_images[idx].reshape(28, 28), cmap='gray')\n",
    "\n",
    "    pred = class_names[basic_cnn_predicted_labels[idx]]\n",
    "    true = class_names[test_labels[idx]]\n",
    "\n",
    "    if basic_cnn_predicted_labels[idx] == test_labels[idx]:\n",
    "        color = \"green\"\n",
    "        title = f\"{pred}\"\n",
    "    else:\n",
    "        color = \"red\"\n",
    "        title = f\"P:{pred}\\nT:{true}\"\n",
    "\n",
    "    axes[row, col].set_title(title, fontsize=8, color=color)\n",
    "    axes[row, col].axis(\"off\")\n",
    "\n",
    "plt.tight_layout()\n",
    "plt.show()"
   ]
  },
  {
   "cell_type": "markdown",
   "metadata": {
    "id": "4917e428"
   },
   "source": [
    "## Project Summary and Conclusion\n",
    "\n",
    "This project successfully implemented and compared three different deep learning models (ANN, Basic CNN, and Deeper CNN) for classifying images from the Fashion-MNIST dataset.\n",
    "\n",
    "**Summary of Work:**\n",
    "\n",
    "1.  **Data Preparation:** The Fashion-MNIST dataset was loaded, normalized, reshaped, and one-hot encoded, preparing it for use with the different model architectures.\n",
    "2.  **Model Development:** Three models of increasing complexity were defined: a basic Artificial Neural Network (ANN), a basic Convolutional Neural Network (CNN), and a deeper CNN with additional layers, batch normalization, and dropout.\n",
    "3.  **Model Training:** Each model was trained using the preprocessed training data with Early Stopping and Model Checkpointing to prevent overfitting and save the best performing weights based on validation loss.\n",
    "4.  **Model Evaluation:** The trained models were evaluated on the test set. Performance metrics (loss and accuracy) were calculated, and the training history was visualized. Confusion matrices were generated to analyze class-specific performance.\n",
    "5.  **Prediction Analysis:** Predictions were made using the Basic CNN model, and examples of correctly and incorrectly classified images were visualized to gain insights into the model's strengths and weaknesses.\n",
    "\n",
    "**Key Findings and Conclusion:**\n",
    "\n",
    "Based on the evaluation results:\n",
    "\n",
    "*   The **Basic CNN model** generally achieved the best balance of performance (highest accuracy, lowest loss) on the test set compared to the ANN and Deeper CNN models.\n",
    "*   The **ANN model** performed reasonably well but was outperformed by both CNN architectures, highlighting the advantage of convolutional layers for image classification tasks.\n",
    "*   The **Deeper CNN model**, despite its increased complexity, did not consistently outperform the Basic CNN model on this dataset. This could be due to various factors such as the dataset size, the architecture choices, or the regularization applied. For this particular task and dataset, the increased complexity of the deeper model might not have been necessary or could have led to some overfitting despite the regularization techniques.\n",
    "\n",
    "In conclusion, the Basic CNN model demonstrated superior performance for this Fashion-MNIST classification task, suggesting that a moderate level of complexity with convolutional layers is effective for this dataset. Further tuning of hyperparameters or architectural variations might potentially improve performance across all models, but the current results clearly show the benefits of CNNs over ANNs for image data."
   ]
  },
  {
   "cell_type": "markdown",
   "metadata": {
    "id": "716b538e"
   },
   "source": [
    "## Assignment: CIFAR-100 Image Classification\n",
    "\n",
    "Your task is to apply the concepts and techniques learned in this Fashion-MNIST project to the CIFAR-100 dataset. CIFAR-100 is a dataset consisting of 60,000 32x32 color images in 100 classes, with 600 images per class. There are 50,000 training images and 10,000 test images.\n",
    "\n",
    "Follow these steps:\n",
    "\n",
    "1.  **Dataset Setup:**\n",
    "    *   Load the CIFAR-100 dataset.\n",
    "    *   Preprocess the data (normalize pixel values, one-hot encode labels). Remember that CIFAR-100 images are 32x32 color images, so the input shape will be different from Fashion-MNIST.\n",
    "    *   Verify the shapes of the processed data.\n",
    "\n",
    "2.  **Model Building:**\n",
    "    *   Adapt the ANN and CNN model architectures for the CIFAR-100 dataset. Consider that CIFAR-100 images are color (3 channels) and have a different resolution (32x32). You might need to adjust the input layer and potentially the number of filters or layers in the CNNs for better performance on a more complex dataset.\n",
    "\n",
    "3.  **Model Training:**\n",
    "    *   Train the models using the preprocessed CIFAR-100 training data. Use Early Stopping and Model Checkpointing as implemented before.\n",
    "\n",
    "4.  **Model Evaluation:**\n",
    "    *   Evaluate the trained models on the CIFAR-100 test set. Compare their performance using loss and accuracy.\n",
    "    *   Visualize training history and confusion matrices.\n",
    "\n",
    "5.  **Prediction Analysis:**\n",
    "    *   Choose the best performing model and analyze its predictions on the CIFAR-100 test set.\n",
    "\n",
    "**Goal:** To understand how model complexity and architecture choices impact performance on a more challenging image classification dataset like CIFAR-100."
   ]
  },
  {
   "cell_type": "code",
   "execution_count": null,
   "metadata": {
    "colab": {
     "base_uri": "https://localhost:8080/"
    },
    "id": "dfc37839",
    "outputId": "7590491e-bc9f-4471-f62d-3d8253949c40"
   },
   "outputs": [],
   "source": [
    "import keras\n",
    "\n",
    "(cifar100_train_images, cifar100_train_labels), (cifar100_test_images, cifar100_test_labels) = keras.datasets.cifar100.load_data()\n",
    "\n",
    "print(\"CIFAR-100 Training images shape:\", cifar100_train_images.shape)\n",
    "print(\"CIFAR-100 Testing images shape:\", cifar100_test_images.shape)\n",
    "print(\"CIFAR-100 Training labels shape:\", cifar100_train_labels.shape)\n",
    "print(\"CIFAR-100 Testing labels shape:\", cifar100_test_labels.shape)"
   ]
  },
  {
   "cell_type": "code",
   "execution_count": null,
   "metadata": {},
   "outputs": [],
   "source": []
  },
  {
   "cell_type": "code",
   "execution_count": null,
   "metadata": {},
   "outputs": [],
   "source": []
  },
  {
   "cell_type": "code",
   "execution_count": null,
   "metadata": {},
   "outputs": [],
   "source": []
  },
  {
   "cell_type": "code",
   "execution_count": null,
   "metadata": {},
   "outputs": [],
   "source": []
  },
  {
   "cell_type": "code",
   "execution_count": null,
   "metadata": {},
   "outputs": [],
   "source": []
  },
  {
   "cell_type": "code",
   "execution_count": null,
   "metadata": {},
   "outputs": [],
   "source": []
  },
  {
   "cell_type": "code",
   "execution_count": null,
   "metadata": {},
   "outputs": [],
   "source": []
  },
  {
   "cell_type": "code",
   "execution_count": null,
   "metadata": {},
   "outputs": [],
   "source": []
  },
  {
   "cell_type": "code",
   "execution_count": null,
   "metadata": {},
   "outputs": [],
   "source": []
  },
  {
   "cell_type": "code",
   "execution_count": null,
   "metadata": {},
   "outputs": [],
   "source": []
  },
  {
   "cell_type": "code",
   "execution_count": null,
   "metadata": {},
   "outputs": [],
   "source": []
  },
  {
   "cell_type": "code",
   "execution_count": null,
   "metadata": {},
   "outputs": [],
   "source": []
  },
  {
   "cell_type": "code",
   "execution_count": null,
   "metadata": {},
   "outputs": [],
   "source": []
  },
  {
   "cell_type": "code",
   "execution_count": null,
   "metadata": {},
   "outputs": [],
   "source": []
  },
  {
   "cell_type": "code",
   "execution_count": null,
   "metadata": {},
   "outputs": [],
   "source": []
  },
  {
   "cell_type": "code",
   "execution_count": null,
   "metadata": {},
   "outputs": [],
   "source": []
  },
  {
   "cell_type": "code",
   "execution_count": null,
   "metadata": {},
   "outputs": [],
   "source": []
  },
  {
   "cell_type": "code",
   "execution_count": null,
   "metadata": {},
   "outputs": [],
   "source": []
  }
 ],
 "metadata": {
  "accelerator": "GPU",
  "colab": {
   "gpuType": "T4",
   "provenance": []
  },
  "kernelspec": {
   "display_name": "Python [conda env:base] *",
   "language": "python",
   "name": "conda-base-py"
  },
  "language_info": {
   "codemirror_mode": {
    "name": "ipython",
    "version": 3
   },
   "file_extension": ".py",
   "mimetype": "text/x-python",
   "name": "python",
   "nbconvert_exporter": "python",
   "pygments_lexer": "ipython3",
   "version": "3.13.5"
  }
 },
 "nbformat": 4,
 "nbformat_minor": 4
}
